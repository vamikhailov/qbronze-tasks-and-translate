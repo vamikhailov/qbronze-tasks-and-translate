{
 "cells": [
  {
   "cell_type": "markdown",
   "metadata": {},
   "source": [
    "<table width=\"100%\"> <tr>\n",
    "        <td  style=\"background-color:#ffffff;\">\n",
    "            <a href=\"https://qsoftware.lu.lv/index.php/qworld/\" target=\"_blank\"><img src=\"../images/qworld.jpg\" width=\"35%\" align=\"left\"> </a></td>\n",
    "        <td style=\"background-color:#ffffff;vertical-align:bottom;text-align:right;\">\n",
    "            prepared by Abuzer Yakaryilmaz (<a href=\"http://qworld.lu.lv/index.php/qlatvia/\" target=\"_blank\">QLatvia</a>)\n",
    "        </td>        \n",
    "</tr></table>"
   ]
  },
  {
   "cell_type": "markdown",
   "metadata": {},
   "source": [
    "<table width=\"100%\"><tr><td style=\"color:#bbbbbb;background-color:#ffffff;font-size:11px;font-style:italic;text-align:right;\">This cell contains some macros. If there is a problem with displaying mathematical formulas, please run this cell to load these macros. </td></tr></table>\n",
    "$ \\newcommand{\\bra}[1]{\\langle #1|} $\n",
    "$ \\newcommand{\\ket}[1]{|#1\\rangle} $\n",
    "$ \\newcommand{\\braket}[2]{\\langle #1|#2\\rangle} $\n",
    "$ \\newcommand{\\dot}[2]{ #1 \\cdot #2} $\n",
    "$ \\newcommand{\\biginner}[2]{\\left\\langle #1,#2\\right\\rangle} $\n",
    "$ \\newcommand{\\mymatrix}[2]{\\left( \\begin{array}{#1} #2\\end{array} \\right)} $\n",
    "$ \\newcommand{\\myvector}[1]{\\mymatrix{c}{#1}} $\n",
    "$ \\newcommand{\\myrvector}[1]{\\mymatrix{r}{#1}} $\n",
    "$ \\newcommand{\\mypar}[1]{\\left( #1 \\right)} $\n",
    "$ \\newcommand{\\mybigpar}[1]{ \\Big( #1 \\Big)} $\n",
    "$ \\newcommand{\\sqrttwo}{\\frac{1}{\\sqrt{2}}} $\n",
    "$ \\newcommand{\\dsqrttwo}{\\dfrac{1}{\\sqrt{2}}} $\n",
    "$ \\newcommand{\\onehalf}{\\frac{1}{2}} $\n",
    "$ \\newcommand{\\donehalf}{\\dfrac{1}{2}} $\n",
    "$ \\newcommand{\\hadamard}{ \\mymatrix{rr}{ \\sqrttwo & \\sqrttwo \\\\ \\sqrttwo & -\\sqrttwo }} $\n",
    "$ \\newcommand{\\vzero}{\\myvector{1\\\\0}} $\n",
    "$ \\newcommand{\\vone}{\\myvector{0\\\\1}} $\n",
    "$ \\newcommand{\\vhadamardzero}{\\myvector{ \\sqrttwo \\\\  \\sqrttwo } } $\n",
    "$ \\newcommand{\\vhadamardone}{ \\myrvector{ \\sqrttwo \\\\ -\\sqrttwo } } $\n",
    "$ \\newcommand{\\myarray}[2]{ \\begin{array}{#1}#2\\end{array}} $\n",
    "$ \\newcommand{\\X}{ \\mymatrix{cc}{0 & 1 \\\\ 1 & 0}  } $\n",
    "$ \\newcommand{\\Z}{ \\mymatrix{rr}{1 & 0 \\\\ 0 & -1}  } $\n",
    "$ \\newcommand{\\Htwo}{ \\mymatrix{rrrr}{ \\frac{1}{2} & \\frac{1}{2} & \\frac{1}{2} & \\frac{1}{2} \\\\ \\frac{1}{2} & -\\frac{1}{2} & \\frac{1}{2} & -\\frac{1}{2} \\\\ \\frac{1}{2} & \\frac{1}{2} & -\\frac{1}{2} & -\\frac{1}{2} \\\\ \\frac{1}{2} & -\\frac{1}{2} & -\\frac{1}{2} & \\frac{1}{2} } } $\n",
    "$ \\newcommand{\\CNOT}{ \\mymatrix{cccc}{1 & 0 & 0 & 0 \\\\ 0 & 1 & 0 & 0 \\\\ 0 & 0 & 0 & 1 \\\\ 0 & 0 & 1 & 0} } $\n",
    "$ \\newcommand{\\norm}[1]{ \\left\\lVert #1 \\right\\rVert } $"
   ]
  },
  {
   "cell_type": "markdown",
   "metadata": {},
   "source": [
    "<h2> Игра с двумя предвзятыми монетами </h2>\n",
    "\n",
    "[Смотреть лекцию](https://youtu.be/k0OJvv7AAgU)\n",
    "\n",
    "У нашей подруги Аси есть один евро и один цент.\n",
    "\n",
    "Обе монеты предвзяты, и вероятность получения орла и решки выглядит следующим образом:\n",
    "<ul>\n",
    "    <li> один евро: орел с вероятностью $ 0.6 $ и решка с вероятностью $ 0.4 $. </li>\n",
    "    <li> один цент: орел с вероятностью $ 0.3 $ и решка с вероятностью $ 0.7 $. </li>\n",
    "</ul>\n",
    "\n",
    "Ася переворачивает свои монеты на основе следующего <b> протокола </b>:\n",
    "<ol> \n",
    "    <li> она начинает с того, что переворачивает один евро [*]. </li>\n",
    "    <li> всякий раз, когда она получает орел, она переворачивает один евро на следующем шаге; </li>\n",
    "    <li> всякий раз, когда она получает решку, она переворачивает один цент на следующем шаге; и </li>\n",
    "</ol>\n",
    "\n",
    "Используя один бит, мы суммируем все возможные переходы этой игры следующим образом:\n",
    "\n",
    "$\n",
    "GameCoins = \\begin{array}{c|cc} & \\mathbf{Орел} & \\mathbf{Решка} \\\\ \\hline \\mathbf{Орел} & 0.6 & 0.3\\\\  \\mathbf{Решка} & 0.4 & 0.7  \\end{array} = \\begin{array}{c|cc} & \\mathbf{0} & \\mathbf{1} \\\\ \\hline \\mathbf{0} & 0.6 & 0.3 \\\\  \\mathbf{1} & 0.4 & 0.7  \\end{array}\n",
    "$\n",
    "\n",
    "[*] Мы должны зафиксировать начальное условие. В противном случае Ася не сможет забрать ни одну из монет в начале игры."
   ]
  },
  {
   "cell_type": "markdown",
   "metadata": {},
   "source": [
    "<h3> Задание 1: Убедите себя </h3>\n",
    "\n",
    "Убедитесь сами в правильности переходов, приведенных в таблице.\n",
    "\n",
    "<i>\n",
    "Замечу, что нет никакой разницы между получением орлов от одного евро или получением орлов от одного цента.\n",
    "    \n",
    "Поэтому для представления всех переходов достаточно одного бита.\n",
    "</i>"
   ]
  },
  {
   "cell_type": "markdown",
   "metadata": {},
   "source": [
    "<h3> Отслеживание трех подбрасываний монет Асей </h3>\n",
    "\n",
    "Предположим, что Ася <b>тайно</b> подбрасывает свои монеты на основе определенного протокола.\n",
    "\n",
    "Используя python, мы можем рассчитать вероятность того, что Ася увидит орел и решку после трех бросков монеты.\n",
    "\n",
    "<i><b>Примечание:</b> В предыдущих задачах [Подбрасывание монеты](B06_Coin_Flip.ipynb) мы знаем идеальные соотношения, и мы экспериментируем со многими подбрасываниями монет, а затем ожидаем наблюдать результаты, близкие к идеальным соотношениям.\n",
    "    \n",
    "Здесь мы вычисляем точные вероятности (идеальное соотношение) с помощью python. (Мы не будем проводить эксперименты, как в предыдущих задачах.)\n",
    "</i>\n",
    "\n",
    "Мы представляем наше решение шаг за шагом."
   ]
  },
  {
   "cell_type": "code",
   "execution_count": 1,
   "metadata": {},
   "outputs": [
    {
     "name": "stdout",
     "output_type": "stream",
     "text": [
      "Вероятность получить орёл после 3 бросков монеты равна 0.44399999999999995\n",
      "Вероятность получить решку после 3 бросков монеты равна 0.556\n"
     ]
    }
   ],
   "source": [
    "# начальное условие:\n",
    "# Ася начнет с одного евро,\n",
    "# итак, мы предполагаем, что вероятность наличия головы в начале равна 1.\n",
    "\n",
    "prob_head = 1\n",
    "prob_tail = 0\n",
    "\n",
    "#\n",
    "# первый бросок монеты\n",
    "#\n",
    "\n",
    "# новая вероятность орла вычисляется с использованием первой строки таблицы\n",
    "new_prob_head = prob_head * 0.6 + prob_tail * 0.3\n",
    "\n",
    "# новая вероятность решки вычисляется с помощью второй строки таблицы\n",
    "new_prob_tail = prob_head * 0.4 + prob_tail * 0.7\n",
    "\n",
    "# обновите вероятности для второго раунда\n",
    "prob_head = new_prob_head\n",
    "prob_tail = new_prob_tail\n",
    "\n",
    "#\n",
    "# второй бросок монеты\n",
    "#\n",
    "\n",
    "# мы делаем те же вычисления\n",
    "new_prob_head = prob_head * 0.6 + prob_tail * 0.3\n",
    "new_prob_tail = prob_head * 0.4 + prob_tail * 0.7\n",
    "\n",
    "prob_head = new_prob_head\n",
    "prob_tail = new_prob_tail\n",
    "\n",
    "#\n",
    "# третий бросок монеты\n",
    "#\n",
    "\n",
    "# мы делаем те же вычисления\n",
    "new_prob_head = prob_head * 0.6 + prob_tail * 0.3\n",
    "new_prob_tail = prob_head * 0.4 + prob_tail * 0.7\n",
    "\n",
    "prob_head = new_prob_head\n",
    "prob_tail = new_prob_tail\n",
    "\n",
    "# печать вероятностей орла и решки\n",
    "print(\"Вероятность получить орёл после 3 бросков монеты равна\",prob_head)\n",
    "print(\"Вероятность получить решку после 3 бросков монеты равна\",prob_tail)"
   ]
  },
  {
   "cell_type": "markdown",
   "metadata": {},
   "source": [
    "<h3> Задача 2: Отследить десять предвзятых бросков монет </h3>\n",
    "\n",
    "Используя python, вычислите вероятность того, что Ася увидит орел и решку после 10 бросков монеты.\n",
    "\n",
    "$\n",
    "GameCoins = \\begin{array}{c|cc} & \\mathbf{Орел} & \\mathbf{Решка} \\\\ \\hline \\mathbf{Орел} & 0.6 & 0.3\\\\  \\mathbf{Решка} & 0.4 & 0.7  \\end{array} = \\begin{array}{c|cc} & \\mathbf{0} & \\mathbf{1} \\\\ \\hline \\mathbf{0} & 0.6 & 0.3 \\\\  \\mathbf{1} & 0.4 & 0.7  \\end{array}\n",
    "$\n",
    "\n",
    "Используйте цикл в своем решении."
   ]
  },
  {
   "cell_type": "code",
   "execution_count": 2,
   "metadata": {},
   "outputs": [
    {
     "name": "stdout",
     "output_type": "stream",
     "text": [
      "Вероятность получить орёл после 10 бросков монеты равна 0.42857480279999977\n",
      "Вероятность получить решку после 10 бросков монеты равна 0.5714251971999997\n"
     ]
    }
   ],
   "source": [
    "#\n",
    "# Мы копируем и вставляем предыдущий код\n",
    "#\n",
    "\n",
    "# начальное условие:\n",
    "# Ася начнет с одного евро,\n",
    "# итак, мы предполагаем, что вероятность наличия головы в начале равна 1.\n",
    "prob_head = 1\n",
    "prob_tail = 0\n",
    "\n",
    "number_of_iterations = 10\n",
    "\n",
    "for i in range(number_of_iterations):\n",
    "    # новая вероятность орла вычисляется с использованием первой строки таблицы\n",
    "    new_prob_head = prob_head * 0.6 + prob_tail * 0.3\n",
    "\n",
    "    # новая вероятность решки вычисляется с использованием второй строки таблицы\n",
    "    new_prob_tail = prob_head * 0.4 + prob_tail * 0.7\n",
    "\n",
    "    # обновление вероятностей\n",
    "    prob_head = new_prob_head\n",
    "    prob_tail = new_prob_tail\n",
    "    \n",
    "# печать вероятностей орла и решки\n",
    "print(\"Вероятность получить орёл после\",number_of_iterations,\"бросков монеты равна\",prob_head)\n",
    "print(\"Вероятность получить решку после\",number_of_iterations,\"бросков монеты равна\",prob_tail)"
   ]
  },
  {
   "cell_type": "markdown",
   "metadata": {},
   "source": [
    "<h3> Task 3</h3>\n",
    "\n",
    "Repeat Task 2 for 20, 30, and 50 coin tosses."
   ]
  },
  {
   "cell_type": "code",
   "execution_count": 3,
   "metadata": {},
   "outputs": [
    {
     "name": "stdout",
     "output_type": "stream",
     "text": [
      "Кол-во итераций - 20\n",
      "Вероятность получить орёл после 20 бросков монеты равна 0.42857142859135267\n",
      "Вероятность получить решку после 20 бросков монеты равна 0.5714285714086464\n",
      "\n",
      "Кол-во итераций - 30\n",
      "Вероятность получить орёл после 30 бросков монеты равна 0.42857142857142816\n",
      "Вероятность получить решку после 30 бросков монеты равна 0.5714285714285705\n",
      "\n",
      "Кол-во итераций - 50\n",
      "Вероятность получить орёл после 50 бросков монеты равна 0.42857142857142805\n",
      "Вероятность получить решку после 50 бросков монеты равна 0.5714285714285706\n",
      "\n"
     ]
    }
   ],
   "source": [
    "# определение итераций в виде списка\n",
    "iterations = [20,30,50]\n",
    "\n",
    "for iteration in iterations:\n",
    "    \n",
    "    # начальные вероятности\n",
    "    prob_head = 1\n",
    "    prob_tail = 0\n",
    "    \n",
    "    print(\"Кол-во итераций -\",iteration)\n",
    "    \n",
    "    for i in range(iteration):\n",
    "        # новая вероятность орла вычисляется с использованием первой строки таблицы\n",
    "        new_prob_head = prob_head * 0.6 + prob_tail * 0.3\n",
    "\n",
    "        # новая вероятность решки вычисляется с использованием второй строки таблицы\n",
    "        new_prob_tail = prob_head * 0.4 + prob_tail * 0.7\n",
    "\n",
    "        # обновление вероятностей\n",
    "        prob_head = new_prob_head\n",
    "        prob_tail = new_prob_tail\n",
    "    \n",
    "    # печать вероятностей орла и решки\n",
    "    print(\"Вероятность получить орёл после\",iteration,\"бросков монеты равна\",prob_head)\n",
    "    print(\"Вероятность получить решку после\",iteration,\"бросков монеты равна\",prob_tail)\n",
    "    print()"
   ]
  },
  {
   "cell_type": "markdown",
   "metadata": {},
   "source": [
    "<h3> Task 4</h3>\n",
    "\n",
    "Repeat Task 2 for 10, 20, and 50 coin tosses by picking different initial conditions, e.g., \n",
    "    \n",
    "    prob_head = prob_tail = 1/2\n",
    "or\n",
    "    \n",
    "    prob_head = 0 \n",
    "    prob_tail = 1"
   ]
  },
  {
   "cell_type": "code",
   "execution_count": 4,
   "metadata": {},
   "outputs": [
    {
     "name": "stdout",
     "output_type": "stream",
     "text": [
      "Вероятность орла - 0.5\n",
      "Вероятность решки - 0.5\n",
      "\n",
      "Кол-во итераций - 20\n",
      "Вероятность получить орёл после 20 бросков монеты равна 0.42857142857391883\n",
      "Вероятность получить решку после 20 бросков монеты равна 0.5714285714260805\n",
      "\n",
      "Кол-во итераций - 30\n",
      "Вероятность получить орёл после 30 бросков монеты равна 0.42857142857142827\n",
      "Вероятность получить решку после 30 бросков монеты равна 0.571428571428571\n",
      "\n",
      "Кол-во итераций - 50\n",
      "Вероятность получить орёл после 50 бросков монеты равна 0.42857142857142827\n",
      "Вероятность получить решку после 50 бросков монеты равна 0.571428571428571\n",
      "\n",
      "\n",
      "Вероятность орла - 0\n",
      "Вероятность решки - 1\n",
      "\n",
      "Кол-во итераций - 20\n",
      "Вероятность получить орёл после 20 бросков монеты равна 0.4285714285564849\n",
      "Вероятность получить решку после 20 бросков монеты равна 0.5714285714435143\n",
      "\n",
      "Кол-во итераций - 30\n",
      "Вероятность получить орёл после 30 бросков монеты равна 0.42857142857142794\n",
      "Вероятность получить решку после 30 бросков монеты равна 0.5714285714285708\n",
      "\n",
      "Кол-во итераций - 50\n",
      "Вероятность получить орёл после 50 бросков монеты равна 0.42857142857142794\n",
      "Вероятность получить решку после 50 бросков монеты равна 0.5714285714285706\n",
      "\n",
      "\n"
     ]
    }
   ],
   "source": [
    "# определение итераций в виде списка\n",
    "iterations = [20,30,50]\n",
    "\n",
    "# определение начальных пар вероятностей в виде двойного списка\n",
    "initial_probabilities = [    \n",
    "    [1/2,1/2],\n",
    "    [0,1]\n",
    "]\n",
    "\n",
    "\n",
    "for initial_probability_pair in initial_probabilities: \n",
    "    print(\"Вероятность орла -\",initial_probability_pair[0])\n",
    "    print(\"Вероятность решки -\",initial_probability_pair[1])\n",
    "    print()\n",
    "\n",
    "    for iteration in iterations:\n",
    "\n",
    "        # начальные вероятности\n",
    "        [prob_head,prob_tail] = initial_probability_pair\n",
    "        \n",
    "        print(\"Кол-во итераций -\",iteration)\n",
    "        \n",
    "        for i in range(iteration):\n",
    "            # новая вероятность орла вычисляется с использованием первой строки таблицы\n",
    "            new_prob_head = prob_head * 0.6 + prob_tail * 0.3\n",
    "\n",
    "            # новая вероятность решки вычисляется с использованием второй строки таблицы\n",
    "            new_prob_tail = prob_head * 0.4 + prob_tail * 0.7\n",
    "\n",
    "            # обновление вероятностей\n",
    "            prob_head = new_prob_head\n",
    "            prob_tail = new_prob_tail\n",
    "\n",
    "        # печать вероятностей орла и решки\n",
    "        print(\"Вероятность получить орёл после\",iteration,\"бросков монеты равна\",prob_head)\n",
    "        print(\"Вероятность получить решку после\",iteration,\"бросков монеты равна\",prob_tail)\n",
    "        print()\n",
    "    print()"
   ]
  },
  {
   "cell_type": "markdown",
   "metadata": {},
   "source": [
    "<hr>"
   ]
  },
  {
   "cell_type": "markdown",
   "metadata": {},
   "source": [
    "<h3> Arbitrary transitions for GameCoins [extra]</h3>\n",
    "\n",
    "By changing the bias of each Asja's coin, we can define arbitrary GameCoins.\n",
    "\n",
    "If $ a $ is the probability of getting heads for one euro and $ b $ is the probability of getting heads for one cent, then we have the following transitions:\n",
    "\n",
    "$\n",
    "GameCoins(a,b) = \\begin{array}{c|cc} & \\mathbf{Head} & \\mathbf{Tail} \\\\ \\hline \\mathbf{Head} & a & b\\\\  \\mathbf{Tail} & 1-a & 1-b  \\end{array} = \\begin{array}{c|cc} & \\mathbf{0} & \\mathbf{1} \\\\ \\hline \\mathbf{0} & a & b \\\\  \\mathbf{1} & 1-a & 1-b  \\end{array}\n",
    "$"
   ]
  },
  {
   "cell_type": "markdown",
   "metadata": {},
   "source": [
    "<h3> Task 5 </h3>\n",
    "\n",
    "Observe that if $ a=1 $ and $ b = 0 $, then it is Identity operator, i.e., the initial condition will stay as it is.\n",
    "\n",
    "If $ a=0 $ and $ b=1 $, then it is NOT operator. NOT operator swaps the probabilities of heads and tails in each step. If the initial probabilities are not $ 0.5 $ and $ 0.5 $, then the system never converges to a fixed probabilities."
   ]
  },
  {
   "cell_type": "code",
   "execution_count": 5,
   "metadata": {},
   "outputs": [],
   "source": [
    "#\n",
    "# your solution is here\n",
    "#\n"
   ]
  },
  {
   "cell_type": "markdown",
   "metadata": {},
   "source": [
    "<h3> Task 6</h3>\n",
    "\n",
    "Randomly pick the values of $ a $ and $ b $, and then implement Tasks 3 and 4 for $ GameCoins(a,b) $."
   ]
  },
  {
   "cell_type": "code",
   "execution_count": 6,
   "metadata": {},
   "outputs": [],
   "source": [
    "#\n",
    "# your solution is here\n",
    "#\n"
   ]
  },
  {
   "cell_type": "markdown",
   "metadata": {},
   "source": [
    "<h3> Task 7</h3>\n",
    "\n",
    "10 times repeat Task 6 and observe whether the probabilities converge in each time."
   ]
  },
  {
   "cell_type": "code",
   "execution_count": 7,
   "metadata": {},
   "outputs": [],
   "source": [
    "#\n",
    "# your solution is here\n",
    "#\n"
   ]
  },
  {
   "cell_type": "markdown",
   "metadata": {},
   "source": [
    "<h3>Task 8</h3>\n",
    "\n",
    "We can rewrite arbitrary GameCoins as \n",
    "\n",
    "$  \\begin{array}{c|cc} & \\mathbf{Head} & \\mathbf{Tail} \\\\ \\hline \\mathbf{Head} & 1-y & x\\\\  \\mathbf{Tail} & y & 1-x  \\end{array} = \\begin{array}{c|cc} & \\mathbf{0} & \\mathbf{1} \\\\ \\hline \\mathbf{0} & 1-y & x \\\\  \\mathbf{1} & y & 1-x  \\end{array}.\n",
    "$ \n",
    "\n",
    "We assume that it is neither Identity nor NOT operator. Then, independent of the initial state, the system always converges to \n",
    "\n",
    "$ Pr[\\mbox{\"heads\"}] = \\dfrac{x}{x+y} $ and $ Pr[\\mbox{\"tails\"}]=\\dfrac{y}{x+y} $, \n",
    "\n",
    "which are the probabilities of getting heads and tails, respectively.\n",
    "\n",
    "Observe this fact by checking the results of Task 7."
   ]
  },
  {
   "cell_type": "code",
   "execution_count": 8,
   "metadata": {},
   "outputs": [],
   "source": [
    "#\n",
    "# your solution is here\n",
    "#\n"
   ]
  }
 ],
 "metadata": {
  "kernelspec": {
   "display_name": "Python 3",
   "language": "python",
   "name": "python3"
  },
  "language_info": {
   "codemirror_mode": {
    "name": "ipython",
    "version": 3
   },
   "file_extension": ".py",
   "mimetype": "text/x-python",
   "name": "python",
   "nbconvert_exporter": "python",
   "pygments_lexer": "ipython3",
   "version": "3.9.5"
  }
 },
 "nbformat": 4,
 "nbformat_minor": 2
}
