{
 "cells": [
  {
   "cell_type": "markdown",
   "metadata": {},
   "source": [
    "<table width=\"100%\"> <tr>\n",
    "        <td  style=\"background-color:#ffffff;\">\n",
    "            <a href=\"https://qsoftware.lu.lv/index.php/qworld/\" target=\"_blank\"><img src=\"../images/qworld.jpg\" width=\"35%\" align=\"left\"> </a></td>\n",
    "        <td style=\"background-color:#ffffff;vertical-align:bottom;text-align:right;\">\n",
    "            prepared by Abuzer Yakaryilmaz (<a href=\"http://qworld.lu.lv/index.php/qlatvia/\" target=\"_blank\">QLatvia</a>)\n",
    "        </td>        \n",
    "</tr></table>"
   ]
  },
  {
   "cell_type": "markdown",
   "metadata": {},
   "source": [
    "<table width=\"100%\"><tr><td style=\"color:#bbbbbb;background-color:#ffffff;font-size:11px;font-style:italic;text-align:right;\">This cell contains some macros. If there is a problem with displaying mathematical formulas, please run this cell to load these macros. </td></tr></table>\n",
    "$ \\newcommand{\\bra}[1]{\\langle #1|} $\n",
    "$ \\newcommand{\\ket}[1]{|#1\\rangle} $\n",
    "$ \\newcommand{\\braket}[2]{\\langle #1|#2\\rangle} $\n",
    "$ \\newcommand{\\dot}[2]{ #1 \\cdot #2} $\n",
    "$ \\newcommand{\\biginner}[2]{\\left\\langle #1,#2\\right\\rangle} $\n",
    "$ \\newcommand{\\mymatrix}[2]{\\left( \\begin{array}{#1} #2\\end{array} \\right)} $\n",
    "$ \\newcommand{\\myvector}[1]{\\mymatrix{c}{#1}} $\n",
    "$ \\newcommand{\\myrvector}[1]{\\mymatrix{r}{#1}} $\n",
    "$ \\newcommand{\\mypar}[1]{\\left( #1 \\right)} $\n",
    "$ \\newcommand{\\mybigpar}[1]{ \\Big( #1 \\Big)} $\n",
    "$ \\newcommand{\\sqrttwo}{\\frac{1}{\\sqrt{2}}} $\n",
    "$ \\newcommand{\\dsqrttwo}{\\dfrac{1}{\\sqrt{2}}} $\n",
    "$ \\newcommand{\\onehalf}{\\frac{1}{2}} $\n",
    "$ \\newcommand{\\donehalf}{\\dfrac{1}{2}} $\n",
    "$ \\newcommand{\\hadamard}{ \\mymatrix{rr}{ \\sqrttwo & \\sqrttwo \\\\ \\sqrttwo & -\\sqrttwo }} $\n",
    "$ \\newcommand{\\vzero}{\\myvector{1\\\\0}} $\n",
    "$ \\newcommand{\\vone}{\\myvector{0\\\\1}} $\n",
    "$ \\newcommand{\\vhadamardzero}{\\myvector{ \\sqrttwo \\\\  \\sqrttwo } } $\n",
    "$ \\newcommand{\\vhadamardone}{ \\myrvector{ \\sqrttwo \\\\ -\\sqrttwo } } $\n",
    "$ \\newcommand{\\myarray}[2]{ \\begin{array}{#1}#2\\end{array}} $\n",
    "$ \\newcommand{\\X}{ \\mymatrix{cc}{0 & 1 \\\\ 1 & 0}  } $\n",
    "$ \\newcommand{\\Z}{ \\mymatrix{rr}{1 & 0 \\\\ 0 & -1}  } $\n",
    "$ \\newcommand{\\Htwo}{ \\mymatrix{rrrr}{ \\frac{1}{2} & \\frac{1}{2} & \\frac{1}{2} & \\frac{1}{2} \\\\ \\frac{1}{2} & -\\frac{1}{2} & \\frac{1}{2} & -\\frac{1}{2} \\\\ \\frac{1}{2} & \\frac{1}{2} & -\\frac{1}{2} & -\\frac{1}{2} \\\\ \\frac{1}{2} & -\\frac{1}{2} & -\\frac{1}{2} & \\frac{1}{2} } } $\n",
    "$ \\newcommand{\\CNOT}{ \\mymatrix{cccc}{1 & 0 & 0 & 0 \\\\ 0 & 1 & 0 & 0 \\\\ 0 & 0 & 0 & 1 \\\\ 0 & 0 & 1 & 0} } $\n",
    "$ \\newcommand{\\norm}[1]{ \\left\\lVert #1 \\right\\rVert } $"
   ]
  },
  {
   "cell_type": "markdown",
   "metadata": {},
   "source": [
    "<h2> Подбрасывание монеты: Вероятностный бит </h2>\n",
    "\n",
    "[Смотреть лекцию](https://youtu.be/uGKHEsVcSEs)\n",
    "\n",
    "<h3> Честная монета </h3>\n",
    "\n",
    "Монета имеет две стороны: <i>Орел</i> и <i>Решка</i>.\n",
    "\n",
    "После подбрасывания монеты мы можем получить Орел или Решку. Мы можем представить эти два разных случая одним битом:\n",
    "<ul>\n",
    "    <li> 0 представляет Орел </li>\n",
    "    <li> 1 представляет Решку </li>\n",
    "</ul>"
   ]
  },
  {
   "cell_type": "markdown",
   "metadata": {},
   "source": [
    "<h3> Подбрасывание честной монеты </h3>\n",
    "\n",
    "Если наша монета справедлива, то вероятность получения Орла и Решки равна:\n",
    "\n",
    "$ p= \\dfrac{1}{2} = 0.5 $.\n",
    "\n",
    "Подбрасывание честной монеты может быть представлено в виде оператора:\n",
    "<ul>\n",
    "    <li> $ FairCoin(Heads) = \\frac{1}{2} Орел + \\frac{1}{2}Решка $ </li>\n",
    "    <li> $ FairCoin(Tails) \\mspace{10mu} = \\frac{1}{2} Орел + \\frac{1}{2}Решка $ </li>\n",
    "</ul>\n",
    "$$\n",
    "FairCoin = \\begin{array}{c|cc} & \\mathbf{Орел} & \\mathbf{Решка} \\\\ \\hline \\mathbf{Орел} & \\dfrac{1}{2} & \\dfrac{1}{2} \\\\  \\mathbf{Решка} & \\dfrac{1}{2} & \\dfrac{1}{2}  \\end{array} \n",
    "$$\n",
    "\n",
    "Или, используя 0 и 1:\n",
    "\n",
    "$$\n",
    "FairCoin = \\begin{array}{c|cc} & \\mathbf{0} & \\mathbf{1} \\\\ \\hline \\mathbf{0} & \\dfrac{1}{2} & \\dfrac{1}{2} \\\\  \\mathbf{1} & \\dfrac{1}{2} & \\dfrac{1}{2}  \\end{array} \n",
    "$$"
   ]
  },
  {
   "cell_type": "markdown",
   "metadata": {},
   "source": [
    "<h3> Задача 1: Моделирование броска монеты (FairCoin) в Python</h3>\n",
    "\n",
    "Подбросьте честную монету 100 раз. Подсчитайте общее количество орлов и решек, а затем проверьте соотношение количества орлов и количества решек.\n",
    "\n",
    "Проделайте тот же эксперимент 1000 раз.\n",
    "\n",
    "Проделайте тот же эксперимент 10 000 раз.\n",
    "\n",
    "Проделайте тот же эксперимент 100 000 раз.\n",
    "\n",
    "Приближаются ли ваши результаты к идеальному случаю (количество орлов и решек равно)?"
   ]
  },
  {
   "cell_type": "code",
   "execution_count": 1,
   "metadata": {},
   "outputs": [
    {
     "name": "stdout",
     "output_type": "stream",
     "text": [
      "Количество экспериментов: 100\n",
      "Орлы = 52   Решки =  48\n",
      "Отношение #Орел/#Решка - 1.0833\n",
      "\n",
      "Количество экспериментов: 1000\n",
      "Орлы = 512   Решки =  488\n",
      "Отношение #Орел/#Решка - 1.0492\n",
      "\n",
      "Количество экспериментов: 10000\n",
      "Орлы = 5073   Решки =  4927\n",
      "Отношение #Орел/#Решка - 1.0296\n",
      "\n",
      "Количество экспериментов: 100000\n",
      "Орлы = 50148   Решки =  49852\n",
      "Отношение #Орел/#Решка - 1.0059\n",
      "\n"
     ]
    }
   ],
   "source": [
    "from random import randrange\n",
    "\n",
    "for experiment in [100,1000,10000,100000]:\n",
    "    heads = tails = 0\n",
    "    for i in range(experiment):\n",
    "        if randrange(2) == 0: heads = heads + 1\n",
    "        else: tails = tails + 1\n",
    "    print(\"Количество экспериментов:\",experiment)\n",
    "    print(\"Орлы =\",heads,\"  Решки = \",tails)\n",
    "    print(\"Отношение #Орел/#Решка -\",(round(heads/tails,4)))\n",
    "    print()"
   ]
  },
  {
   "cell_type": "markdown",
   "metadata": {},
   "source": [
    "<h3> Подбрасывание предвзятой монеты </h3>\n",
    "\n",
    "У нашей монеты может быть предвзятость. \n",
    "\n",
    "Например, вероятность получить орел больше, чем вероятность получить решку.\n",
    "\n",
    "Вот пример:\n",
    "\n",
    "$$\n",
    "BiasedCoin = \\begin{array}{c|cc} & \\mathbf{Орел} & \\mathbf{Решка} \\\\ \\hline \\mathbf{Орел} & 0.6 & 0.6 \\\\  \\mathbf{Решка} & 0.4 & 0.4  \\end{array}\n",
    "$$\n",
    "\n",
    "Или, используя 0 и 1:\n",
    "\n",
    "$$\n",
    "BiasedCoin = \\begin{array}{c|cc} & \\mathbf{0} & \\mathbf{1} \\\\ \\hline \\mathbf{0} & 0.6 & 0.6\\\\  \\mathbf{1} & 0.4 & 0.4 \\end{array}\n",
    "$$"
   ]
  },
  {
   "cell_type": "markdown",
   "metadata": {},
   "source": [
    "<h3> Задача 2: Моделирование BiasedCoin в Python</h3>\n",
    "\n",
    "Переверните следующую предвзятую монету 100 раз. Подсчитайте общее количество голов и решек, а затем проверьте соотношение количества голов и количества решек.\n",
    "\n",
    "$\n",
    "BiasedCoin = \\begin{array}{c|cc} & \\mathbf{Орел} & \\mathbf{Решка} \\\\ \\hline \\mathbf{Орел} & 0.6 & 0.6 \\\\  \\mathbf{Решка} & 0.4 & 0.4  \\end{array}\n",
    "$\n",
    "\n",
    "Проделайте тот же эксперимент 1000 раз.\n",
    "\n",
    "Проделайте тот же эксперимент 10 000 раз.\n",
    "\n",
    "Проделайте тот же эксперимент 100 000 раз.\n",
    "\n",
    "Приближаются ли ваши результаты к идеальному случаю $ \\mypar{ \\dfrac{ \\mbox{#Орлы} }{ \\mbox{#Решки} } = \\dfrac{0.6}{0.4} = 1.50000000 } $?"
   ]
  },
  {
   "cell_type": "code",
   "execution_count": 2,
   "metadata": {},
   "outputs": [
    {
     "name": "stdout",
     "output_type": "stream",
     "text": [
      "Количество экспериментов: 100\n",
      "Орлы = 60   Решки =  40\n",
      "Отношение #Орел/#Решка - 1.5\n",
      "\n",
      "Количество экспериментов: 1000\n",
      "Орлы = 587   Решки =  413\n",
      "Отношение #Орел/#Решка - 1.4213\n",
      "\n",
      "Количество экспериментов: 10000\n",
      "Орлы = 6031   Решки =  3969\n",
      "Отношение #Орел/#Решка - 1.5195\n",
      "\n",
      "Количество экспериментов: 100000\n",
      "Орлы = 60190   Решки =  39810\n",
      "Отношение #Орел/#Решка - 1.5119\n",
      "\n"
     ]
    }
   ],
   "source": [
    "#\n",
    "# you may use method 'randrange' for this task\n",
    "# randrange(n) returns a value from {0,1,...,n-1} randomly\n",
    "#\n",
    "\n",
    "from random import randrange\n",
    "\n",
    "# Выберем случайное число между {0,1,...,99}\n",
    "# Ожидается, что он будет меньше 60 с вероятностью 0,6\n",
    "# и больше или равно 60 с вероятностью 0,4\n",
    "\n",
    "for experiment in [100,1000,10000,100000]:\n",
    "    heads = tails = 0\n",
    "    for i in range(experiment):\n",
    "        if randrange(100) <60: heads = heads + 1 # с вер-тью 0.6\n",
    "        else: tails = tails + 1 # с вер-тью 0.4\n",
    "    print(\"Количество экспериментов:\",experiment)\n",
    "    print(\"Орлы =\",heads,\"  Решки = \",tails)\n",
    "    print(\"Отношение #Орел/#Решка -\",(round(heads/tails,4)))\n",
    "    print()"
   ]
  },
  {
   "cell_type": "markdown",
   "metadata": {},
   "source": [
    "<h3> Программирование предвзятой монеты [дополнительно] </h3>\n",
    "\n",
    "Мы используем простой метод для создания предвзятой монеты.\n",
    "\n",
    "Во-первых, мы выбираем диапазон точности вероятностей, скажем, $ N $, как $ N = 11, 101, 1001, \\mbox{ или }, 10^k+1 $ для некоторых $ k > 3 $.\n",
    "\n",
    "Во-вторых, мы выбираем смещение, скажем, $ B $, как целое число в $ \\{0,\\ldots, N\\} $.\n",
    "\n",
    "Мы фиксируем $ N $ и $ B $.\n",
    "\n",
    "В-третьих, мы выбираем случайное целое число в $ \\{0,1,\\ldots,N-1\\} $:\n",
    "<ul>\n",
    "<li> если он меньше $ B $, мы говорим \"Орёл\" и </li>\n",
    "<li> если он равен $ B $ или больше $ B $, мы говорим \"Решка\" </li>\n",
    "</ul>\n",
    "\n",
    "Таким образом, у нас есть предвзятая монета, \"приземляющаяся\" на головы с вероятностью $ \\frac{B}{N} $.\n",
    "\n",
    "Заметим, что мы выбираем $ N = 10^k+1 $ как нечетное число. Таким образом, монета не может быть справедливой, когда $ B $ является целым числом. Другими словами, не существует целого числа $ B $, которое является точной половиной $ \\frac{10^k+1}{2} $."
   ]
  },
  {
   "cell_type": "markdown",
   "metadata": {},
   "source": [
    "<h3> Задача 3 </h3>\n",
    "\n",
    "Напишите функцию для реализации описанной предвзятой монеты,\n",
    "\n",
    "Входными данными являются целые числа $ N>0 $ и $ B \\in \\{0,\\ldots,N\\} $.\n",
    "\n",
    "На выходе получается либо \"Орел\", либо \"Решка\"."
   ]
  },
  {
   "cell_type": "code",
   "execution_count": 3,
   "metadata": {},
   "outputs": [],
   "source": [
    "def biased_coin(N,B):\n",
    "    from random import randrange\n",
    "    random_number = randrange(N)\n",
    "    if random_number < B:\n",
    "        return \"Орел\"\n",
    "    else:\n",
    "        return \"Решка\""
   ]
  },
  {
   "cell_type": "markdown",
   "metadata": {},
   "source": [
    "<h3> Задача 4 </h3>\n",
    "\n",
    "Мы используем предвзятую монету, описанную в задаче 3.\n",
    "\n",
    "Мы выбираем $ N $ как 101.\n",
    "\n",
    "Наша задача состоит в том, чтобы определить значение $ B $ экспериментально, не глядя на его значение напрямую.\n",
    "\n",
    "Переверните (ту же) предвзятую монету 500 раз, соберите статистику, а затем угадайте предвзятость.\n",
    "\n",
    "Сравните свое предположение с фактическим смещением, рассчитав относительную ошибку в процентах (абсолютное значение разницы, деленное на реальное смещение)."
   ]
  },
  {
   "cell_type": "code",
   "execution_count": 4,
   "metadata": {},
   "outputs": [
    {
     "name": "stdout",
     "output_type": "stream",
     "text": [
      "Оценка 0.656\n",
      "На самом деле 0.6534653465346535\n",
      "Вер-ть ошибки (%) - 0.3878787878787882\n"
     ]
    }
   ],
   "source": [
    "from random import randrange\n",
    "N = 101\n",
    "B = randrange(N+1)\n",
    "    \n",
    "total_tosses = 500\n",
    "the_number_of_heads = 0\n",
    "\n",
    "for i in range(total_tosses):\n",
    "    if biased_coin(N,B) == \"Орел\":\n",
    "        the_number_of_heads = the_number_of_heads + 1\n",
    "\n",
    "my_guess =  the_number_of_heads/total_tosses        \n",
    "real_bias = B/N\n",
    "error = abs(my_guess-real_bias)/real_bias*100 \n",
    "\n",
    "print(\"Оценка\",my_guess)\n",
    "print(\"На самом деле\",real_bias)\n",
    "print(\"Вер-ть ошибки (%) -\",error)"
   ]
  },
  {
   "cell_type": "code",
   "execution_count": null,
   "metadata": {},
   "outputs": [],
   "source": []
  }
 ],
 "metadata": {
  "kernelspec": {
   "display_name": "Python 3",
   "language": "python",
   "name": "python3"
  },
  "language_info": {
   "codemirror_mode": {
    "name": "ipython",
    "version": 3
   },
   "file_extension": ".py",
   "mimetype": "text/x-python",
   "name": "python",
   "nbconvert_exporter": "python",
   "pygments_lexer": "ipython3",
   "version": "3.9.5"
  }
 },
 "nbformat": 4,
 "nbformat_minor": 2
}
