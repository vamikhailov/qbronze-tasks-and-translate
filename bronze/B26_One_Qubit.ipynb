{
 "cells": [
  {
   "cell_type": "markdown",
   "metadata": {},
   "source": [
    "<table> <tr>\n",
    "        <td  style=\"background-color:#ffffff;\">\n",
    "            <a href=\"http://qworld.lu.lv\" target=\"_blank\"><img src=\"../images/qworld.jpg\" width=\"25%\" align=\"left\"> </a></td>\n",
    "        <td style=\"background-color:#ffffff;vertical-align:bottom;text-align:right;\">\n",
    "            prepared by <a href=\"http://abu.lu.lv\" target=\"_blank\">Abuzer Yakaryilmaz</a> (<a href=\"http://qworld.lu.lv/index.php/qlatvia/\" target=\"_blank\">QLatvia</a>)\n",
    "        </td>        \n",
    "</tr></table>"
   ]
  },
  {
   "cell_type": "markdown",
   "metadata": {},
   "source": [
    "<table width=\"100%\"><tr><td style=\"color:#bbbbbb;background-color:#ffffff;font-size:11px;font-style:italic;text-align:right;\">This cell contains some macros. If there is a problem with displaying mathematical formulas, please run this cell to load these macros. </td></tr></table>\n",
    "$ \\newcommand{\\bra}[1]{\\langle #1|} $\n",
    "$ \\newcommand{\\ket}[1]{|#1\\rangle} $\n",
    "$ \\newcommand{\\braket}[2]{\\langle #1|#2\\rangle} $\n",
    "$ \\newcommand{\\dot}[2]{ #1 \\cdot #2} $\n",
    "$ \\newcommand{\\biginner}[2]{\\left\\langle #1,#2\\right\\rangle} $\n",
    "$ \\newcommand{\\mymatrix}[2]{\\left( \\begin{array}{#1} #2\\end{array} \\right)} $\n",
    "$ \\newcommand{\\myvector}[1]{\\mymatrix{c}{#1}} $\n",
    "$ \\newcommand{\\myrvector}[1]{\\mymatrix{r}{#1}} $\n",
    "$ \\newcommand{\\mypar}[1]{\\left( #1 \\right)} $\n",
    "$ \\newcommand{\\mybigpar}[1]{ \\Big( #1 \\Big)} $\n",
    "$ \\newcommand{\\sqrttwo}{\\frac{1}{\\sqrt{2}}} $\n",
    "$ \\newcommand{\\dsqrttwo}{\\dfrac{1}{\\sqrt{2}}} $\n",
    "$ \\newcommand{\\onehalf}{\\frac{1}{2}} $\n",
    "$ \\newcommand{\\donehalf}{\\dfrac{1}{2}} $\n",
    "$ \\newcommand{\\hadamard}{ \\mymatrix{rr}{ \\sqrttwo & \\sqrttwo \\\\ \\sqrttwo & -\\sqrttwo }} $\n",
    "$ \\newcommand{\\vzero}{\\myvector{1\\\\0}} $\n",
    "$ \\newcommand{\\vone}{\\myvector{0\\\\1}} $\n",
    "$ \\newcommand{\\vhadamardzero}{\\myvector{ \\sqrttwo \\\\  \\sqrttwo } } $\n",
    "$ \\newcommand{\\vhadamardone}{ \\myrvector{ \\sqrttwo \\\\ -\\sqrttwo } } $\n",
    "$ \\newcommand{\\myarray}[2]{ \\begin{array}{#1}#2\\end{array}} $\n",
    "$ \\newcommand{\\X}{ \\mymatrix{cc}{0 & 1 \\\\ 1 & 0}  } $\n",
    "$ \\newcommand{\\Z}{ \\mymatrix{rr}{1 & 0 \\\\ 0 & -1}  } $\n",
    "$ \\newcommand{\\Htwo}{ \\mymatrix{rrrr}{ \\frac{1}{2} & \\frac{1}{2} & \\frac{1}{2} & \\frac{1}{2} \\\\ \\frac{1}{2} & -\\frac{1}{2} & \\frac{1}{2} & -\\frac{1}{2} \\\\ \\frac{1}{2} & \\frac{1}{2} & -\\frac{1}{2} & -\\frac{1}{2} \\\\ \\frac{1}{2} & -\\frac{1}{2} & -\\frac{1}{2} & \\frac{1}{2} } } $\n",
    "$ \\newcommand{\\CNOT}{ \\mymatrix{cccc}{1 & 0 & 0 & 0 \\\\ 0 & 1 & 0 & 0 \\\\ 0 & 0 & 0 & 1 \\\\ 0 & 0 & 1 & 0} } $\n",
    "$ \\newcommand{\\norm}[1]{ \\left\\lVert #1 \\right\\rVert } $\n",
    "$ \\newcommand{\\pstate}[1]{ \\lceil \\mspace{-1mu} #1 \\mspace{-1.5mu} \\rfloor } $"
   ]
  },
  {
   "cell_type": "markdown",
   "metadata": {},
   "source": [
    "<h2>Один кубит</h2>\n",
    "\n",
    "[Смотреть лекцию](https://youtu.be/MTsgLSrTNbY)\n",
    "\n",
    "_Квантовые системы являются линейными системами: \"Квантовые состояния представлены векторами, а квантовые операторы представлены матрицами. Новые квантовые состояния вычисляются путем соответствующих умножений матриц и векторов.\"_\n",
    "\n",
    "Кубит (квантовый бит) имеет два состояния: состояние 0 и состояние 1.\n",
    "\n",
    "Они обозначаются кет-нотацией:\n",
    "\n",
    "$ \\ket{0} = \\myvector{1 \\\\ 0} $ и $ \\ket{1} = \\myvector{0\\\\ 1} $.\n",
    "\n"
   ]
  },
  {
   "cell_type": "markdown",
   "metadata": {},
   "source": [
    "<h3> Оператор NOT </h3>\n",
    "\n",
    "Оператор NOT переворачивает значение кубита.\n",
    "\n",
    "Мы используем заглавную букву для матричного вида операторов:\n",
    "\n",
    "$ X = \\X$."
   ]
  },
  {
   "cell_type": "markdown",
   "metadata": {},
   "source": [
    "The action of $ X $ on the cubit:\n",
    "\n",
    "$ X \\ket{0} = \\ket{1} $. \n",
    "\n",
    "Более того, $ X \\ket{0} = \\X \\vzero = \\vone = \\ket{1} $.\n",
    "\n",
    "Например, $ X \\ket{1} = \\ket{0} $.\n",
    "\n",
    "Более того, $ X \\ket{1} = \\X \\vone = \\vzero = \\ket{0} $."
   ]
  },
  {
   "cell_type": "markdown",
   "metadata": {},
   "source": [
    "<div style=\"background-color:#f8f8f8;color:#555555;font-size:13px;\">\n",
    "<b><i>Why is the NOT operator referred to as the x-gate?<i></b>\n",
    "   \n",
    "In Bronze, we use only real numbers, but we should note that complex numbers are also used in quantum computing. When complex numbers are used, the state of a qubit can be represented by a four dimensional real number valued vector, which is not possible to visualize. On the other hand, it is possible to represent such state in three dimensions (with real numbers). This representation is called [Bloch sphere](https://en.wikipedia.org/wiki/Bloch_sphere).\n",
    "\n",
    "In three dimensions, we have axes: x, y, and z. X refers to the rotation with respect to x-axis. Similarly, we have the rotation with respect to y-axis and z-axis. In Bronze, we will also see the operator Z (z-gate). The operator Y is defined with complex numbers.\n",
    "</div>"
   ]
  },
  {
   "cell_type": "markdown",
   "metadata": {},
   "source": [
    "<h3> Оператор Адамара </h3>\n",
    "\n",
    "Оператор Адамара ($ H $ или h-gate) похож на честное подбрасывание монеты.\n",
    "\n",
    "$$\n",
    "    H = \\hadamard.\n",
    "$$\n",
    "\n",
    "Но есть определенные различия:\n",
    "<ul>\n",
    "    <li> у нас есть <u>отрицательная запись</u>, и</li>\n",
    "    <li> вместо $ \\frac{1}{2} $ у нас есть <u>его квадратный корень</u> $ \\mypar{ \\frac{1}{\\sqrt{2}} } $. </li>\n",
    "</ul>\n",
    "\n",
    "<font color=\"blue\"> Квантовые системы могут иметь отрицательные переходы. </font>\n",
    "\n",
    "<font color=\"blue\"> Могут ли вероятностные системы быть расширены с отрицательными значениями? </font> "
   ]
  },
  {
   "cell_type": "markdown",
   "metadata": {},
   "source": [
    "<h4> Одношаговый Адамар</h4>\n",
    "\n",
    "Начнём с $ \\ket{0} $.\n",
    "\n",
    "После применения $ H $:\n",
    "\n",
    "$$\n",
    "  H \\ket{0} =  \\hadamard \\vzero =  \\vhadamardzero.\n",
    "$$\n",
    "\n",
    "После измерения мы наблюдаем состояния $ \\ket{0} $ и $ \\ket{1} $ с равной вероятностью $ \\frac{1}{2} $. \n",
    "\n",
    "Как это возможно, если их значения равны $ \\frac{1}{\\sqrt{2}} $?"
   ]
  },
  {
   "cell_type": "markdown",
   "metadata": {},
   "source": [
    "<img src=\"../images/photon3a.jpg\" width=\"45%\">"
   ]
  },
  {
   "cell_type": "markdown",
   "metadata": {},
   "source": [
    "Начнём с $ \\ket{1} $.\n",
    "\n",
    "После применения $ H $:\n",
    "\n",
    "$$\n",
    "    H \\ket{1} = \\hadamard \\vone = \\vhadamardone.\n",
    "$$\n",
    "\n",
    "После измерения мы наблюдаем состояния $ \\ket{0} $ и $ \\ket{1} $ с равной вероятностью $ \\frac{1}{2} $. \n",
    "\n",
    "Мы получаем одни и те же значения, даже если одно из значений отрицательно."
   ]
  },
  {
   "cell_type": "markdown",
   "metadata": {},
   "source": [
    "<img src=\"../images/photon3c.jpg\" width=\"35%\">"
   ]
  },
  {
   "cell_type": "markdown",
   "metadata": {},
   "source": [
    "<i>Абсолютное значение отрицательного значения является положительным.</i>\n",
    "\n",
    "<i>Квадрат отрицательного значения также положителен.</i>\n",
    "\n",
    "Как мы уже заметили, второй факт лучше подходит для чтения результатов измерений.\n",
    "\n",
    "<font color=\"blue\"><b>При измерении квантовой системы вероятность наблюдения одного состояния равна квадрату его значения [*].</b></font>\n",
    "\n",
    "Значение системы, находящейся в состоянии, называется ее амплитудой <b>.\n",
    "\n",
    "В приведенном выше примере амплитуды состояний $\\ket{0}$ и $ \\ket{1} $ равны соответственно $ \\sqrttwo $ и $ -\\sqrttwo $.\n",
    "\n",
    "Вероятности наблюдения за ними после измерения равны $ \\onehalf $.\n",
    "\n",
    "_Отметьте, что после наблюдения состояния $ 0 $ новое состояние будет $ \\ket{0}$, а после наблюдения состояния $ 1 $ новое состояние будет $ \\ket{1} $._"
   ]
  },
  {
   "cell_type": "markdown",
   "metadata": {},
   "source": [
    "### Состояния $ \\ket{+} $ и $ \\ket{-} $"
   ]
  },
  {
   "cell_type": "markdown",
   "metadata": {},
   "source": [
    "В литературе квантовые состояния, полученные после применения $ H $ к $ \\ket{0} $ и $ \\ket{1}$, известны как состояния **ket-плюс** ($\\ket{+}$) и **ket-минус** ($ \\ket{-} $) соответственно:\n",
    "\n",
    "$ \\ket{+} = H \\ket{0} = \\hadamard \\vzero = \\vhadamardzero $\n",
    "\n",
    "$ \\ket{-} = H \\ket{1} =  \\hadamard \\vone = \\vhadamardone $"
   ]
  },
  {
   "cell_type": "markdown",
   "metadata": {},
   "source": [
    "<h3> Задача 1 </h3>\n",
    "\n",
    "Каковы вероятности наблюдения состояний $ \\ket{0} $ и $ \\ket{1} $, если система находится в $ \\myvector{-\\frac{3}{5} \\\\ - \\frac{4}{5}} $ или $ \\myrvector{\\frac{3}{5} \\\\ -\\frac{4}{5}} $ или $ \\myrvector{\\frac{1}{\\sqrt{3}} \\\\ - \\frac{\\sqrt{2}}{\\sqrt{3}}} $?"
   ]
  },
  {
   "cell_type": "markdown",
   "metadata": {},
   "source": [
    "$ \\myvector{-\\frac{3}{5} \\\\ -\\frac{4}{5}} $ : $ \\myvector{\\frac{9}{25} \\\\ \\frac{16}{25}} $\n",
    "\n",
    "$ \\myvector{\\frac{3}{5} \\\\ -\\frac{4}{5}} $ : $ \\myvector{\\frac{9}{25} \\\\ \\frac{16}{25}} $\n",
    "\n",
    "$ \\myvector{\\frac{1}{\\sqrt{3}} \\\\ - \\frac{\\sqrt{2}}{\\sqrt{3}}} $ : $ \\myvector{\\frac{1}{3} \\\\ \\frac{2}{3}} $"
   ]
  },
  {
   "cell_type": "markdown",
   "metadata": {},
   "source": [
    "<h3> Квантовое состояние </h3>\n",
    "\n",
    "<i>Что мы знаем на данный момент?</i>\n",
    "<ul>\n",
    "    <li> Квантовое состояние может быть представлено вектором, в котором каждая запись может быть равна нулю, положительному или отрицательному значению. </li>\n",
    "    <li> Мы также можем сказать, что амплитуда пребывания в любом состоянии может быть равна нулю, положительному значению или отрицательному значению. </li>\n",
    "    <li> Вероятность наблюдения одного состояния после измерения равна квадрату его амплитуды. </li>\n",
    "</ul>\n",
    "\n",
    "<i>Что еще мы можем сказать?</i>\n",
    "\n",
    "Могут ли записи квантового состояния быть произвольными?\n",
    "\n",
    "Помните ли вы свойства вероятностного состояния?"
   ]
  },
  {
   "cell_type": "code",
   "execution_count": null,
   "metadata": {},
   "outputs": [],
   "source": []
  }
 ],
 "metadata": {
  "kernelspec": {
   "display_name": "Python 3",
   "language": "python",
   "name": "python3"
  },
  "language_info": {
   "codemirror_mode": {
    "name": "ipython",
    "version": 3
   },
   "file_extension": ".py",
   "mimetype": "text/x-python",
   "name": "python",
   "nbconvert_exporter": "python",
   "pygments_lexer": "ipython3",
   "version": "3.9.5"
  }
 },
 "nbformat": 4,
 "nbformat_minor": 2
}
