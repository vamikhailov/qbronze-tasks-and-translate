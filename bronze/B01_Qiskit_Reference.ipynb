{
 "cells": [
  {
   "cell_type": "markdown",
   "metadata": {},
   "source": [
    "<table> <tr>\n",
    "        <td  style=\"background-color:#ffffff;\">\n",
    "            <a href=\"http://qworld.lu.lv\" target=\"_blank\"><img src=\"../images/qworld.jpg\" width=\"25%\" align=\"left\"> </a></td>\n",
    "        <td style=\"background-color:#ffffff;vertical-align:bottom;text-align:right;\">\n",
    "            prepared by <a href=\"http://abu.lu.lv\" target=\"_blank\">Abuzer Yakaryilmaz</a> (<a href=\"http://qworld.lu.lv/index.php/qlatvia/\" target=\"_blank\">QLatvia</a>)\n",
    "        </td>        \n",
    "</tr></table>"
   ]
  },
  {
   "cell_type": "markdown",
   "metadata": {},
   "source": [
    "<table width=\"100%\"><tr><td style=\"color:#bbbbbb;background-color:#ffffff;font-size:11px;font-style:italic;text-align:right;\">This cell contains some macros. If there is a problem with displaying mathematical formulas, please run this cell to load these macros. </td></tr></table>\n",
    "$ \\newcommand{\\bra}[1]{\\langle #1|} $\n",
    "$ \\newcommand{\\ket}[1]{|#1\\rangle} $\n",
    "$ \\newcommand{\\braket}[2]{\\langle #1|#2\\rangle} $\n",
    "$ \\newcommand{\\dot}[2]{ #1 \\cdot #2} $\n",
    "$ \\newcommand{\\biginner}[2]{\\left\\langle #1,#2\\right\\rangle} $\n",
    "$ \\newcommand{\\mymatrix}[2]{\\left( \\begin{array}{#1} #2\\end{array} \\right)} $\n",
    "$ \\newcommand{\\myvector}[1]{\\mymatrix{c}{#1}} $\n",
    "$ \\newcommand{\\myrvector}[1]{\\mymatrix{r}{#1}} $\n",
    "$ \\newcommand{\\mypar}[1]{\\left( #1 \\right)} $\n",
    "$ \\newcommand{\\mybigpar}[1]{ \\Big( #1 \\Big)} $\n",
    "$ \\newcommand{\\sqrttwo}{\\frac{1}{\\sqrt{2}}} $\n",
    "$ \\newcommand{\\dsqrttwo}{\\dfrac{1}{\\sqrt{2}}} $\n",
    "$ \\newcommand{\\onehalf}{\\frac{1}{2}} $\n",
    "$ \\newcommand{\\donehalf}{\\dfrac{1}{2}} $\n",
    "$ \\newcommand{\\hadamard}{ \\mymatrix{rr}{ \\sqrttwo & \\sqrttwo \\\\ \\sqrttwo & -\\sqrttwo }} $\n",
    "$ \\newcommand{\\vzero}{\\myvector{1\\\\0}} $\n",
    "$ \\newcommand{\\vone}{\\myvector{0\\\\1}} $\n",
    "$ \\newcommand{\\stateplus}{\\myvector{ \\sqrttwo \\\\  \\sqrttwo } } $\n",
    "$ \\newcommand{\\stateminus}{ \\myrvector{ \\sqrttwo \\\\ -\\sqrttwo } } $\n",
    "$ \\newcommand{\\myarray}[2]{ \\begin{array}{#1}#2\\end{array}} $\n",
    "$ \\newcommand{\\X}{ \\mymatrix{cc}{0 & 1 \\\\ 1 & 0}  } $\n",
    "$ \\newcommand{\\Z}{ \\mymatrix{rr}{1 & 0 \\\\ 0 & -1}  } $\n",
    "$ \\newcommand{\\Htwo}{ \\mymatrix{rrrr}{ \\frac{1}{2} & \\frac{1}{2} & \\frac{1}{2} & \\frac{1}{2} \\\\ \\frac{1}{2} & -\\frac{1}{2} & \\frac{1}{2} & -\\frac{1}{2} \\\\ \\frac{1}{2} & \\frac{1}{2} & -\\frac{1}{2} & -\\frac{1}{2} \\\\ \\frac{1}{2} & -\\frac{1}{2} & -\\frac{1}{2} & \\frac{1}{2} } } $\n",
    "$ \\newcommand{\\CNOT}{ \\mymatrix{cccc}{1 & 0 & 0 & 0 \\\\ 0 & 1 & 0 & 0 \\\\ 0 & 0 & 0 & 1 \\\\ 0 & 0 & 1 & 0} } $\n",
    "$ \\newcommand{\\norm}[1]{ \\left\\lVert #1 \\right\\rVert } $\n",
    "$ \\newcommand{\\pstate}[1]{ \\lceil \\mspace{-1mu} #1 \\mspace{-1.5mu} \\rfloor } $\n",
    "$ \\newcommand{\\greenbit}[1] {\\mathbf{{\\color{green}#1}}} $\n",
    "$ \\newcommand{\\bluebit}[1] {\\mathbf{{\\color{blue}#1}}} $\n",
    "$ \\newcommand{\\redbit}[1] {\\mathbf{{\\color{red}#1}}} $\n",
    "$ \\newcommand{\\brownbit}[1] {\\mathbf{{\\color{brown}#1}}} $\n",
    "$ \\newcommand{\\blackbit}[1] {\\mathbf{{\\color{black}#1}}} $"
   ]
  },
  {
   "cell_type": "markdown",
   "metadata": {},
   "source": [
    "<h1> Qiskit: Краткая справка </h1>"
   ]
  },
  {
   "cell_type": "markdown",
   "metadata": {},
   "source": [
    "<hr>\n",
    "<h3> Импорт основных объектов из qiskit </h3>"
   ]
  },
  {
   "cell_type": "markdown",
   "metadata": {},
   "source": [
    "    from qiskit import QuantumRegister, ClassicalRegister, QuantumCircuit, execute, Aer"
   ]
  },
  {
   "cell_type": "markdown",
   "metadata": {},
   "source": [
    "<hr>\n",
    "<h3>Создание квантовой схемы</h3>"
   ]
  },
  {
   "cell_type": "markdown",
   "metadata": {},
   "source": [
    "    # Квантовая схема состоит из квантового и классического регистра в qiskit\n",
    "    qreg = QuantumRegister(5) # Этот квантовый регистр имеет 5 кубитов\n",
    "    creg = ClassicalRegister(5) # Этот классический регистр имеет 5 битов\n",
    "\n",
    "    circuit = QuantumCircuit(qreg,creg) # Квантовая схема"
   ]
  },
  {
   "cell_type": "markdown",
   "metadata": {},
   "source": [
    "<hr>\n",
    "<h3>Однокубитовые гейты</h3>"
   ]
  },
  {
   "cell_type": "markdown",
   "metadata": {},
   "source": [
    "<h4> x-gate (NOT operator) </h4>\n",
    "\n",
    "$ X = \\mymatrix{cc}{0&1\\\\1&0} $\n",
    "<br><br>\n",
    "\n",
    "    circuit.x(qreg[2])"
   ]
  },
  {
   "cell_type": "markdown",
   "metadata": {},
   "source": [
    "<h4> z-gate (Z operator) </h4>\n",
    "\n",
    "$ Z = \\mymatrix{rr}{1&0\\\\0&-1} $\n",
    "<br><br>\n",
    "\n",
    "    circuit.z(qreg[4])"
   ]
  },
  {
   "cell_type": "markdown",
   "metadata": {},
   "source": [
    "<h4> h-gate (оператор Амадара) </h4>\n",
    "\n",
    "$ H = \\hadamard $\n",
    "<br><br>\n",
    "\n",
    "    circuit.h(qreg[1])"
   ]
  },
  {
   "cell_type": "markdown",
   "metadata": {},
   "source": [
    "<h4> ry-gate (оператор вращения) </h4>\n",
    "\n",
    "Это оператор вращения (вещественного) кубита в направлении против часовой стрелки.\n",
    "\n",
    "Матрица, представляющая вращение с углом $a$ в двумерном пространстве:\n",
    "\n",
    "$ R(a) = \\mymatrix{rr}{\\cos(a) & -\\sin(a) \\\\ \\sin(a) & \\cos(a) } $ \n",
    "<br><br>\n",
    "\n",
    "    circuit.ry(2*a,qreg[3])\n",
    "    \n",
    "Заметим, что мы передаем удвоение угла поворота для поворотов на единичном круге."
   ]
  },
  {
   "cell_type": "markdown",
   "metadata": {},
   "source": [
    "<hr>\n",
    "<h3>Двухкубитовые гейты</h3>\n",
    "\n",
    "<font color=\"#0000CC\"><i>В qiskit, когда система имеет два кубита $qreg[0]$ и $ qreg[1] $, они объединяются как $ qreg[1] \\otimes qreg[0]$.</i></font> "
   ]
  },
  {
   "cell_type": "markdown",
   "metadata": {},
   "source": [
    "<b>cx-gate (CNOT-оператор)</b>"
   ]
  },
  {
   "cell_type": "markdown",
   "metadata": {},
   "source": [
    "$ CNOT = \\mymatrix{cccc}{\\blackbit{1} & 0 & 0 & 0 \\\\ 0 & \\blackbit{1} & 0 & 0 \\\\ 0 & 0 & 0 & \\bluebit{1} \\\\ 0 & 0 & \\bluebit{1} & 0} . $\n",
    "<br><br>\n",
    "\n",
    "    # контролирующий кубит qreg[1] -- первый параметр\n",
    "    # целевой кубит qreg[0] -- второй параметр\n",
    "    circuit.cx(qreg[1],qreg[0]) "
   ]
  },
  {
   "cell_type": "markdown",
   "metadata": {},
   "source": [
    "<b>cu3-gate (управляемый оператор вращения)</b>\n",
    "\n",
    "В этом уроке мы используем данный гейт для управляемых ry-gate."
   ]
  },
  {
   "cell_type": "markdown",
   "metadata": {},
   "source": [
    "$ \\mymatrix{cccc}{1 & 0 & 0 & 0 \\\\ 0 & 1 & 0 & 0  \\\\ 0 & 0 & \\cos a & -\\sin a \\\\ 0 & 0 & \\sin a & \\cos a} . $\n",
    "<br><br>\n",
    "\n",
    "    # контролирующий кубит qreg[1] -- первый параметр\n",
    "    # целевой кубит qreg[0] -- второй параметр\n",
    "    circuit.cu3(2*a,0,0,qreg[1],qreg[0]) "
   ]
  },
  {
   "cell_type": "markdown",
   "metadata": {},
   "source": [
    "<hr>\n",
    "<h3>Трехкубитные гейты</h3>\n",
    "\n",
    "<font color=\"#0000CC\"><i>В qiskit, когда система имеет три кубита $qreg[0], qreg[1], qreg[2] $, они объединяются как $ qreg[2] \\otimes qreg[1] \\otimes qreg[0]$.</i></font> "
   ]
  },
  {
   "cell_type": "markdown",
   "metadata": {},
   "source": [
    "<b>ccx-gate (Тоффоли (CCNOT) оператор)</b>"
   ]
  },
  {
   "cell_type": "markdown",
   "metadata": {},
   "source": [
    "$ CCNOT = \\mymatrix{cccccccc}{\n",
    "    \\blackbit{1} & 0 & 0 & 0 & 0 & 0 & 0 & 0 \\\\ \n",
    "    0 & \\blackbit{1} & 0 & 0 & 0 & 0 & 0 & 0 \\\\\n",
    "    0 & 0 & \\blackbit{1} & 0 & 0 & 0 & 0 & 0 \\\\\n",
    "    0 & 0 & 0 & \\blackbit{1} & 0 & 0 & 0 & 0 \\\\\n",
    "    0 & 0 & 0 & 0 & \\blackbit{1} & 0 & 0 & 0 \\\\\n",
    "    0 & 0 & 0 & 0 & 0 & \\blackbit{1} & 0 & 0 \\\\\n",
    "    0 & 0 & 0 & 0 & 0 & 0 & 0 & \\bluebit{1} \\\\\n",
    "    0 & 0 & 0 & 0 & 0 & 0 & \\bluebit{1} & 0 \\\\ \n",
    "    } . $\n",
    "<br><br>\n",
    "\n",
    "    # 1ый контролирующий кубит qreg[2] -- первый параметр\n",
    "    # 2ый контролирующий кубит qreg[1] -- второй параметр\n",
    "    # целевой кубит qreg[0] -- третий параметр\n",
    "    circuit.ccx(qreg[2],qreg[1],qreg[0]) "
   ]
  },
  {
   "cell_type": "markdown",
   "metadata": {},
   "source": [
    "<hr>\n",
    "<h3>Измерение квантовой схемы</h3>"
   ]
  },
  {
   "cell_type": "markdown",
   "metadata": {},
   "source": [
    "1) Если размеры квантового и классического регистров одинаковы, мы можем определить измерения с помощью одной строки кода:\n",
    "\n",
    "    mycircuit.measure(qreg,creg)\n",
    "   \n",
    "Это связывает каждый кубит с классическим битом с тем же индексом."
   ]
  },
  {
   "cell_type": "markdown",
   "metadata": {},
   "source": [
    "2) Каждый квантовый бит может быть связан с указанным классическим битом следующим образом:\n",
    "\n",
    "    mycircuit.measure(qreg[0],creg[0])\n",
    "    mycircuit.measure(qreg[1],creg[4])\n",
    "    mycircuit.measure(qreg[2],creg[3])\n",
    "    mycircuit.measure(qreg[3],creg[1])\n",
    "    mycircuit.measure(qreg[4],creg[2])"
   ]
  },
  {
   "cell_type": "markdown",
   "metadata": {},
   "source": [
    "Заметьте, что\n",
    "\n",
    "    mycircuit.measure(qreg,creg)\n",
    "\n",
    "эквивалетно\n",
    "\n",
    "    #mycircuit.measure(qreg[0],creg[0])\n",
    "    #mycircuit.measure(qreg[1],creg[1])\n",
    "    #mycircuit.measure(qreg[2],creg[2])\n",
    "    #mycircuit.measure(qreg[3],creg[3])\n",
    "    #mycircuit.measure(qreg[4],creg[4])"
   ]
  },
  {
   "cell_type": "markdown",
   "metadata": {},
   "source": [
    "<hr>\n",
    "<h3>Квантовая операция, управляемая классическим регистром</h3>"
   ]
  },
  {
   "cell_type": "markdown",
   "metadata": {},
   "source": [
    "Эта опция доступна только при использовании симуляторов.\n",
    "\n",
    "В следующем примере последний оператор (x-gate) в квантовом регистре будет выполнен, если значение классического регистра равно 1.\n",
    "\n",
    "    q = QuantumRegister(1)\n",
    "    c = ClassicalRegister(1)\n",
    "    qc = QuantumCircuit(q,c)\n",
    "    ...\n",
    "    qc.measure(q,c)\n",
    "    qc.x(q[0]).c_if(c,1)"
   ]
  },
  {
   "cell_type": "markdown",
   "metadata": {},
   "source": [
    "<hr>\n",
    "<h3>Рисование или печать квантовой схемы</h3>"
   ]
  },
  {
   "cell_type": "markdown",
   "metadata": {},
   "source": [
    "Существуют различные методы построения схемы.\n",
    "\n",
    "Мы используем метод объекта схемы под названием \"draw\".\n",
    "\n",
    "1) Без каких-либо параметров схема рисуется с помощью <b>ASCII art</b>.\n",
    "\n",
    "    circuit.draw()"
   ]
  },
  {
   "cell_type": "markdown",
   "metadata": {},
   "source": [
    "Метод \"draw\" также может принимать различные параметры.\n",
    "\n",
    "2) Схема может быть нарисована с помощью библиотеки python \"<b>matplotlib</b>\".\n",
    "\n",
    "Мы можем изменить порядок классических и квантовых битов.\n",
    "\n",
    "Это порядок считывания результатов классических битов (сверху вниз).\n",
    "\n",
    "    circuit.draw(output='mpl',reverse_bits=True)"
   ]
  },
  {
   "cell_type": "markdown",
   "metadata": {},
   "source": [
    "3) Схема может быть нарисована с помощью <b>LaTeX</b>.\n",
    "\n",
    "Мы можем масштабировать выходную графику.\n",
    "\n",
    "    circuit.draw(output='latex',scale=0.5)"
   ]
  },
  {
   "cell_type": "markdown",
   "metadata": {},
   "source": [
    "<hr>\n",
    "<h3>Считывание квантового состояния схемы на локальном симуляторе</h3>\n",
    "\n",
    "Квантовое состояние схемы может быть считано при использовании \"вектора состояний\" (\"statevector_simulator\").\n",
    "\n",
    "    job = execute(circuit,Aer.get_backend('statevector_simulator'),optimization_level=0)\n",
    "    current_quantum_state=job.result().get_statevector(circuit)\n",
    "\n",
    "В результате получается список комплексных чисел. Мы можем получить к ним доступ следующим образом.\n",
    "\n",
    "    current_quantum_state[0].real # действительная часть первой амплитуды\n",
    "    current_quantum_state[0].imag # мнимая часть первой амплитуды"
   ]
  },
  {
   "cell_type": "markdown",
   "metadata": {},
   "source": [
    "<hr>\n",
    "<h3>Считывание унитарного оператора схемы на локальном симуляторе</h3>\n",
    "\n",
    "\"unitary_simulator\" дает унитарное представление всех элементов в схеме до этого момента.\n",
    "\n",
    "    job = execute(circuit,Aer.get_backend('unitary_simulator'),shots=1,optimization_level=0)\n",
    "    current_unitary=job.result().get_unitary(circuit)\n",
    "\n",
    "В результате получается двойной список комплексных чисел (потому что это матрица).\n",
    "\n",
    "    current_unitary[0][0].real # real part of the amplitude of the (1,1)-th entry\n",
    "    current_unitary[0][0].imag # imaginary part of the amplitude of the (1,1)-th entry"
   ]
  },
  {
   "cell_type": "markdown",
   "metadata": {},
   "source": [
    "<hr>\n",
    "<h3>Выполнение квантовой программы на локальном симуляторе</h3>"
   ]
  },
  {
   "cell_type": "markdown",
   "metadata": {},
   "source": [
    "Выполнение квантовой программы 1000 раз:\n",
    "\n",
    "    job = execute(mycircuit,Aer.get_backend('qasm_simulator'),shots=1000)\n",
    "    \n",
    "Результаты можно прочитать в виде словаря:\n",
    "\n",
    "    counts = job.result().get_counts(mycircuit)   \n",
    "    print(counts)\n",
    "    \n",
    "<font color=\"#0000CC\"><i>В qiskit, когда система имеет $n$ квантовых битов, $qreg[0], qreg[1], \\ldots, qreg[n-1]$, они объединяются в виде\n",
    "    \n",
    "$$ qreg[n-1] \\otimes \\cdots \\otimes qreg[1] \\otimes qreg[0]. $$ \n",
    "<br>\n",
    "Тогда любой результат - это $n$-битовая строка: \n",
    "\n",
    "$$ b_{n-1}\\cdots b_1 b_0, $$ \n",
    "\n",
    "где $ b_i \\in \\{0,1\\} $ является результат, наблюдаемый в $ i $-м квантовом бите ($ 0 \\leq i \\leq n-1 $).</i></font> \n"
   ]
  },
  {
   "cell_type": "code",
   "execution_count": null,
   "metadata": {},
   "outputs": [],
   "source": []
  }
 ],
 "metadata": {
  "kernelspec": {
   "display_name": "Python 3",
   "language": "python",
   "name": "python3"
  },
  "language_info": {
   "codemirror_mode": {
    "name": "ipython",
    "version": 3
   },
   "file_extension": ".py",
   "mimetype": "text/x-python",
   "name": "python",
   "nbconvert_exporter": "python",
   "pygments_lexer": "ipython3",
   "version": "3.9.5"
  }
 },
 "nbformat": 4,
 "nbformat_minor": 2
}
