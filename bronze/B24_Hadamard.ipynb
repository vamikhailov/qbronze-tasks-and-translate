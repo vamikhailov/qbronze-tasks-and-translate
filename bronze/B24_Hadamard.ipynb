{
 "cells": [
  {
   "cell_type": "markdown",
   "metadata": {},
   "source": [
    "<table> <tr>\n",
    "        <td  style=\"background-color:#ffffff;\">\n",
    "            <a href=\"http://qworld.lu.lv\" target=\"_blank\"><img src=\"../images/qworld.jpg\" width=\"25%\" align=\"left\"> </a></td>\n",
    "        <td style=\"background-color:#ffffff;vertical-align:bottom;text-align:right;\">\n",
    "            prepared by <a href=\"http://abu.lu.lv\" target=\"_blank\">Abuzer Yakaryilmaz</a> (<a href=\"http://qworld.lu.lv/index.php/qlatvia/\" target=\"_blank\">QLatvia</a>)\n",
    "        </td>        \n",
    "</tr></table>"
   ]
  },
  {
   "cell_type": "markdown",
   "metadata": {},
   "source": [
    "<table width=\"100%\"><tr><td style=\"color:#bbbbbb;background-color:#ffffff;font-size:11px;font-style:italic;text-align:right;\">This cell contains some macros. If there is a problem with displaying mathematical formulas, please run this cell to load these macros. </td></tr></table>\n",
    "$ \\newcommand{\\bra}[1]{\\langle #1|} $\n",
    "$ \\newcommand{\\ket}[1]{|#1\\rangle} $\n",
    "$ \\newcommand{\\braket}[2]{\\langle #1|#2\\rangle} $\n",
    "$ \\newcommand{\\dot}[2]{ #1 \\cdot #2} $\n",
    "$ \\newcommand{\\biginner}[2]{\\left\\langle #1,#2\\right\\rangle} $\n",
    "$ \\newcommand{\\mymatrix}[2]{\\left( \\begin{array}{#1} #2\\end{array} \\right)} $\n",
    "$ \\newcommand{\\myvector}[1]{\\mymatrix{c}{#1}} $\n",
    "$ \\newcommand{\\myrvector}[1]{\\mymatrix{r}{#1}} $\n",
    "$ \\newcommand{\\mypar}[1]{\\left( #1 \\right)} $\n",
    "$ \\newcommand{\\mybigpar}[1]{ \\Big( #1 \\Big)} $\n",
    "$ \\newcommand{\\sqrttwo}{\\frac{1}{\\sqrt{2}}} $\n",
    "$ \\newcommand{\\dsqrttwo}{\\dfrac{1}{\\sqrt{2}}} $\n",
    "$ \\newcommand{\\onehalf}{\\frac{1}{2}} $\n",
    "$ \\newcommand{\\donehalf}{\\dfrac{1}{2}} $\n",
    "$ \\newcommand{\\hadamard}{ \\mymatrix{rr}{ \\sqrttwo & \\sqrttwo \\\\ \\sqrttwo & -\\sqrttwo }} $\n",
    "$ \\newcommand{\\vzero}{\\myvector{1\\\\0}} $\n",
    "$ \\newcommand{\\vone}{\\myvector{0\\\\1}} $\n",
    "$ \\newcommand{\\vhadamardzero}{\\myvector{ \\sqrttwo \\\\  \\sqrttwo } } $\n",
    "$ \\newcommand{\\vhadamardone}{ \\myrvector{ \\sqrttwo \\\\ -\\sqrttwo } } $\n",
    "$ \\newcommand{\\myarray}[2]{ \\begin{array}{#1}#2\\end{array}} $\n",
    "$ \\newcommand{\\X}{ \\mymatrix{cc}{0 & 1 \\\\ 1 & 0}  } $\n",
    "$ \\newcommand{\\Z}{ \\mymatrix{rr}{1 & 0 \\\\ 0 & -1}  } $\n",
    "$ \\newcommand{\\Htwo}{ \\mymatrix{rrrr}{ \\frac{1}{2} & \\frac{1}{2} & \\frac{1}{2} & \\frac{1}{2} \\\\ \\frac{1}{2} & -\\frac{1}{2} & \\frac{1}{2} & -\\frac{1}{2} \\\\ \\frac{1}{2} & \\frac{1}{2} & -\\frac{1}{2} & -\\frac{1}{2} \\\\ \\frac{1}{2} & -\\frac{1}{2} & -\\frac{1}{2} & \\frac{1}{2} } } $\n",
    "$ \\newcommand{\\CNOT}{ \\mymatrix{cccc}{1 & 0 & 0 & 0 \\\\ 0 & 1 & 0 & 0 \\\\ 0 & 0 & 0 & 1 \\\\ 0 & 0 & 1 & 0} } $\n",
    "$ \\newcommand{\\norm}[1]{ \\left\\lVert #1 \\right\\rVert } $\n",
    "$ \\newcommand{\\pstate}[1]{ \\lceil \\mspace{-1mu} #1 \\mspace{-1.5mu} \\rfloor } $"
   ]
  },
  {
   "cell_type": "markdown",
   "metadata": {},
   "source": [
    "<h2>Оператор Амадара</h2>\n",
    "\n",
    "[Смотреть лекцию](https://youtu.be/VKva2R5FVfI)\n",
    "\n",
    "Примером квантового оператора для квантового подбрасывания монет является гейт Адамара. \n",
    "\n",
    "Он определяется как h-gate в Qiskit.\n",
    "\n",
    "Мы реализуем все три эксперимента с помощью Qiskit. Здесь мы представляем первый и третий эксперимент. Второй эксперимент будет представлен позже.\n",
    "\n",
    "_ Это будет шаг разминки, прежде чем ввести квантовый бит более формально._"
   ]
  },
  {
   "cell_type": "markdown",
   "metadata": {},
   "source": [
    "<h3> Первый эксперимент</h3>\n",
    "\n",
    "Наш квантовый бит (<b>кубит</b>) начинается в состоянии 0, которое отображается как $ \\ket{0} = \\myvector{1 \\\\ 0} $.\n",
    "\n",
    "<i>$ \\ket{\\cdot} $ называется ket-нотацией: Ket-нотация используется для представления вектора столбца в квантовой механике.\n",
    "Для заданного вектора столбцов $ \\ket{v} $ его сопряженная транспозиция представляет собой вектор строк, представленный как $ \\bra{v} $ (обозначение bra).\n",
    "</i>"
   ]
  },
  {
   "cell_type": "markdown",
   "metadata": {},
   "source": [
    "<h4> Схема с одним Адамаром </h4>\n",
    "\n",
    "Мы проектируем схему с одним кубитом и применяем квантовое подбрасывание монет один раз."
   ]
  },
  {
   "cell_type": "code",
   "execution_count": 1,
   "metadata": {},
   "outputs": [
    {
     "data": {
      "image/png": "[encoded data removed]",
      "text/plain": [
       "<Figure size 228.341x144.48 with 1 Axes>"
      ]
     },
     "execution_count": 1,
     "metadata": {},
     "output_type": "execute_result"
    }
   ],
   "source": [
    "# Импорт всех необходимых объектов и методов для квантовых схем\n",
    "from qiskit import QuantumRegister, ClassicalRegister, QuantumCircuit, execute, Aer\n",
    "\n",
    "# Определение квантового регистра с одним кубитом\n",
    "q =  QuantumRegister(1,\"qreg\")\n",
    "\n",
    "# Определение классического регистра с одним битом\n",
    "# Он хранит результат измерения квантовой части\n",
    "c = ClassicalRegister(1,\"creg\")\n",
    "\n",
    "# Определение квантовой схемы\n",
    "qc = QuantumCircuit(q,c)\n",
    "\n",
    "# Применение h-gate (Адамар: квантовое подбрасывание монет) к первому кубиту\n",
    "qc.h(q[0])\n",
    "\n",
    "# Измерение первого кубита и сохранение результата в первом классическом бите\n",
    "qc.measure(q,c)\n",
    "\n",
    "# Изображение схемы с помощью matplotlib\n",
    "qc.draw(output='mpl') # повторно запустите ячейку, если рисунок не отображается"
   ]
  },
  {
   "cell_type": "markdown",
   "metadata": {},
   "source": [
    "<img src=\"../images/photon1.jpg\" width=\"40%\">"
   ]
  },
  {
   "cell_type": "code",
   "execution_count": 2,
   "metadata": {},
   "outputs": [
    {
     "name": "stdout",
     "output_type": "stream",
     "text": [
      "{'0': 5001, '1': 4999}\n",
      "\n",
      "Состояние 0 наблюдается с частотой % 50.01\n",
      "Состояние 1 наблюдается с частотой % 49.99\n",
      "\n"
     ]
    },
    {
     "data": {
      "image/png": "[encoded data removed]",
      "text/plain": [
       "<Figure size 504x360 with 1 Axes>"
      ]
     },
     "execution_count": 2,
     "metadata": {},
     "output_type": "execute_result"
    }
   ],
   "source": [
    "# Выполнение схемы 10000 раз в локальном симуляторе\n",
    "\n",
    "job = execute(qc,Aer.get_backend('qasm_simulator'),shots=10000)\n",
    "counts = job.result().get_counts(qc)\n",
    "print(counts) # Печать результатов\n",
    "\n",
    "print()\n",
    "n_zeros = counts['0']\n",
    "n_ones = counts['1']\n",
    "print(\"Состояние 0 наблюдается с частотой %\",100*n_zeros/(n_zeros+n_ones))\n",
    "print(\"Состояние 1 наблюдается с частотой %\",100*n_ones/(n_zeros+n_ones))\n",
    "\n",
    "# Покажем результат с помощью гистограммы\n",
    "print()\n",
    "from qiskit.visualization import plot_histogram\n",
    "plot_histogram(counts)"
   ]
  },
  {
   "cell_type": "markdown",
   "metadata": {},
   "source": [
    "Ожидается, что числа результатов \"0\" и \"1\" будут близки друг к другу.\n",
    "\n",
    "<img src=\"../images/photon2.jpg\" width=\"40%\">\n",
    "\n",
    "<b style=\"color:black;\"> Как мы наблюдали после этой реализации, квантовые системы выводятся вероятностно.</b>"
   ]
  },
  {
   "cell_type": "markdown",
   "metadata": {},
   "source": [
    "<h3> Третий эксперимент </h3>\n",
    "\n",
    "_ Мы рассмотрим второй эксперимент позже, потому что он требует промежуточных измерений. (Мы можем проводить промежуточные измерения в симуляторах, но это невозможно в реальных машинах.)_\n",
    "\n",
    "Теперь мы проводим третий эксперимент.\n",
    "\n",
    "<img src=\"../images/photon6.jpg\" width=\"60%\">"
   ]
  },
  {
   "cell_type": "markdown",
   "metadata": {},
   "source": [
    "<h4> Схема с двумя гейтами Адамара </h4>\n",
    "\n",
    "Мы проектируем схему с одним кубитом и дважды применяем квантовое подбрасывание монет."
   ]
  },
  {
   "cell_type": "code",
   "execution_count": 9,
   "metadata": {},
   "outputs": [
    {
     "data": {
      "image/png": "[encoded data removed]",
      "text/plain": [
       "<Figure size 301.812x144.48 with 1 Axes>"
      ]
     },
     "execution_count": 9,
     "metadata": {},
     "output_type": "execute_result"
    }
   ],
   "source": [
    "# Импорт всех необходимых объектов и методов для квантовых схем\n",
    "from qiskit import QuantumRegister, ClassicalRegister, QuantumCircuit, execute, Aer\n",
    "\n",
    "# Определение квантового регистра с одним кубитом\n",
    "q2 =  QuantumRegister(1,\"qreg2\")\n",
    "\n",
    "# Определение классического регистра с одним битом\n",
    "# Он хранит результат измерения квантовой части\n",
    "c2 = ClassicalRegister(1,\"creg2\")\n",
    "\n",
    "# Определение квантовой схемы\n",
    "qc2 = QuantumCircuit(q2,c2)\n",
    "\n",
    "# Применение h-gate (Адамар: квантовое подбрасывание монет) к первому кубиту\n",
    "qc2.h(q2[0])\n",
    "\n",
    "# Применение h-gate (Адамар: квантовое подбрасывание монет) к первому кубиту ещё раз\n",
    "qc2.h(q2[0])\n",
    "\n",
    "# Измерение первого кубита и сохранение результата в первом классическом бите\n",
    "qc2.measure(q2,c2)\n",
    "\n",
    "# Изображение схемы с помощью matplotlib\n",
    "qc2.draw(output='mpl') # повторно запустите ячейку, если рисунок не отображается"
   ]
  },
  {
   "cell_type": "code",
   "execution_count": 12,
   "metadata": {},
   "outputs": [
    {
     "name": "stdout",
     "output_type": "stream",
     "text": [
      "{'0': 10000}\n"
     ]
    }
   ],
   "source": [
    "# Выполнение схемы 10000 раз в локальном симуляторе\n",
    "\n",
    "job = execute(qc2,Aer.get_backend('qasm_simulator'),shots=10000)\n",
    "counts2 = job.result().get_counts(qc2)\n",
    "print(counts2) # Печать результатов"
   ]
  },
  {
   "cell_type": "markdown",
   "metadata": {},
   "source": [
    "<u>Единственный</u> результат должен быть \"0\".\n",
    "\n",
    "<img src=\"../images/photon7.jpg\" width=\"60%\">"
   ]
  },
  {
   "cell_type": "markdown",
   "metadata": {},
   "source": [
    "<h3> Задача 1 </h3>\n",
    "\n",
    "Помните, что x-gate переворачивает значение кубита.\n",
    "\n",
    "Разработайте квантовую схему с одним кубитом.\n",
    "\n",
    "Кубит изначально установлен в $ \\ket{0} $.\n",
    "\n",
    "Установите значение кубита в $ \\ket{1} $ с помощью x-gate.\n",
    "\n",
    "Эксперимент 1: Примените один элемент Адамара, выполните измерение и выполните свою программу 10000 раз.\n",
    "\n",
    "Эксперимент 2: Примените два элемента Адамара, произведите измерение и выполните свою программу 10000 раз.\n",
    "\n",
    "Сравните свои результаты.\n",
    "\n",
    "Следующие две диаграммы представляют эти эксперименты."
   ]
  },
  {
   "cell_type": "markdown",
   "metadata": {},
   "source": [
    "<table>\n",
    "    <tr>\n",
    "        <td><img src=\"../images/photon8.jpg\" width=\"80%\"></td>\n",
    "        <td><img src=\"../images/photon9.jpg\" width=\"70%\"></td>\n",
    "    </tr>\n",
    "</table>"
   ]
  },
  {
   "cell_type": "markdown",
   "metadata": {},
   "source": [
    "<h3>Solution</h3>\n",
    "\n",
    "<h4>Experiment 1: x-gate, h-gate, and measurement </h4>"
   ]
  },
  {
   "cell_type": "code",
   "execution_count": 13,
   "metadata": {},
   "outputs": [
    {
     "data": {
      "image/png": "[encoded data removed]",
      "text/plain": [
       "<Figure size 288.541x144.48 with 1 Axes>"
      ]
     },
     "execution_count": 13,
     "metadata": {},
     "output_type": "execute_result"
    }
   ],
   "source": [
    "# Импорт всех необходимых объектов и методов для квантовых схем\n",
    "from qiskit import QuantumRegister, ClassicalRegister, QuantumCircuit, execute, Aer\n",
    "\n",
    "# Определение квантового регистра с одним кубитом\n",
    "q =  QuantumRegister(1,\"qreg\")\n",
    "\n",
    "# Определение классического регистра с одним битом\n",
    "# Он хранит результат измерения квантовой части\n",
    "c = ClassicalRegister(1,\"creg\")\n",
    "\n",
    "# Определение квантовой схемы\n",
    "qc = QuantumCircuit(q,c)\n",
    "\n",
    "# Применение x-gate к первому кубиту\n",
    "qc.x(q[0])\n",
    "\n",
    "# Применение h-gate (Адамар: квантовое подбрасывание монет) к первому кубиту\n",
    "qc.h(q[0])\n",
    "\n",
    "# Измерение первого кубита и сохранение результата в первом классическом бите\n",
    "qc.measure(q,c)\n",
    "\n",
    "# Изображение схемы с помощью matplotlib\n",
    "qc.draw(output='mpl') # повторно запустите ячейку, если рисунок не отображается"
   ]
  },
  {
   "cell_type": "code",
   "execution_count": 14,
   "metadata": {},
   "outputs": [
    {
     "name": "stdout",
     "output_type": "stream",
     "text": [
      "{'1': 4980, '0': 5020}\n"
     ]
    }
   ],
   "source": [
    "# Выполнение схемы 10000 раз в локальном симуляторе\n",
    "job = execute(qc,Aer.get_backend('qasm_simulator'),shots=10000)\n",
    "\n",
    "counts = job.result().get_counts(qc)\n",
    "print(counts) # Печать результатов"
   ]
  },
  {
   "cell_type": "markdown",
   "metadata": {},
   "source": [
    "<h4>Experiment 2: x-gate, h-gate, h-gate, and measurement </h4>"
   ]
  },
  {
   "cell_type": "code",
   "execution_count": 15,
   "metadata": {},
   "outputs": [
    {
     "data": {
      "image/png": "[encoded data removed]",
      "text/plain": [
       "<Figure size 362.012x144.48 with 1 Axes>"
      ]
     },
     "execution_count": 15,
     "metadata": {},
     "output_type": "execute_result"
    }
   ],
   "source": [
    "# Импорт всех необходимых объектов и методов для квантовых схем\n",
    "from qiskit import QuantumRegister, ClassicalRegister, QuantumCircuit, execute, Aer\n",
    "\n",
    "# Определение квантового регистра с одним кубитом\n",
    "q2 =  QuantumRegister(1,\"qreg2\")\n",
    "\n",
    "# Определение классического регистра с одним битом\n",
    "# Он хранит результат измерения квантовой части\n",
    "c2 = ClassicalRegister(1,\"creg2\")\n",
    "\n",
    "# Определение квантовой схемы\n",
    "qc2 = QuantumCircuit(q2,c2)\n",
    "\n",
    "# Применение x-gate к первому кубиту\n",
    "qc2.x(q2[0])\n",
    "\n",
    "# Применение h-gate (Адамар: квантовое подбрасывание монет) к первому кубиту дважды\n",
    "qc2.h(q2[0])\n",
    "qc2.h(q2[0])\n",
    "\n",
    "# Измерение первого кубита и сохранение результата в первом классическом бите\n",
    "qc2.measure(q2,c2)\n",
    "\n",
    "# Изображение схемы с помощью matplotlib\n",
    "qc2.draw(output='mpl') # повторно запустите ячейку, если рисунок не отображается"
   ]
  },
  {
   "cell_type": "code",
   "execution_count": 16,
   "metadata": {},
   "outputs": [
    {
     "name": "stdout",
     "output_type": "stream",
     "text": [
      "{'1': 10000}\n"
     ]
    }
   ],
   "source": [
    "# Выполнение схемы 10000 раз в локальном симуляторе\n",
    "job = execute(qc2,Aer.get_backend('qasm_simulator'),shots=10000)\n",
    "\n",
    "counts2 = job.result().get_counts(qc2)\n",
    "print(counts2) # Печать результатов"
   ]
  },
  {
   "cell_type": "code",
   "execution_count": null,
   "metadata": {},
   "outputs": [],
   "source": []
  }
 ],
 "metadata": {
  "kernelspec": {
   "display_name": "Python 3",
   "language": "python",
   "name": "python3"
  },
  "language_info": {
   "codemirror_mode": {
    "name": "ipython",
    "version": 3
   },
   "file_extension": ".py",
   "mimetype": "text/x-python",
   "name": "python",
   "nbconvert_exporter": "python",
   "pygments_lexer": "ipython3",
   "version": "3.9.5"
  }
 },
 "nbformat": 4,
 "nbformat_minor": 2
}
