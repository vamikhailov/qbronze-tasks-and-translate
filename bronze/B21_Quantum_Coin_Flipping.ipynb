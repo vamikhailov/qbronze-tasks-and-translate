{
 "cells": [
  {
   "cell_type": "markdown",
   "metadata": {},
   "source": [
    "<table> <tr>\n",
    "        <td  style=\"background-color:#ffffff;\">\n",
    "            <a href=\"http://qworld.lu.lv\" target=\"_blank\"><img src=\"../images/qworld.jpg\" width=\"25%\" align=\"left\"> </a></td>\n",
    "        <td style=\"background-color:#ffffff;vertical-align:bottom;text-align:right;\">\n",
    "            prepared by <a href=\"http://abu.lu.lv\" target=\"_blank\">Abuzer Yakaryilmaz</a> (<a href=\"http://qworld.lu.lv/index.php/qlatvia/\" target=\"_blank\">QLatvia</a>)\n",
    "        </td>        \n",
    "</tr></table>"
   ]
  },
  {
   "cell_type": "markdown",
   "metadata": {},
   "source": [
    "<table width=\"100%\"><tr><td style=\"color:#bbbbbb;background-color:#ffffff;font-size:11px;font-style:italic;text-align:right;\">This cell contains some macros. If there is a problem with displaying mathematical formulas, please run this cell to load these macros. </td></tr></table>\n",
    "$ \\newcommand{\\bra}[1]{\\langle #1|} $\n",
    "$ \\newcommand{\\ket}[1]{|#1\\rangle} $\n",
    "$ \\newcommand{\\braket}[2]{\\langle #1|#2\\rangle} $\n",
    "$ \\newcommand{\\dot}[2]{ #1 \\cdot #2} $\n",
    "$ \\newcommand{\\biginner}[2]{\\left\\langle #1,#2\\right\\rangle} $\n",
    "$ \\newcommand{\\mymatrix}[2]{\\left( \\begin{array}{#1} #2\\end{array} \\right)} $\n",
    "$ \\newcommand{\\myvector}[1]{\\mymatrix{c}{#1}} $\n",
    "$ \\newcommand{\\myrvector}[1]{\\mymatrix{r}{#1}} $\n",
    "$ \\newcommand{\\mypar}[1]{\\left( #1 \\right)} $\n",
    "$ \\newcommand{\\mybigpar}[1]{ \\Big( #1 \\Big)} $\n",
    "$ \\newcommand{\\sqrttwo}{\\frac{1}{\\sqrt{2}}} $\n",
    "$ \\newcommand{\\dsqrttwo}{\\dfrac{1}{\\sqrt{2}}} $\n",
    "$ \\newcommand{\\onehalf}{\\frac{1}{2}} $\n",
    "$ \\newcommand{\\donehalf}{\\dfrac{1}{2}} $\n",
    "$ \\newcommand{\\hadamard}{ \\mymatrix{rr}{ \\sqrttwo & \\sqrttwo \\\\ \\sqrttwo & -\\sqrttwo }} $\n",
    "$ \\newcommand{\\vzero}{\\myvector{1\\\\0}} $\n",
    "$ \\newcommand{\\vone}{\\myvector{0\\\\1}} $\n",
    "$ \\newcommand{\\stateplus}{\\myvector{ \\sqrttwo \\\\  \\sqrttwo } } $\n",
    "$ \\newcommand{\\stateminus}{ \\myrvector{ \\sqrttwo \\\\ -\\sqrttwo } } $\n",
    "$ \\newcommand{\\myarray}[2]{ \\begin{array}{#1}#2\\end{array}} $\n",
    "$ \\newcommand{\\X}{ \\mymatrix{cc}{0 & 1 \\\\ 1 & 0}  } $\n",
    "$ \\newcommand{\\I}{ \\mymatrix{rr}{1 & 0 \\\\ 0 & 1}  } $\n",
    "$ \\newcommand{\\Z}{ \\mymatrix{rr}{1 & 0 \\\\ 0 & -1}  } $\n",
    "$ \\newcommand{\\Htwo}{ \\mymatrix{rrrr}{ \\frac{1}{2} & \\frac{1}{2} & \\frac{1}{2} & \\frac{1}{2} \\\\ \\frac{1}{2} & -\\frac{1}{2} & \\frac{1}{2} & -\\frac{1}{2} \\\\ \\frac{1}{2} & \\frac{1}{2} & -\\frac{1}{2} & -\\frac{1}{2} \\\\ \\frac{1}{2} & -\\frac{1}{2} & -\\frac{1}{2} & \\frac{1}{2} } } $\n",
    "$ \\newcommand{\\CNOT}{ \\mymatrix{cccc}{1 & 0 & 0 & 0 \\\\ 0 & 1 & 0 & 0 \\\\ 0 & 0 & 0 & 1 \\\\ 0 & 0 & 1 & 0} } $\n",
    "$ \\newcommand{\\norm}[1]{ \\left\\lVert #1 \\right\\rVert } $\n",
    "$ \\newcommand{\\pstate}[1]{ \\lceil \\mspace{-1mu} #1 \\mspace{-1.5mu} \\rfloor } $"
   ]
  },
  {
   "cell_type": "markdown",
   "metadata": {},
   "source": [
    "$ \\newcommand{\\bra}[1]{\\langle #1|} $\n",
    "$ \\newcommand{\\ket}[1]{|#1\\rangle} $\n",
    "$ \\newcommand{\\braket}[2]{\\langle #1|#2\\rangle} $\n",
    "$ \\newcommand{\\dot}[2]{ #1 \\cdot #2} $\n",
    "$ \\newcommand{\\biginner}[2]{\\left\\langle #1,#2\\right\\rangle} $\n",
    "$ \\newcommand{\\mymatrix}[2]{\\left( \\begin{array}{#1} #2\\end{array} \\right)} $\n",
    "$ \\newcommand{\\myvector}[1]{\\mymatrix{c}{#1}} $\n",
    "$ \\newcommand{\\myrvector}[1]{\\mymatrix{r}{#1}} $\n",
    "$ \\newcommand{\\mypar}[1]{\\left( #1 \\right)} $\n",
    "$ \\newcommand{\\mybigpar}[1]{ \\Big( #1 \\Big)} $\n",
    "$ \\newcommand{\\sqrttwo}{\\frac{1}{\\sqrt{2}}} $\n",
    "$ \\newcommand{\\dsqrttwo}{\\dfrac{1}{\\sqrt{2}}} $\n",
    "$ \\newcommand{\\onehalf}{\\frac{1}{2}} $\n",
    "$ \\newcommand{\\donehalf}{\\dfrac{1}{2}} $\n",
    "$ \\newcommand{\\hadamard}{ \\mymatrix{rr}{ \\sqrttwo & \\sqrttwo \\\\ \\sqrttwo & -\\sqrttwo }} $\n",
    "$ \\newcommand{\\vzero}{\\myvector{1\\\\0}} $\n",
    "$ \\newcommand{\\vone}{\\myvector{0\\\\1}} $\n",
    "$ \\newcommand{\\vhadamardzero}{\\myvector{ \\sqrttwo \\\\  \\sqrttwo } } $\n",
    "$ \\newcommand{\\vhadamardone}{ \\myrvector{ \\sqrttwo \\\\ -\\sqrttwo } } $\n",
    "$ \\newcommand{\\myarray}[2]{ \\begin{array}{#1}#2\\end{array}} $\n",
    "$ \\newcommand{\\X}{ \\mymatrix{cc}{0 & 1 \\\\ 1 & 0}  } $\n",
    "$ \\newcommand{\\Z}{ \\mymatrix{rr}{1 & 0 \\\\ 0 & -1}  } $\n",
    "$ \\newcommand{\\Htwo}{ \\mymatrix{rrrr}{ \\frac{1}{2} & \\frac{1}{2} & \\frac{1}{2} & \\frac{1}{2} \\\\ \\frac{1}{2} & -\\frac{1}{2} & \\frac{1}{2} & -\\frac{1}{2} \\\\ \\frac{1}{2} & \\frac{1}{2} & -\\frac{1}{2} & -\\frac{1}{2} \\\\ \\frac{1}{2} & -\\frac{1}{2} & -\\frac{1}{2} & \\frac{1}{2} } } $\n",
    "$ \\newcommand{\\CNOT}{ \\mymatrix{cccc}{1 & 0 & 0 & 0 \\\\ 0 & 1 & 0 & 0 \\\\ 0 & 0 & 0 & 1 \\\\ 0 & 0 & 1 & 0} } $\n",
    "$ \\newcommand{\\norm}[1]{ \\left\\lVert #1 \\right\\rVert } $"
   ]
  },
  {
   "cell_type": "markdown",
   "metadata": {},
   "source": [
    "<h2>Переворачивание квантовой монеты</h2>\n",
    "\n",
    "[Смотреть лекцию](https://youtu.be/ZfMYKIbuXVw)\n",
    "\n",
    "Мы объясняем серию экспериментов и пытаемся понять основные модели поведения \"частиц\"."
   ]
  },
  {
   "cell_type": "markdown",
   "metadata": {},
   "source": [
    "<h3> Первый эксперимент </h3>\n",
    "\n",
    "Мы проследим поведение фотона.\n",
    "\n",
    "Для квантового подбрасывания монет мы используем светоделитель.\n",
    "\n",
    "Для измерений мы используем два детектора фотонов.\n",
    "\n",
    "<ul>\n",
    "    <li> Фотон - наша монета. </li>\n",
    "    <li> Светоделитель переворачивает фотон. </li>\n",
    "    <li> Детекторы фотонов - это наши глаза.</li>\n",
    "</ul>"
   ]
  },
  {
   "cell_type": "markdown",
   "metadata": {},
   "source": [
    "<h4> Настройка </h4>\n",
    "\n",
    "</b>Мы посылаем фотоны на светоделитель, как показано ниже.\n",
    "\n",
    "Мы ожидаем двух вариантов поведения: светоделитель либо передает, либо отражает фотон.\n",
    "\n",
    "<img src=\"../images/photon1.jpg\" width=\"50%\">"
   ]
  },
  {
   "cell_type": "markdown",
   "metadata": {},
   "source": [
    "<hr>\n",
    "<center><font style=\"color:blue;\">\n",
    "    Вы можете провести эти эксперименты с помощью интерактивного инструмента с открытым исходным кодом <a href=\"https://quantumgame.io/level/0\" target=\"_blank\">quantumgame</a> (требуется подключение к Интернету).\n",
    "    </font></center>    \n",
    "<hr>    "
   ]
  },
  {
   "cell_type": "markdown",
   "metadata": {},
   "source": [
    "<h4> Экспериментальные результаты </h4>\n",
    "\n",
    "После многих экспериментов мы наблюдаем фотоны в каждом детекторе фотонов почти равномерно ($ \\approx \\% 50 $ и $ \\approx \\% 50 $).\n",
    "\n",
    "<img src=\"../images/photon2.jpg\" width=\"50%\">"
   ]
  },
  {
   "cell_type": "markdown",
   "metadata": {},
   "source": [
    "<h4> Первая интерпретация </h4>\n",
    "\n",
    "Таким образом, светоделитель ведет себя аналогично честной монете.\n",
    "\n",
    "<ul>\n",
    "    <li> Орёл (состояние 0): Переданный </li>\n",
    "    <li> Решка (состояние 1): Отраженный </li>\n",
    "</ul>"
   ]
  },
  {
   "cell_type": "markdown",
   "metadata": {},
   "source": [
    "<h4> Моделирование </h4>\n",
    "\n",
    "Мы описываем наш первый эксперимент одним (вероятностным) битом.\n",
    "\n",
    "Мы начинаем в состоянии 0.\n",
    "\n",
    "С половинной вероятностью фотон передает, и состояние не меняется.\n",
    "\n",
    "С половинной вероятностью фотон отражается, и состояние переворачивается.\n",
    "\n",
    "<img src=\"../images/photon3.jpg\" width=\"50%\">"
   ]
  },
  {
   "cell_type": "markdown",
   "metadata": {},
   "source": [
    "<h3> Второй эксперимент </h3>\n",
    "\n",
    "Мы расширим наш эксперимент с помощью двух зеркал и еще одного светоделителя.\n",
    "\n",
    "Затем мы пытаемся проверить нашу <u>интерпретацию</u> и <u>модель<u>."
   ]
  },
  {
   "cell_type": "markdown",
   "metadata": {},
   "source": [
    "<img src=\"../images/photon4.jpg\" width=\"60%\">"
   ]
  },
  {
   "cell_type": "markdown",
   "metadata": {},
   "source": [
    "В этой установке у нас есть три детектора фотонов.\n",
    "\n",
    "Используя нашу модель, описанную выше, мы ожидаем наблюдать фотон \n",
    "<ul> \n",
    "    <li> в $ A $ с вероятностью $ 0,5 $, </li>\n",
    "    <li> и в $ B1 $ и $ B2 $ с вероятностями $ 0,25 $. </li>\n",
    "</ul>\n",
    "\n",
    "Таким образом, наш прогноз для частот наблюдения фотонов в $ A $, $ B1 $ и $ B2 $ соответственно\n",
    "\n",
    "$$\n",
    "\\approx \\% 50, \\approx \\% 25, \\mbox{ и } \\approx \\% 25.\n",
    "$$"
   ]
  },
  {
   "cell_type": "markdown",
   "metadata": {},
   "source": [
    "<h4> Экспериментальные результаты </h4>\n",
    "\n",
    "Эксперименты подтверждают наши предсказания.\n",
    "\n",
    "Наша модель объясняет второй эксперимент."
   ]
  },
  {
   "cell_type": "markdown",
   "metadata": {},
   "source": [
    "<img src=\"../images/photon5.jpg\" width=\"65%\">"
   ]
  },
  {
   "cell_type": "markdown",
   "metadata": {},
   "source": [
    "<h3> Третий эксперимент </h3>\n",
    "\n",
    "В третьем эксперименте мы удаляем детектор фотонов $ A $.\n",
    "\n",
    "Таким образом, у нас есть только детекторы $ B1 $ и $ B2 $.\n",
    "\n",
    "<img src=\"../images/photon6.jpg\" width=\"65%\">"
   ]
  },
  {
   "cell_type": "markdown",
   "metadata": {},
   "source": [
    "<h4> Наш прогноз </h4>\n",
    "\n",
    "Третья установка похожа на то, чтобы дважды подбросить честную монету.\n",
    "\n",
    "Наш прогноз состоит в том, чтобы наблюдать фотоны в $ B1 $ и $ B2 $ почти равномерно ($ \\approx \\% 50 $ и $ \\approx \\% 50 $)."
   ]
  },
  {
   "cell_type": "markdown",
   "metadata": {},
   "source": [
    "<h4>Математика для нашего прогноза</h4>\n",
    "\n",
    "0) На начальном этапе мы находимся в состоянии $ 0 $. Если мы используем наше векторное представление, то это\n",
    "\n",
    "$$ v_0 = \\myvector{1 \\\\ 0}. $$\n",
    "\n",
    "1) Мы подбрасываем честную монету. Ожидается, что новое вероятностное состояние будет находиться в обоих состояниях ($0$ и $1$) с половинной вероятностью ($ \\frac{1}{2} = 0.5 $).\n",
    "\n",
    "$$\n",
    "v_1 = \\myvector{\\frac{1}{2} \\\\ \\frac{1}{2}}\n",
    "    = \\mymatrix{cc}{ \\frac{1}{2} & \\frac{1}{2} \\\\ \\frac{1}{2} & \\frac{1}{2} }  \n",
    "    \\myvector{1 \\\\ 0}.\n",
    "$$\n",
    "\n",
    "Здесь переходы честной монеты могут быть представлены матрицей (таблицей): $ \\mymatrix{cc}{ \\frac{1}{2} & \\frac{1}{2} \\\\ \\frac{1}{2} & \\frac{1}{2} } $ . \n",
    "\n",
    "2) Затем мы снова подбрасываем честную монету. Новое вероятностное состояние будет таким же:\n",
    "\n",
    "$$\n",
    "v_2 = \\myvector{\\frac{1}{2} \\\\ \\frac{1}{2}} = \n",
    "    \\mymatrix{cc}{ \\frac{1}{2} & \\frac{1}{2} \\\\ \\frac{1}{2} & \\frac{1}{2} }  \n",
    "    \\myvector{\\frac{1}{2} \\\\ \\frac{1}{2}}.\n",
    "$$\n",
    "\n",
    "<b><i> Наш прогноз объясняется математическим расчетом. </i></b>"
   ]
  },
  {
   "cell_type": "markdown",
   "metadata": {},
   "source": [
    "<img src=\"../images/prediction1.jpg\" width=\"50%\">"
   ]
  },
  {
   "cell_type": "markdown",
   "metadata": {},
   "source": [
    "<h4> Экспериментальные результаты </h4>\n",
    "\n",
    "<b style=\"color:red;\">Однако результаты эксперимента не подтверждают наш прогноз.<b>"
   ]
  },
  {
   "cell_type": "markdown",
   "metadata": {},
   "source": [
    "<img src=\"../images/photon7.jpg\" width=\"65%\">"
   ]
  },
  {
   "cell_type": "markdown",
   "metadata": {},
   "source": [
    "Мы наблюдаем фотоны <b>только</b> в детекторе $ B1 $, и мы <b>никогда</b> не наблюдаем ни одного фотона в детекторе $ B2 $.\n",
    "\n",
    "<b> Как это возможно?</b>"
   ]
  },
  {
   "cell_type": "markdown",
   "metadata": {},
   "source": [
    "    Мы можем заключить, что \"классическая\" (ньютоновская) механика не в состоянии объяснить поведение частиц."
   ]
  },
  {
   "cell_type": "markdown",
   "metadata": {},
   "source": [
    "Нам нужна новая (математическая) модель.\n",
    "\n",
    "Мы можем объяснить наши эксперименты с помощью квантовой механики."
   ]
  },
  {
   "cell_type": "code",
   "execution_count": null,
   "metadata": {},
   "outputs": [],
   "source": []
  }
 ],
 "metadata": {
  "kernelspec": {
   "display_name": "Python 3",
   "language": "python",
   "name": "python3"
  },
  "language_info": {
   "codemirror_mode": {
    "name": "ipython",
    "version": 3
   },
   "file_extension": ".py",
   "mimetype": "text/x-python",
   "name": "python",
   "nbconvert_exporter": "python",
   "pygments_lexer": "ipython3",
   "version": "3.9.5"
  }
 },
 "nbformat": 4,
 "nbformat_minor": 2
}
