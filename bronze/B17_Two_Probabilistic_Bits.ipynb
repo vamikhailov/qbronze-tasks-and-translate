{
 "cells": [
  {
   "cell_type": "markdown",
   "metadata": {},
   "source": [
    "<table> <tr>\n",
    "        <td  style=\"background-color:#ffffff;\">\n",
    "            <a href=\"http://qworld.lu.lv\" target=\"_blank\"><img src=\"../images/qworld.jpg\" width=\"25%\" align=\"left\"> </a></td>\n",
    "        <td style=\"background-color:#ffffff;vertical-align:bottom;text-align:right;\">\n",
    "            prepared by <a href=\"http://abu.lu.lv\" target=\"_blank\">Abuzer Yakaryilmaz</a> (<a href=\"http://qworld.lu.lv/index.php/qlatvia/\" target=\"_blank\">QLatvia</a>)\n",
    "        </td>        \n",
    "</tr></table>"
   ]
  },
  {
   "cell_type": "markdown",
   "metadata": {},
   "source": [
    "<table width=\"100%\"><tr><td style=\"color:#bbbbbb;background-color:#ffffff;font-size:11px;font-style:italic;text-align:right;\">This cell contains some macros. If there is a problem with displaying mathematical formulas, please run this cell to load these macros. </td></tr></table>\n",
    "$ \\newcommand{\\bra}[1]{\\langle #1|} $\n",
    "$ \\newcommand{\\ket}[1]{|#1\\rangle} $\n",
    "$ \\newcommand{\\braket}[2]{\\langle #1|#2\\rangle} $\n",
    "$ \\newcommand{\\dot}[2]{ #1 \\cdot #2} $\n",
    "$ \\newcommand{\\biginner}[2]{\\left\\langle #1,#2\\right\\rangle} $\n",
    "$ \\newcommand{\\mymatrix}[2]{\\left( \\begin{array}{#1} #2\\end{array} \\right)} $\n",
    "$ \\newcommand{\\myvector}[1]{\\mymatrix{c}{#1}} $\n",
    "$ \\newcommand{\\myrvector}[1]{\\mymatrix{r}{#1}} $\n",
    "$ \\newcommand{\\mypar}[1]{\\left( #1 \\right)} $\n",
    "$ \\newcommand{\\mybigpar}[1]{ \\Big( #1 \\Big)} $\n",
    "$ \\newcommand{\\sqrttwo}{\\frac{1}{\\sqrt{2}}} $\n",
    "$ \\newcommand{\\dsqrttwo}{\\dfrac{1}{\\sqrt{2}}} $\n",
    "$ \\newcommand{\\onehalf}{\\frac{1}{2}} $\n",
    "$ \\newcommand{\\donehalf}{\\dfrac{1}{2}} $\n",
    "$ \\newcommand{\\hadamard}{ \\mymatrix{rr}{ \\sqrttwo & \\sqrttwo \\\\ \\sqrttwo & -\\sqrttwo }} $\n",
    "$ \\newcommand{\\vzero}{\\myvector{1\\\\0}} $\n",
    "$ \\newcommand{\\vone}{\\myvector{0\\\\1}} $\n",
    "$ \\newcommand{\\stateplus}{\\myvector{ \\sqrttwo \\\\  \\sqrttwo } } $\n",
    "$ \\newcommand{\\stateminus}{ \\myrvector{ \\sqrttwo \\\\ -\\sqrttwo } } $\n",
    "$ \\newcommand{\\myarray}[2]{ \\begin{array}{#1}#2\\end{array}} $\n",
    "$ \\newcommand{\\X}{ \\mymatrix{cc}{0 & 1 \\\\ 1 & 0}  } $\n",
    "$ \\newcommand{\\I}{ \\mymatrix{rr}{1 & 0 \\\\ 0 & 1}  } $\n",
    "$ \\newcommand{\\Z}{ \\mymatrix{rr}{1 & 0 \\\\ 0 & -1}  } $\n",
    "$ \\newcommand{\\Htwo}{ \\mymatrix{rrrr}{ \\frac{1}{2} & \\frac{1}{2} & \\frac{1}{2} & \\frac{1}{2} \\\\ \\frac{1}{2} & -\\frac{1}{2} & \\frac{1}{2} & -\\frac{1}{2} \\\\ \\frac{1}{2} & \\frac{1}{2} & -\\frac{1}{2} & -\\frac{1}{2} \\\\ \\frac{1}{2} & -\\frac{1}{2} & -\\frac{1}{2} & \\frac{1}{2} } } $\n",
    "$ \\newcommand{\\CNOT}{ \\mymatrix{cccc}{1 & 0 & 0 & 0 \\\\ 0 & 1 & 0 & 0 \\\\ 0 & 0 & 0 & 1 \\\\ 0 & 0 & 1 & 0} } $\n",
    "$ \\newcommand{\\norm}[1]{ \\left\\lVert #1 \\right\\rVert } $\n",
    "$ \\newcommand{\\pstate}[1]{ \\lceil \\mspace{-1mu} #1 \\mspace{-1.5mu} \\rfloor } $"
   ]
  },
  {
   "cell_type": "markdown",
   "metadata": {},
   "source": [
    "<h2> Два Вероятностных бита </h2>\n",
    "\n",
    "[Смотреть лекцию](https://youtu.be/ulbd-1c71sk)\n",
    "\n",
    "Предположим, что у нас есть два вероятностных бита, и наши вероятностные состояния соответственно равны\n",
    "\n",
    "$$ \\myvector{0.2 \\\\ 0.8} \\mbox{ и } \\myvector{0.6 \\\\ 0.4 }. $$\n",
    "\n",
    "Предположим, что у нас есть два вероятностных бита, и наши вероятностные состояния соответственно равны"
   ]
  },
  {
   "cell_type": "markdown",
   "metadata": {},
   "source": [
    "В общей сложности у нас есть четыре разных государства. Мы можем назвать их следующим образом:\n",
    "<ul>\n",
    "    <li>00: оба бита в состоянии 0</li>\n",
    "    <li>01: первый бит в состоянии 0 и второй бит в состоянии 1</li>\n",
    "    <li>10: первый бит в состоянии 1 и второй бит в состоянии 0</li>\n",
    "    <li>11: оба бита в состоянии 1</li>\n",
    "</ul>"
   ]
  },
  {
   "cell_type": "markdown",
   "metadata": {},
   "source": [
    "<h3> Задача 1 </h3>\n",
    "\n",
    "<b> Обсуждение и анализ: </b>\n",
    "\n",
    "Каковы вероятности пребывания в состояниях $ 00 $, $ 01 $, $ 10 $, и 11 долларов?\n",
    "\n",
    "Как мы можем представить эти вероятности в виде вектора столбцов?"
   ]
  },
  {
   "cell_type": "markdown",
   "metadata": {},
   "source": [
    "<h3> Представление для состояний 0 и 1 </h3>\n",
    "\n",
    "Векторное представление состояния 0 равно $ \\myvector{1 \\\\ 0} $. Аналогично, векторное представление состояния 1 равно $ \\myvector{0 \\\\ 1} $.\n",
    "\n",
    "Мы используем $ \\pstate{0} $ для представления $ \\myvector{1 \\\\ 0} $ и $ \\pstate{1} $ для представления $ \\myvector{0 \\\\ 1} $.\n",
    "\n",
    "Тогда вероятностное состояние $ \\myvector{0.2 \\\\ 0.8} $ также представляется как $ 0.2 \\pstate{0} + 0.8 \\pstate{1} $.\n",
    "\n",
    "Аналогично, вероятностное состояние $ \\myvector{0.6 \\\\ 0.4} $ также представлено как $ 0.6 \\pstate{0} + 0.4 \\pstate{1} $."
   ]
  },
  {
   "cell_type": "markdown",
   "metadata": {},
   "source": [
    "<h3> Составная система </h3>\n",
    "\n",
    "Когда две системы составлены, их состояния тензорируются для вычисления состояния составной системы.\n",
    "\n",
    "Вероятностное состояние первого бита равно $ \\myvector{0.2 \\\\ 0.8} = 0.2 \\pstate{0} + 0.8 \\pstate{1} $.\n",
    "\n",
    "Вероятностное состояние второго бита равно $ \\myvector{0.6 \\\\ 0.4} = 0.6 \\pstate{0} + 0.4 \\pstate{1} $.\n",
    "\n",
    "Тогда вероятностное состояние составной системы равно $ \\big( 0.2 \\pstate{0} + 0.8 \\pstate{1} \\big) \\otimes \\big( 0.6 \\pstate{0} + 0.4 \\pstate{1} \\big) $."
   ]
  },
  {
   "cell_type": "markdown",
   "metadata": {},
   "source": [
    "<h3> Задача 2 </h3>\n",
    "\n",
    "Найти вероятностное состояние составной системы.\n",
    "\n",
    "<i> \n",
    "Правило 1: Тензорное произведение распределяется по сложению таким же образом, как и распределение умножения по сложению.\n",
    "\n",
    "Правило 2: $ \\big( 0.3 \\pstate{1} \\big) \\otimes \\big( 0.7 \\pstate{0} \\big) = (0.3 \\cdot 0.7) \\big( \\pstate{1} \\otimes \\pstate{0} \\big) = 0.21 \\pstate{10} $.\n",
    "</i>"
   ]
  },
  {
   "cell_type": "markdown",
   "metadata": {},
   "source": [
    "<h3>Решение</h3>\n",
    "\n",
    "Вероятностное состояние составной системы равно $ \\big( 0.2 \\pstate{0} + 0.8 \\pstate{1} \\big) \\otimes \\big( 0.6 \\pstate{0} + 0.4 \\pstate{1} \\big) $.\n",
    "\n",
    "$$ \\big( 0.2 \\pstate{0} + 0.8 \\pstate{1} \\big) \\otimes \\big( 0.6 \\pstate{0} + 0.4 \\pstate{1} \\big) = $$\n",
    "\n",
    "$$ 0.12 \\big( \\pstate{0} \\otimes \\pstate{0} \\big) + 0.08 \\big( \\pstate{0} \\otimes \\pstate{1} \\big) + 0.48 \\big( \\pstate{1} \\otimes \\pstate{0} \\big) + 0.32 \\big( \\pstate{1} \\otimes \\pstate{1} \\big) = $$\n",
    "\n",
    "$$ 0.12 \\pstate{00} + 0.08 \\pstate{01} + 0.48 \\pstate{10} + 0.32 \\pstate{11}. $$"
   ]
  },
  {
   "cell_type": "markdown",
   "metadata": {},
   "source": [
    "<h3> Задача 3 </h3>\n",
    "\n",
    "Найдите вероятностное состояние составной системы, вычисляя это тензорное произведение $ \\myvector{0.2 \\\\ 0.8} \\otimes \\myvector{0.6 \\\\ 0.4 } $."
   ]
  },
  {
   "cell_type": "markdown",
   "metadata": {},
   "source": [
    "<h3>Решение</h3>\n",
    "\n",
    " $ \\myvector{0.2 \\\\ 0.8} \\otimes \\myvector{0.6 \\\\ 0.4 } = \\myvector{ 0.2 \\myvector{0.6 \\\\ 0.4} \\\\ 0.8 \\myvector{0.6 \\\\ 0.4} } = \\myvector{0.12 \\\\ 0.08 \\\\ 0.48 \\\\ 0.32} $."
   ]
  },
  {
   "cell_type": "markdown",
   "metadata": {},
   "source": [
    "<h3> Задача 4 </h3>\n",
    "\n",
    "Найдите векторные представления $ \\pstate{00} $, $ \\pstate{01} $, $\\pstate{10}$ и $ \\pstate{11} $.\n",
    "\n",
    "<i>Векторное представление $ \\pstate{ab} $ равно $ \\pstate{a} \\otimes \\pstate{b} $ для $ a,b \\in \\{0,1\\} $.</i>"
   ]
  },
  {
   "cell_type": "markdown",
   "metadata": {},
   "source": [
    "<h3>Решение</h3>\n",
    "\n",
    "$ \\pstate{00} = \\pstate{0} \\otimes \\pstate{0} = \\myvector{1 \\\\ 0} \\otimes \\myvector{1 \\\\ 0} =  \\myvector{1 \\myvector{1 \\\\ 0} \\\\ 0 \\myvector{1 \\\\ 0} }  = \\myvector{1 \\\\ 0 \\\\ 0 \\\\ 0} $.\n",
    "\n",
    "$ \\pstate{01} = \\pstate{0} \\otimes \\pstate{1} = \\myvector{1 \\\\ 0} \\otimes \\myvector{0 \\\\ 1} = \\myvector{1 \\myvector{0 \\\\ 1} \\\\ 0 \\myvector{0 \\\\ 1} }  = \\myvector{0 \\\\ 1 \\\\ 0 \\\\ 0} $.\n",
    "\n",
    "$ \\pstate{10} = \\pstate{1} \\otimes \\pstate{0} = \\myvector{0 \\\\ 1} \\otimes \\myvector{1 \\\\ 0} = \\myvector{0 \\myvector{1 \\\\ 0} \\\\ 1 \\myvector{1 \\\\ 0} }  = \\myvector{0 \\\\ 0 \\\\ 1 \\\\ 0} $.\n",
    "\n",
    "$ \\pstate{11} = \\pstate{1} \\otimes \\pstate{1} = \\myvector{0 \\\\ 1} \\otimes \\myvector{0 \\\\ 1} = \\myvector{0 \\myvector{0 \\\\ 1} \\\\ 1 \\myvector{0 \\\\ 1} }  = \\myvector{0 \\\\ 0 \\\\ 0 \\\\ 1} $."
   ]
  },
  {
   "cell_type": "markdown",
   "metadata": {},
   "source": [
    "<h3> Task 5 [extra] </h3>\n",
    "\n",
    "Suppose that we have three bits.\n",
    "\n",
    "Find the vector representations of $ \\pstate{abc} $ for each $ a,b,c \\in \\{0,1\\} $."
   ]
  },
  {
   "cell_type": "markdown",
   "metadata": {},
   "source": [
    "<h3> Task 6 [extra] </h3>\n",
    "\n",
    "<i>This is a challenging task.</i>\n",
    "\n",
    "Suppose that we have four bits. \n",
    "\n",
    "Number 9 is represented as $ 1001 $ in binary. Verify that the vector representation of $ \\pstate{1001} $ is the zero vector except its $10$th entry, which is 1.\n",
    "\n",
    "Number 7 is represented as $ 0111 $ in binary. Verify that the vector representation of $ \\pstate{0111} $ is the zero vector except its $8$th entry, which is 1.\n",
    "\n",
    "Generalize this idea for any number between 0 and 15.\n",
    "\n",
    "Generalize this idea for any number of bits."
   ]
  }
 ],
 "metadata": {
  "kernelspec": {
   "display_name": "Python 3",
   "language": "python",
   "name": "python3"
  },
  "language_info": {
   "codemirror_mode": {
    "name": "ipython",
    "version": 3
   },
   "file_extension": ".py",
   "mimetype": "text/x-python",
   "name": "python",
   "nbconvert_exporter": "python",
   "pygments_lexer": "ipython3",
   "version": "3.9.5"
  }
 },
 "nbformat": 4,
 "nbformat_minor": 2
}
