{
 "cells": [
  {
   "cell_type": "markdown",
   "metadata": {},
   "source": [
    "<table> <tr>\n",
    "        <td  style=\"background-color:#ffffff;\">\n",
    "            <a href=\"http://qworld.lu.lv\" target=\"_blank\"><img src=\"../images/qworld.jpg\" width=\"25%\" align=\"left\"> </a></td>\n",
    "        <td style=\"background-color:#ffffff;vertical-align:bottom;text-align:right;\">\n",
    "            prepared by <a href=\"http://abu.lu.lv\" target=\"_blank\">Abuzer Yakaryilmaz</a> (<a href=\"http://qworld.lu.lv/index.php/qlatvia/\" target=\"_blank\">QLatvia</a>)\n",
    "        </td>        \n",
    "</tr></table>"
   ]
  },
  {
   "cell_type": "markdown",
   "metadata": {},
   "source": [
    "<table width=\"100%\"><tr><td style=\"color:#bbbbbb;background-color:#ffffff;font-size:11px;font-style:italic;text-align:right;\">This cell contains some macros. If there is a problem with displaying mathematical formulas, please run this cell to load these macros. </td></tr></table>\n",
    "$ \\newcommand{\\bra}[1]{\\langle #1|} $\n",
    "$ \\newcommand{\\ket}[1]{|#1\\rangle} $\n",
    "$ \\newcommand{\\braket}[2]{\\langle #1|#2\\rangle} $\n",
    "$ \\newcommand{\\dot}[2]{ #1 \\cdot #2} $\n",
    "$ \\newcommand{\\biginner}[2]{\\left\\langle #1,#2\\right\\rangle} $\n",
    "$ \\newcommand{\\mymatrix}[2]{\\left( \\begin{array}{#1} #2\\end{array} \\right)} $\n",
    "$ \\newcommand{\\myvector}[1]{\\mymatrix{c}{#1}} $\n",
    "$ \\newcommand{\\myrvector}[1]{\\mymatrix{r}{#1}} $\n",
    "$ \\newcommand{\\mypar}[1]{\\left( #1 \\right)} $\n",
    "$ \\newcommand{\\mybigpar}[1]{ \\Big( #1 \\Big)} $\n",
    "$ \\newcommand{\\sqrttwo}{\\frac{1}{\\sqrt{2}}} $\n",
    "$ \\newcommand{\\dsqrttwo}{\\dfrac{1}{\\sqrt{2}}} $\n",
    "$ \\newcommand{\\onehalf}{\\frac{1}{2}} $\n",
    "$ \\newcommand{\\donehalf}{\\dfrac{1}{2}} $\n",
    "$ \\newcommand{\\hadamard}{ \\mymatrix{rr}{ \\sqrttwo & \\sqrttwo \\\\ \\sqrttwo & -\\sqrttwo }} $\n",
    "$ \\newcommand{\\vzero}{\\myvector{1\\\\0}} $\n",
    "$ \\newcommand{\\vone}{\\myvector{0\\\\1}} $\n",
    "$ \\newcommand{\\stateplus}{\\myvector{ \\sqrttwo \\\\  \\sqrttwo } } $\n",
    "$ \\newcommand{\\stateminus}{ \\myrvector{ \\sqrttwo \\\\ -\\sqrttwo } } $\n",
    "$ \\newcommand{\\myarray}[2]{ \\begin{array}{#1}#2\\end{array}} $\n",
    "$ \\newcommand{\\X}{ \\mymatrix{cc}{0 & 1 \\\\ 1 & 0}  } $\n",
    "$ \\newcommand{\\I}{ \\mymatrix{rr}{1 & 0 \\\\ 0 & 1}  } $\n",
    "$ \\newcommand{\\Z}{ \\mymatrix{rr}{1 & 0 \\\\ 0 & -1}  } $\n",
    "$ \\newcommand{\\Htwo}{ \\mymatrix{rrrr}{ \\frac{1}{2} & \\frac{1}{2} & \\frac{1}{2} & \\frac{1}{2} \\\\ \\frac{1}{2} & -\\frac{1}{2} & \\frac{1}{2} & -\\frac{1}{2} \\\\ \\frac{1}{2} & \\frac{1}{2} & -\\frac{1}{2} & -\\frac{1}{2} \\\\ \\frac{1}{2} & -\\frac{1}{2} & -\\frac{1}{2} & \\frac{1}{2} } } $\n",
    "$ \\newcommand{\\CNOT}{ \\mymatrix{cccc}{1 & 0 & 0 & 0 \\\\ 0 & 1 & 0 & 0 \\\\ 0 & 0 & 0 & 1 \\\\ 0 & 0 & 1 & 0} } $\n",
    "$ \\newcommand{\\norm}[1]{ \\left\\lVert #1 \\right\\rVert } $\n",
    "$ \\newcommand{\\pstate}[1]{ \\lceil \\mspace{-1mu} #1 \\mspace{-1.5mu} \\rfloor } $"
   ]
  },
  {
   "cell_type": "markdown",
   "metadata": {},
   "source": [
    "<h2> Вероятностные операторы</h2>\n",
    "\n",
    "[Смотреть лекцию](https://youtu.be/zYgym4NVq6o)\n",
    "\n",
    "Вспомните предвзятые монеты Аси и ее протокол подбрасывания монет.\n",
    "\n",
    "$\n",
    "GameCoins = \\begin{array}{c|cc} & \\mathbf{Орел} & \\mathbf{Решка} \\\\ \\hline \\mathbf{Орел} & 0.6 & 0.3\\\\  \\mathbf{Решка} & 0.4 & 0.7  \\end{array} \\equiv \\begin{array}{c|cc} & \\mathbf{0} & \\mathbf{1} \\\\ \\hline \\mathbf{0} & 0.6 & 0.3 \\\\  \\mathbf{1} & 0.4 & 0.7  \\end{array}\n",
    "$"
   ]
  },
  {
   "cell_type": "markdown",
   "metadata": {},
   "source": [
    "Мы отслеживаем результаты Аси после двух подбрасываний монет.\n",
    "\n",
    "<b> В начале: </b>\n",
    "\n",
    "<i> Запоминаем протокол:\n",
    "<ol> \n",
    "    <li> всякий раз, когда у нее появляется орёл, она переворачивает один евро; </li>\n",
    "    <li> всякий раз, когда у нее появляется решка, она переворачивает один цент; и </li>\n",
    "    <li> она начинает с того, что переворачивает один евро, предполагая, что она получила орёл из ниоткуда </li>\n",
    "</ol>\n",
    "</i>\n",
    "\n",
    "Она начинается в состоянии 0: $ v_0 = \\myvector{1 \\\\ 0} $.\n",
    "\n",
    "Состояние 0 представляет орёл, а состояние 1 представляет решку."
   ]
  },
  {
   "cell_type": "markdown",
   "metadata": {},
   "source": [
    "<b> После первого подбрасывания монеты: </b>\n",
    "\n",
    "$  \\mypar{ \n",
    "        GameCoins = \\begin{array}{c|cc} & \\mathbf{Орёл} & \\mathbf{Решка} \\\\ \\hline \\mathbf{Орёл} & 0.6 & 0.3\\\\  \\mathbf{Решка} & 0.4 & 0.7  \\end{array}\n",
    "        }\n",
    "    \\mypar{\n",
    "        CurrentState=\\myvector{1 \\\\ 0}\n",
    "    } $\n",
    "    \n",
    "Каждая запись нового вектора вычисляется по строке и текущему состоянию:\n",
    "\n",
    "$\n",
    "\\myvector{  0.6 \\cdot 1 \\\\ + \\\\ 0.3 \\cdot 0 \\\\ \\hline 0.4 \\cdot 1 \\\\ + \\\\ 0.7 \\cdot 0  }\n",
    "=\n",
    "\\myvector{ 0.6 + 0 \\\\ 0.4 + 0 }\n",
    "=\n",
    "\\myvector{0.6 \\\\ 0.4}.\n",
    "$"
   ]
  },
  {
   "cell_type": "markdown",
   "metadata": {},
   "source": [
    "<b>После второго подбрасывания монеты:</b>\n",
    "\n",
    "$  \\mypar{ \n",
    "        GameCoins = \\begin{array}{c|cc} & \\mathbf{Орел} & \\mathbf{Решка} \\\\ \\hline \\mathbf{Орел} & 0.6 & 0.3\\\\  \\mathbf{Решка} & 0.4 & 0.7  \\end{array}\n",
    "        }\n",
    "    \\mypar{\n",
    "        CurrentState=\\myvector{0.6 \\\\ 0.4}\n",
    "    } $\n",
    "    \n",
    "Каждая запись нового вектора вычисляется по строке и текущему состоянию:\n",
    "\n",
    "$\n",
    "\\myvector{  0.6 \\cdot 0.6 \\\\ + \\\\ 0.3 \\cdot 0.4 \\\\ \\hline 0.4 \\cdot 0.6 \\\\ + \\\\ 0.7 \\cdot 0.4  }\n",
    "=\n",
    "\\myvector{ 0.36 + 0.12 \\\\ 0.24 + 0.28 }\n",
    "=\n",
    "\\myvector{0.48 \\\\ 0.52}.\n",
    "$"
   ]
  },
  {
   "cell_type": "markdown",
   "metadata": {},
   "source": [
    "<b>Протокол подбрасывания монет</b>, где Ася является <i>вероятностным оператором</i>.\n",
    "\n",
    "Как и любой оператор, в зависимости от текущего состояния, протокол подбрасывания монет Аси определяет следующее состояние.\n",
    "\n",
    "$$\n",
    "    \\myvector{1 \\\\ 0} \\xrightarrow{\\mbox{Протокол подбрасывания монет Аси}} \\myvector{0.6 \\\\ 0.4}\n",
    "    \\xrightarrow{\\mbox{Протокол подбрасывания монет Аси}}  \\myvector{0.48 \\\\ 0.52}.\n",
    "$$"
   ]
  },
  {
   "cell_type": "markdown",
   "metadata": {},
   "source": [
    "<font color=\"blue\"><b>Вероятностный оператор эволюционирует систему из вероятностного состояния в вероятностное состояние.</b></font>\n",
    "\n",
    "Протокол подбрасывания монет Аси трансформируется из $ \\myvector{ 0.8 \\\\ 0.2 } $ в $ \\myvector{ 0.54 \\\\ 0.46 } $.\n",
    "\n",
    "При расчете нового состояния мы используем таблицу $  GameCoins = \\begin{array}{c|cc} & \\mathbf{Head} & \\mathbf{Tail} \\\\ \\hline \\mathbf{Head} & 0.6 & 0.3\\\\  \\mathbf{Tail} & 0.4 & 0.7  \\end{array} $ и нынешнее состояние $ \\myvector{ 0.8 \\\\ 0.2 } $:\n",
    "\n",
    "$$\n",
    "    \\myvector{ \\myarray{c}{0.6 \\cdot 0.8 \\\\ + \\\\ 0.3 \\cdot 0.2} \\\\ \\hline \\myarray{c}{0.4 \\cdot 0.8 \\\\ + \\\\ 0.7 \\cdot 0.2} } = \\myvector{ \\myarray{c}{0.48 + 0.06} \\\\ \\myarray{c}{0.32 + 0.14}  } = \\myvector{ 0.54 \\\\ 0.46 }.\n",
    "$$"
   ]
  },
  {
   "cell_type": "markdown",
   "metadata": {},
   "source": [
    "<h3> Вероятностный оператор </h3>\n",
    "\n",
    "Вероятностный оператор может быть представлен в виде квадратной таблицы или матрицы.\n",
    "\n",
    "Записи вероятностного оператора представляют вероятности перехода между состояниями.\n",
    "\n",
    "Поэтому <b>каждая запись неотрицательна.</b>\n",
    "\n",
    "Каждый столбец представляет вероятности перехода из одного состояния во все состояния. Поэтому <b>суммирование всех записей в каждом столбце равно 1</b>, т.е. вероятность 1 распределяется по всем состояниям.\n",
    "\n",
    "Любая матрица, удовлетворяющая этим двум свойствам, называется стохастической матрицей.\n",
    "\n",
    "Вероятностный оператор - это стохастическая матрица, и наоборот.\n",
    "\n",
    "<i> Заметим, что оператор любой линейной системы представлен в виде матрицы. </i>"
   ]
  },
  {
   "cell_type": "markdown",
   "metadata": {},
   "source": [
    "<h3> Вероятностная эволюция </h3>\n",
    "\n",
    "Вероятностное состояние - это стохастический вектор, скажем, $ v $.\n",
    "\n",
    "Вероятностный оператор - это стохастическая матрица, скажем, $ A $,\n",
    "\n",
    "Если вероятностный оператор $ A $ применяется к вероятностному состоянию $ v $, то новое состояние, скажем $ v' $, вычисляется как\n",
    "\n",
    "$$  v' = A \\cdot v. $$\n",
    "\n",
    "<i> Заметим, что эволюция линейной системы представлена матрично-векторным умножением. </i>"
   ]
  },
  {
   "cell_type": "markdown",
   "metadata": {},
   "source": [
    "Если мы представим $ GameCoins $ в виде матрицы: $ \\mymatrix{cc}{ 0.6 & 0.3 \\\\ 0.4 & 0.7 } $, затем новое вероятностное состояние вычисляется как\n",
    "\n",
    "$$\n",
    "    \\myvector{ 0.54 \\\\ 0.46 } = \\mymatrix{cc}{ 0.6 & 0.3 \\\\ 0.4 & 0.7 } \\myvector{ 0.8 \\\\ 0.2 }.\n",
    "$$"
   ]
  },
  {
   "cell_type": "markdown",
   "metadata": {},
   "source": [
    "<h3> Задача 1 </h3>\n",
    "\n",
    "Оператор $ GameCoins = \\mymatrix{cc}{ 0.6 & 0.3 \\\\ 0.4 & 0.7 } $ применяется к вероятностному состоянию $ \\myvector{ 0.1 \\\\ 0.9 } $. \n",
    "\n",
    "Тогда новое вероятностное состояние является\n",
    "\n",
    "$$ \\mymatrix{cc}{ 0.6 & 0.3 \\\\ 0.4 & 0.7 } \\myvector{ 0.1 \\\\ 0.9 } = \\myvector{ 0.33 \\\\ 0.67 } $$.\n",
    "\n",
    "Пожалуйста, проверьте правильность умножения матрицы на вектор."
   ]
  },
  {
   "cell_type": "markdown",
   "metadata": {},
   "source": [
    "<h3> Задача 2 </h3>\n",
    "\n",
    "Нам дан следующий вероятностный оператор: $ B =  \\mymatrix{ccc}{ 0.4 & 0.6 & 0 \\\\ 0.2 & 0.1 & 0.7 \\\\ 0.4 & 0.3 & 0.3 } $.\n",
    "\n",
    "Какова вероятность перехода из второго состояния в третье?\n",
    "\n",
    "Какова вероятность перехода из третьего состояния в первое?\n",
    "\n",
    "Какова вероятность перехода из первого состояния во второе?"
   ]
  },
  {
   "cell_type": "markdown",
   "metadata": {},
   "source": [
    "<h3>Задача 3</h3>\n",
    "\n",
    "Случайным образом постройте $ (3 \\times 3 ) $-мерный вероятностный оператор.\n",
    "\n",
    "То есть случайным образом определите элементы матрицы, представляющей вероятностный оператор."
   ]
  },
  {
   "cell_type": "code",
   "execution_count": 1,
   "metadata": {},
   "outputs": [
    {
     "name": "stdout",
     "output_type": "stream",
     "text": [
      "matrix A before normalization:\n",
      "[30, 57, 83]\n",
      "[32, 57, 4]\n",
      "[94, 89, 61]\n",
      "\n",
      "matrix A after normalization:\n",
      "[0.19230769230769232, 0.28078817733990147, 0.5608108108108109]\n",
      "[0.20512820512820512, 0.28078817733990147, 0.02702702702702703]\n",
      "[0.6025641025641025, 0.43842364532019706, 0.41216216216216217]\n",
      "\n",
      "the column summations must be 1\n",
      "[1.0, 1.0, 1.0]\n"
     ]
    }
   ],
   "source": [
    "# Давайте начнем с нулевой матрицы\n",
    "A = [\n",
    "    [0,0,0],\n",
    "    [0,0,0],\n",
    "    [0,0,0]\n",
    "]\n",
    "\n",
    "# Мы случайным образом выберем записи, а затем сделаем нормализацию для каждого столбца.\n",
    "# Будет проще итеративно строить столбцы.\n",
    "# Вы можете заметить, что каждый столбец является вероятностным состоянием.\n",
    "from random import randrange\n",
    "\n",
    "normalization_factor = [0,0,0] # коэффициент нормализации каждого столбца может отличаться\n",
    "\n",
    "for j in range(3): # каждый столбец строится итеративно\n",
    "    normalization_factor[j] = 0\n",
    "    while normalization_factor[j]==0: # коэффициент нормализации не может быть равен нулю\n",
    "        for i in range(3):\n",
    "            A[i][j] = randrange(101) # выберите случайное значение от 0 до 100\n",
    "            normalization_factor[j] += A[i][j]\n",
    "\n",
    "# Напечатаем матрицу A перед нормализацией\n",
    "# Записи находятся в диапазоне от 0 до 100\n",
    "print(\"matrix A before normalization:\")\n",
    "for i in range(3):\n",
    "    print(A[i])\n",
    "\n",
    "\n",
    "# Нормализуем каждую колонку\n",
    "for j in range(3):\n",
    "    for i in range(3):\n",
    "        A[i][j] /= normalization_factor[j]  # более короткая форма A[i][j] = A[i][j] / normalization_factor[j]\n",
    "        \n",
    "# Напечатаем матрицу A после нормализации\n",
    "print()\n",
    "print(\"matrix A after normalization:\")\n",
    "for i in range(3):\n",
    "    print(A[i]) \n",
    "\n",
    "print()\n",
    "print(\"the column summations must be 1\")\n",
    "\n",
    "sum = [0,0,0]\n",
    "for j in range(3):\n",
    "    for i in range(3):\n",
    "        sum[j] += A[i][j]\n",
    "\n",
    "print(sum)"
   ]
  },
  {
   "cell_type": "markdown",
   "metadata": {},
   "source": [
    "<h3> Задача 4 </h3>\n",
    "\n",
    "Каково новое вероятностное состояние, если оператор $ B = \\mymatrix{ccc}{ 0.4 & 0.6 & 0 \\\\ 0.2 & 0.1 & 0.7 \\\\ 0.4 & 0.3 & 0.3 } $ применяется к состоянию $ \\myvector{ 0.1 \\\\ 0.3 \\\\ 0.6 } $.\n",
    "\n",
    "Пожалуйста, найдите результат с помощью матрично-векторного умножения.\n",
    "\n",
    "Пожалуйста, не используйте библиотеку python для умножения матриц на векторы.\n",
    "\n",
    "<i> Новое вероятностное состояние должно быть $ \\myvector{0.22 \\\\ 0.47 \\\\ 0.31} $. </i>"
   ]
  },
  {
   "cell_type": "code",
   "execution_count": 2,
   "metadata": {},
   "outputs": [
    {
     "name": "stdout",
     "output_type": "stream",
     "text": [
      "[0.22, 0.47, 0.31]\n"
     ]
    }
   ],
   "source": [
    "# operator B\n",
    "B = [\n",
    "    [0.4,0.6,0],\n",
    "    [0.2,0.1,0.7],\n",
    "    [0.4,0.3,0.3]\n",
    "]\n",
    "\n",
    "# the current state\n",
    "v = [0.1,0.3,0.6]\n",
    "\n",
    "newstate = []\n",
    "\n",
    "index = 0\n",
    "\n",
    "for row in B:\n",
    "    newstate.append(0)\n",
    "    for i in range(len(row)):\n",
    "        newstate[index] = newstate[index] + row[i] * v[i]\n",
    "    index = index + 1\n",
    "    \n",
    "print(newstate)"
   ]
  },
  {
   "cell_type": "markdown",
   "metadata": {},
   "source": [
    "<h3> Задача 5 </h3>\n",
    "\n",
    "Напишите функцию с именем <i>linear_evolve</i>, которая принимает вероятностный оператор и вероятностное состояние, а затем возвращает новое вероятностное состояние.\n",
    "\n",
    "Пожалуйста, не используйте библиотеку python для умножения матриц на векторы.\n",
    "\n",
    "Ваша функция должна работать для любого измерения.\n",
    "\n",
    "Сохраните свою функцию, чтобы вы могли использовать ее позже.\n",
    "<br><br>\n",
    "<div style=\"background-color:#f8f8f8;\">\n",
    "<b><u>Запишите содержимое ячейки кода</u></b> во внешний файл:\n",
    "    \n",
    "    %%writefile linear_evolve.py\n",
    "Эта команда должна быть помещена в первую строку ячейки, а затем ячейка должна быть выполнена.\n",
    "</div>\n",
    "\n",
    "Проверьте свою функцию на $ B = \\mymatrix{ccc}{ 0.4 & 0.6 & 0 \\\\ 0.2 & 0.1 & 0.7 \\\\ 0.4 & 0.3 & 0.3 } $ и $ \\myvector{0.1 \\\\ 0.3 \\\\ 0.6} $. \n",
    "\n",
    "Новое вероятностное состояние должно быть $ \\myvector{0.22 \\\\ 0.47 \\\\ 0.31} $.\n",
    "\n",
    "Затем разработайте свою систему на 5, 10, 20 и 40 шагов.\n",
    "\n",
    "Эта система должна эволюционировать до фиксированного вероятностного состояния.\n",
    "\n",
    "Измените свое начальное состояние на $ \\myvector{1 \\\\ 0 \\\\ 0} $ и посмотрите, совпадает ли сходящееся состояние или нет."
   ]
  },
  {
   "cell_type": "code",
   "execution_count": 8,
   "metadata": {},
   "outputs": [],
   "source": [
    "def linear_evolve(operator,state):\n",
    "    newstate=[]\n",
    "    for i in range(len(operator)): # для каждой строки\n",
    "        # мы вычисляем соответствующую запись нового состояния\n",
    "        newstate.append(0) # мы устанавливаем это значение равным 0 для инициализации\n",
    "        for j in range(len(state)): # для каждого элемента в состоянии\n",
    "            newstate[i] = newstate[i] + operator[i][j] * state[j] # суммирование попарных умножений\n",
    "    return newstate # вернуть новое вероятностное состояние"
   ]
  },
  {
   "cell_type": "code",
   "execution_count": 9,
   "metadata": {},
   "outputs": [
    {
     "name": "stdout",
     "output_type": "stream",
     "text": [
      "[0.22, 0.47, 0.31]\n",
      "[0.33378399999999997, 0.33309199999999994, 0.333124]\n",
      "[0.3333328297599999, 0.3333337260799999, 0.33333344415999994]\n",
      "[0.33333333333309395, 0.3333333333336499, 0.3333333333332556]\n",
      "[0.33333333333333315, 0.33333333333333315, 0.33333333333333315]\n",
      "\n",
      "[0.33255999999999997, 0.33391999999999994, 0.33352]\n",
      "[0.33333399039999995, 0.3333327007999999, 0.33333330879999995]\n",
      "[0.3333333333334263, 0.33333333333305704, 0.3333333333335162]\n",
      "[0.33333333333333315, 0.33333333333333315, 0.33333333333333315]\n"
     ]
    }
   ],
   "source": [
    "# проверьте функцию\n",
    "\n",
    "# оператор для теста\n",
    "B = [\n",
    "    [0.4,0.6,0],\n",
    "    [0.2,0.1,0.7],\n",
    "    [0.4,0.3,0.3]\n",
    "]\n",
    "\n",
    "# начальное состояние\n",
    "v = [0.1,0.3,0.6]\n",
    "\n",
    "newstate = linear_evolve(B,v)\n",
    "print(newstate)\n",
    "\n",
    "for step in [5,10,20,40]:\n",
    "    new_state = [0.1,0.3,0.6] # начальное состояние\n",
    "    for i in range(step):\n",
    "        new_state = linear_evolve(B,new_state)\n",
    "    print(new_state)\n",
    "print()\n",
    "    \n",
    "# изменение начального состояния на [1,0,0]\n",
    "for step in [5,10,20,40]:\n",
    "    new_state = [1,0,0] # initial state\n",
    "    for i in range(step):\n",
    "        new_state = linear_evolve(B,new_state)\n",
    "    print(new_state)"
   ]
  },
  {
   "cell_type": "markdown",
   "metadata": {},
   "source": [
    "<h3> Task 6 [extra] </h3>\n",
    "\n",
    "The operator $ \\widetilde{I} = \\mymatrix{cc}{0.999 & 0.001\\\\ 0.001 & 0.999 } $ is very similar to Identity operator. However, it converges to a certain matrix.\n",
    "\n",
    "Find $  \\underbrace{\\widetilde{I} \\cdot \\widetilde{I} \\cdots \\widetilde{I}}_{k\\mbox{ times}} $ for $ k = 10, 100, 1000, 10000, 100000 $ and then guess the converging matrix."
   ]
  },
  {
   "cell_type": "markdown",
   "metadata": {},
   "source": [
    "<h3> Task 7 [extra] </h3>\n",
    "\n",
    "Repeat Task 6 for the operator $ \\widetilde{NOT} = \\mymatrix{cc}{0.001 & 0.999\\\\ 0.999 & 0.001 } $."
   ]
  }
 ],
 "metadata": {
  "kernelspec": {
   "display_name": "Python 3",
   "language": "python",
   "name": "python3"
  },
  "language_info": {
   "codemirror_mode": {
    "name": "ipython",
    "version": 3
   },
   "file_extension": ".py",
   "mimetype": "text/x-python",
   "name": "python",
   "nbconvert_exporter": "python",
   "pygments_lexer": "ipython3",
   "version": "3.9.5"
  }
 },
 "nbformat": 4,
 "nbformat_minor": 2
}
