{
 "cells": [
  {
   "cell_type": "markdown",
   "metadata": {},
   "source": [
    "<table> <tr>\n",
    "        <td  style=\"background-color:#ffffff;\">\n",
    "            <a href=\"http://qworld.lu.lv\" target=\"_blank\"><img src=\"../images/qworld.jpg\" width=\"25%\" align=\"left\"> </a></td>\n",
    "        <td style=\"background-color:#ffffff;vertical-align:bottom;text-align:right;\">\n",
    "            prepared by <a href=\"http://abu.lu.lv\" target=\"_blank\">Abuzer Yakaryilmaz</a> (<a href=\"http://qworld.lu.lv/index.php/qlatvia/\" target=\"_blank\">QLatvia</a>)\n",
    "        </td>        \n",
    "</tr></table>"
   ]
  },
  {
   "cell_type": "markdown",
   "metadata": {},
   "source": [
    "<table width=\"100%\"><tr><td style=\"color:#bbbbbb;background-color:#ffffff;font-size:11px;font-style:italic;text-align:right;\">This cell contains some macros. If there is a problem with displaying mathematical formulas, please run this cell to load these macros. </td></tr></table>\n",
    "$ \\newcommand{\\bra}[1]{\\langle #1|} $\n",
    "$ \\newcommand{\\ket}[1]{|#1\\rangle} $\n",
    "$ \\newcommand{\\braket}[2]{\\langle #1|#2\\rangle} $\n",
    "$ \\newcommand{\\dot}[2]{ #1 \\cdot #2} $\n",
    "$ \\newcommand{\\biginner}[2]{\\left\\langle #1,#2\\right\\rangle} $\n",
    "$ \\newcommand{\\mymatrix}[2]{\\left( \\begin{array}{#1} #2\\end{array} \\right)} $\n",
    "$ \\newcommand{\\myvector}[1]{\\mymatrix{c}{#1}} $\n",
    "$ \\newcommand{\\myrvector}[1]{\\mymatrix{r}{#1}} $\n",
    "$ \\newcommand{\\mypar}[1]{\\left( #1 \\right)} $\n",
    "$ \\newcommand{\\mybigpar}[1]{ \\Big( #1 \\Big)} $\n",
    "$ \\newcommand{\\sqrttwo}{\\frac{1}{\\sqrt{2}}} $\n",
    "$ \\newcommand{\\dsqrttwo}{\\dfrac{1}{\\sqrt{2}}} $\n",
    "$ \\newcommand{\\onehalf}{\\frac{1}{2}} $\n",
    "$ \\newcommand{\\donehalf}{\\dfrac{1}{2}} $\n",
    "$ \\newcommand{\\hadamard}{ \\mymatrix{rr}{ \\sqrttwo & \\sqrttwo \\\\ \\sqrttwo & -\\sqrttwo }} $\n",
    "$ \\newcommand{\\vzero}{\\myvector{1\\\\0}} $\n",
    "$ \\newcommand{\\vone}{\\myvector{0\\\\1}} $\n",
    "$ \\newcommand{\\stateplus}{\\myvector{ \\sqrttwo \\\\  \\sqrttwo } } $\n",
    "$ \\newcommand{\\stateminus}{ \\myrvector{ \\sqrttwo \\\\ -\\sqrttwo } } $\n",
    "$ \\newcommand{\\myarray}[2]{ \\begin{array}{#1}#2\\end{array}} $\n",
    "$ \\newcommand{\\X}{ \\mymatrix{cc}{0 & 1 \\\\ 1 & 0}  } $\n",
    "$ \\newcommand{\\I}{ \\mymatrix{rr}{1 & 0 \\\\ 0 & 1}  } $\n",
    "$ \\newcommand{\\Z}{ \\mymatrix{rr}{1 & 0 \\\\ 0 & -1}  } $\n",
    "$ \\newcommand{\\Htwo}{ \\mymatrix{rrrr}{ \\frac{1}{2} & \\frac{1}{2} & \\frac{1}{2} & \\frac{1}{2} \\\\ \\frac{1}{2} & -\\frac{1}{2} & \\frac{1}{2} & -\\frac{1}{2} \\\\ \\frac{1}{2} & \\frac{1}{2} & -\\frac{1}{2} & -\\frac{1}{2} \\\\ \\frac{1}{2} & -\\frac{1}{2} & -\\frac{1}{2} & \\frac{1}{2} } } $\n",
    "$ \\newcommand{\\CNOT}{ \\mymatrix{cccc}{1 & 0 & 0 & 0 \\\\ 0 & 1 & 0 & 0 \\\\ 0 & 0 & 0 & 1 \\\\ 0 & 0 & 1 & 0} } $\n",
    "$ \\newcommand{\\norm}[1]{ \\left\\lVert #1 \\right\\rVert } $\n",
    "$ \\newcommand{\\pstate}[1]{ \\lceil \\mspace{-1mu} #1 \\mspace{-1.5mu} \\rfloor } $\n",
    "$ \\newcommand{\\greenbit}[1] {\\mathbf{{\\color{green}#1}}} $\n",
    "$ \\newcommand{\\bluebit}[1] {\\mathbf{{\\color{blue}#1}}} $\n",
    "$ \\newcommand{\\redbit}[1] {\\mathbf{{\\color{red}#1}}} $\n",
    "$ \\newcommand{\\brownbit}[1] {\\mathbf{{\\color{brown}#1}}} $\n",
    "$ \\newcommand{\\blackbit}[1] {\\mathbf{{\\color{black}#1}}} $"
   ]
  },
  {
   "cell_type": "markdown",
   "metadata": {},
   "source": [
    "## Операторы на нескольких битах\n",
    "\n",
    "[Смотреть лекцию](https://youtu.be/vd21d1KTC5c)"
   ]
  },
  {
   "cell_type": "markdown",
   "metadata": {},
   "source": [
    "Мы объясняем, как построить оператор композиционной системы, когда мы применяем оператор к одному биту или к нескольким битам композитной системы.\n",
    "\n",
    "*Здесь у нас есть простое правило, мы предполагаем, что оператор идентификации применяется к остальным битам.*"
   ]
  },
  {
   "cell_type": "markdown",
   "metadata": {},
   "source": [
    "### Одноразрядные операторы"
   ]
  },
  {
   "cell_type": "markdown",
   "metadata": {},
   "source": [
    "Когда у нас есть два бита, то наша система имеет четыре состояния, и любой оператор системы может быть определен как $ (4 \\times 4) $-мерная матрица.\n",
    "\n",
    "Например, если мы применим вероятностный оператор $ M = \\mymatrix{c}{ 0.3 & 0.6 \\\\ 0.7 & 0.4 } $ ко второму биту, то как мы можем представить соответствующую $ (4 \\times 4) $-мерную матрицу?\n",
    "\n",
    "Поскольку мы особенно хотим, чтобы оператор $ M $ действовал на второй кубит и при этом оставлял первый кубит неизменным, мы записываем матрицу $4 \\times 4$ как тензорное произведение оператора тождества и матрицы M таким образом, что\n",
    "\n",
    "$$ I \\otimes M = \\I \\otimes  \\mymatrix{c}{ 0.3 & 0.6 \\\\ 0.7 & 0.4  } = \\mymatrix{cccc} { 0.3 & 0.6 & 0 & 0 \\\\ 0.7 & 0.4 & 0 & 0 \\\\ 0 & 0 & 0.3 & 0.6 \\\\ 0 & 0& 0.7 & 0.4 }.   $$\n",
    "\n",
    "Таким образом, оператор тождества и оператор M действуют на первый и второй кубиты соответственно из-за определения тензорного произведения."
   ]
  },
  {
   "cell_type": "markdown",
   "metadata": {},
   "source": [
    "<h3> Задача 1 </h3>\n",
    "\n",
    "У нас есть два бита. Что такое $ (4 \\times 4) $-мерное матричное представление вероятностного оператора $ M = \\mymatrix{c}{ 0.2 & 0.7 \\\\ 0.8 & 0.3 } $ применительно к первому биту?"
   ]
  },
  {
   "cell_type": "markdown",
   "metadata": {},
   "source": [
    "<h3>Решение</h3>\n",
    "\n",
    "Мы предполагаем, что оператор идентификации применяется ко второму биту:\n",
    "\n",
    "$$ M \\otimes I = \\mymatrix{rr}{ 0.2 & 0.7 \\\\ 0.8 & 0.3  } \\otimes \\I = \\mymatrix{rrrr}{ 0.2 & 0 & 0.7 & 0 \\\\\n",
    "0 & 0.2 & 0 & 0.7 \\\\ 0.8 & 0 & 0.3 & 0 \\\\ 0 & 0.8 & 0 & 0.3} $$."
   ]
  },
  {
   "cell_type": "markdown",
   "metadata": {},
   "source": [
    "<h3> Задача 2 </h3>\n",
    "\n",
    "У нас есть три бита. Что такое $ (8 \\times 8) $-мерное матричное представление вероятностного оператора $ M = \\mymatrix{c}{ 0.9 & 0.4 \\\\ 0.1 & 0.6 } $ применительно ко второму биту?"
   ]
  },
  {
   "cell_type": "markdown",
   "metadata": {},
   "source": [
    "<h3>Решение</h3>\n",
    "\n",
    "Мы предполагаем, что операторы идентификации применяются к первому и третьему битам:\n",
    "$ I \\otimes M \\otimes I = \\I \\otimes \\mymatrix{rr}{ 0.9 & 0.4 \\\\ 0.1 & 0.6  } \\otimes \\I $.\n",
    "\n",
    "Тензорное произведение ассоциативно, и поэтому не имеет значения, с какой пары мы начинаем. Сначала мы вычисляем тензорное произведение второй и третьей матриц:\n",
    "\n",
    "$$ I \\otimes \\mypar{ M \\otimes I } = \\I \\otimes \\mymatrix{rrrr}{ 0.9 & 0 & 0.4 & 0 \\\\ 0 & 0.9 & 0 & 0.4 \\\\ 0.1 & 0 & 0.6 & 0 \\\\ 0 & 0.1 & 0 & 0.6} = \\mymatrix{rrrr|rrrrr}{0.9 & 0 & 0.4 & 0 & 0 & 0 & 0 & 0 \\\\ 0 & 0.9 & 0 & 0.4 & 0 & 0 & 0 & 0 \\\\ 0.1 & 0 & 0.6 & 0 & 0 & 0 & 0 & 0 \\\\ 0 & 0.1 & 0 & 0.6 & 0 & 0 & 0 & 0\n",
    "\\\\ \\hline 0 & 0 & 0 & 0 & 0.9 & 0 & 0.4 & 0 \\\\ 0 & 0 & 0 & 0 & 0 & 0.9 & 0 & 0.4 \\\\ 0 & 0 & 0 & 0 & 0.1 & 0 & 0.6 & 0 \\\\ 0 & 0 & 0 & 0 & 0 & 0.1 & 0 & 0.6} $$"
   ]
  },
  {
   "cell_type": "markdown",
   "metadata": {},
   "source": [
    "### Двухбитовые операторы"
   ]
  },
  {
   "cell_type": "markdown",
   "metadata": {},
   "source": [
    "Начнем с простого примера. \n",
    "\n",
    "У нас есть три бита, и мы применяем вероятностный оператор \n",
    "$ M = \\mymatrix{rrrr}{0.05 & 0 & 0.70 & 0.60 \\\\ 0.45 & 0.50 & 0.20 & 0.25 \\\\ 0.20 & 0.35 & 0.10 & 0 \\\\ 0.30 & 0.15 & 0 & 0.15 } $ к первому и второму битам. Затем соответствующие $ (8 \\times 8) $-мерная матрица равна $ M \\otimes I $, где $I$ - $(2 \\times 2)$-мерная матрица идентичности.\n",
    "\n",
    "Если $ M $ применяется ко второму и третьему битам, то соответствующая матрица равна $ I \\otimes M $."
   ]
  },
  {
   "cell_type": "markdown",
   "metadata": {},
   "source": [
    "**Что делать, если $ M $ применяется к первому и третьему битам?**\n",
    "\n",
    "Мы выбираем пример перехода: в $ M $ указано, что $ \\greenbit{0} \\brownbit{1} \\xrightarrow{0.35} \\greenbit{1} \\brownbit{0} $.\n",
    "- То есть, когда первый бит равен 0, а третий бит равен 1, первый бит устанавливается равным 1, а третий бит устанавливается равным 0 с вероятностью 0,35:\n",
    "\n",
    "$$ \\myarray{ccccc}{\\mbox{первый бит} & \\mbox{третий бит} & вероятность & \\mbox{первый бит} & \\mbox{третий бит} \\\\ \\greenbit{0} & \\brownbit{1} & \\xrightarrow{0.35} & \\greenbit{1} & \\brownbit{0} } $$\n",
    "\n",
    "- Мы помещаем второй бит в изображение, предполагая, что к нему применяется оператор идентификации:\n",
    "\n",
    "$$ \n",
    "\\myarray{ccccccc}{\n",
    "\\mbox{первый бит} & \\mbox{второй бит} & \\mbox{третий бит} & вероятность & \\mbox{первый бит} & \\mbox{второй бит} & \\mbox{третий бит} \\\\\n",
    "\\greenbit{0} & \\bluebit{0} & \\brownbit{1} & \\xrightarrow{0.35} & \\greenbit{1} & \\bluebit{0} & \\brownbit{0}  \\\\\n",
    "\\greenbit{0} & \\bluebit{1} & \\brownbit{1} & \\xrightarrow{0.35} & \\greenbit{1} & \\bluebit{1} & \\brownbit{0} \\\\\n",
    "\\\\ \\hline \\\\\n",
    "\\greenbit{0} & \\bluebit{0} & \\brownbit{1} & \\xrightarrow{0} & \\greenbit{1} & \\bluebit{1} & \\brownbit{0}  \\\\\n",
    "\\greenbit{0} & \\bluebit{1} & \\brownbit{1} & \\xrightarrow{0} & \\greenbit{1} & \\bluebit{0} & \\brownbit{0}\n",
    "}\n",
    "$$"
   ]
  },
  {
   "cell_type": "markdown",
   "metadata": {},
   "source": [
    "<h3> Задача 3</h3>\n",
    "\n",
    "Почему последние две вероятности перехода равны нулю в приведенной выше таблице?"
   ]
  },
  {
   "cell_type": "markdown",
   "metadata": {},
   "source": [
    "<h3> Задача 4</h3>\n",
    "\n",
    "У нас есть три бита и вероятностный оператор \n",
    "$ M = \\mymatrix{rrrr}{0.05 & 0 & 0.70 & 0.60 \\\\ 0.45 & 0.50 & 0.20 & 0.25 \\\\ 0.20 & 0.35 & 0.10 & 0 \\\\ 0.30 & 0.15 & 0 & 0.15 } $ применяется к первому и третьему битам. \n",
    "\n",
    "Какова соответствующая $(8 \\times 8)$-мерная матрица, применяемая ко всей системе?\n",
    "\n",
    "*Вы можете решить эту задачу с помощью python.*"
   ]
  },
  {
   "cell_type": "code",
   "execution_count": 2,
   "metadata": {},
   "outputs": [
    {
     "name": "stdout",
     "output_type": "stream",
     "text": [
      "Matrix M is\n",
      "[0.05, 0, 0.7, 0.6]\n",
      "[0.45, 0.5, 0.2, 0.25]\n",
      "[0.2, 0.35, 0.1, 0]\n",
      "[0.3, 0.15, 0, 0.15]\n",
      "\n",
      "Matrix K is\n",
      "[0.05, 0, 0, 0, 0.7, 0.6, 0, 0]\n",
      "[0.45, 0.5, 0, 0, 0.2, 0.25, 0, 0]\n",
      "[0, 0, 0.05, 0, 0, 0, 0.7, 0.6]\n",
      "[0, 0, 0.45, 0.5, 0, 0, 0.2, 0.25]\n",
      "[0.2, 0.35, 0, 0, 0.1, 0, 0, 0]\n",
      "[0.3, 0.15, 0, 0, 0, 0.15, 0, 0]\n",
      "[0, 0, 0.2, 0.35, 0, 0, 0.1, 0]\n",
      "[0, 0, 0.3, 0.15, 0, 0, 0, 0.15]\n"
     ]
    }
   ],
   "source": [
    "# заданная матрица\n",
    "M = [\n",
    "    [0.05, 0, 0.70, 0.60],\n",
    "    [0.45, 0.50, 0.20, 0.25],\n",
    "    [0.20, 0.35, 0.10, 0],\n",
    "    [0.30, 0.15, 0, 0.15]\n",
    "]\n",
    "print(\"Matrix M is\")\n",
    "for row in M:\n",
    "    print(row)\n",
    "print()\n",
    "\n",
    "# целевая матрица равна K\n",
    "# мы создаем его и заполняем нулями\n",
    "K = []\n",
    "for i in range(8):\n",
    "    K.append([])\n",
    "    for j in range(8):\n",
    "        K[i].append(0)\n",
    "\n",
    "# для каждого перехода в M мы создаем четыре перехода в K, два из которых всегда являются нулями\n",
    "for col in ['00','01','10','11']:\n",
    "    for row in ['00','01','10','11']:\n",
    "        prob = M[int(col,2)][int(row,2)]\n",
    "        # second bit is 0\n",
    "        newcol = col[0]+'0'+col[1]\n",
    "        newrow = row[0]+'0'+row[1]\n",
    "        K[int(newcol,2)][int(newrow,2)] = prob\n",
    "        # second bit is 1\n",
    "        newcol = col[0]+'1'+col[1]\n",
    "        newrow = row[0]+'1'+row[1]\n",
    "        K[int(newcol,2)][int(newrow,2)] = prob\n",
    "print(\"Matrix K is\")\n",
    "for row in K:\n",
    "    print(row)        "
   ]
  },
  {
   "cell_type": "markdown",
   "metadata": {},
   "source": [
    "$$ \n",
    "M = \\mymatrix{rrrr}{0.05 & 0 & 0.70 & 0.60 \\\\ 0.45 & 0.50 & 0.20 & 0.25 \\\\ 0.20 & 0.35 & 0.10 & 0 \\\\ 0.30 & 0.15 & 0 & 0.15 } \n",
    "\\Rightarrow\n",
    "K = \\mymatrix{rrrrrrrr}{\n",
    "0.05 & 0 & 0 & 0 & 0.70 & 0.60 & 0 & 0\\\\\n",
    "0.45 & 0.50 & 0 & 0 & 0.20 & 0.25 & 0 & 0 \\\\\n",
    "0 & 0 & 0.05 & 0 & 0 & 0 & 0.7 & 0.6 \\\\\n",
    "0 & 0 & 0.45 & 0.50 & 0 & 0 & 0.20 & 0.25 \\\\\n",
    "0.20 & 0.35 & 0 & 0 & 0.1 & 0 & 0 & 0 \\\\\n",
    "0.30 & 0.15 & 0 & 0 & 0 & 0.15 & 0 & 0 \\\\\n",
    "0 & 0 & 0.20 & 0.35 & 0 & 0 & 0.10 & 0 \\\\\n",
    "0 & 0 & 0.30 & 0.15 & 0 & 0 & 0 & 0.15\n",
    "}\n",
    "$$"
   ]
  },
  {
   "cell_type": "markdown",
   "metadata": {},
   "source": [
    "### Управляемые операторы"
   ]
  },
  {
   "cell_type": "markdown",
   "metadata": {},
   "source": [
    "Матричная форма оператора CNOT выглядит следующим образом:\n",
    "\n",
    "$$ CNOT = \\mymatrix{cc|cc}{ 1 & 0 & 0 & 0 \\\\ 0 & 1 & 0 & 0 \\\\ \\hline 0 & 0 & 0 & 1 \\\\ 0 & 0 & 1 & 0 } \n",
    "= \\mymatrix{c|c}{ I & \\mathbf{0} \\\\ \\hline \\mathbf{0} & X},\n",
    "$$\n",
    "где $ X $ обозначает оператор NOT.\n",
    "\n",
    "Аналогично, для данного однобитового оператора $ M $ мы можем определить оператор controlled-$M$ (где первый бит является управляющим битом, а второй бит-целевым битом) следующим образом:\n",
    "\n",
    "$$ CM = \\mymatrix{c|c}{ I & \\mathbf{0} \\\\ \\hline \\mathbf{0} & M } $$\n",
    "\n",
    "По определению:\n",
    "* когда первый бит равен 0, идентификатор применяется ко второму биту, и\n",
    "* когда первый бит равен 1, оператор $ M $ применяется ко второму биту.\n",
    "\n",
    "Здесь мы видим, что матрица $ CM $ имеет хорошую форму, потому что первый бит является управляющим битом. Приведенная выше матрица $ CM $ делится на четыре подматрицы, основанные на состояниях первого бита. Тогда мы можем следовать этому\n",
    "* значение первого бита никогда не меняется, и поэтому недиагональные подматрицы являются нулями;\n",
    "* когда первый бит равен 0, идентификатор применяется ко второму биту, и поэтому верхняя левая матрица равна $ I $; и,\n",
    "* когда первый бит равен 1, оператор $ M $ применяется ко второму биту, и поэтому нижняя правая матрица равна $ M $."
   ]
  },
  {
   "cell_type": "markdown",
   "metadata": {},
   "source": [
    "<h3> Задача 5</h3>\n",
    "\n",
    "Пусть $ M = \\mymatrix{cc}{0.7 & 0.4 \\\\ 0.3 & 0.6} $ быть однобитовым оператором. Какова матричная форма оператора controlled-$M$, где первый бит является целевым битом, а второй бит-управляющим битом."
   ]
  },
  {
   "cell_type": "markdown",
   "metadata": {},
   "source": [
    "<h3>Решение</h3>\n",
    "\n",
    "Когда второй бит равен нулю, состояние первого бита не меняется. Мы можем записать это как\n",
    "* $ 00 \\xrightarrow{1} 00 $,\n",
    "* $ 10 \\xrightarrow{1} 10 $.\n",
    "\n",
    "Итак, у нас есть первый и третий столбцы как $ \\myvector{ 1 \\\\ 0 \\\\ 0 \\\\0 } $ и $ \\myvector{0 \\\\ 0 \\\\ 1 \\\\ 0} $, соответственно.\n",
    "\n",
    "Когда второй бит равен единице, оператор $ M $ применяется к первому биту. Мы можем записать это как\n",
    "* $ \\pstate{ \\bluebit{0} \\redbit{1} } \\rightarrow 0.7 \\pstate{ \\bluebit{0} \\redbit{1} } + 0.3 \\pstate{ \\bluebit{1} \\redbit{1} } $,\n",
    "* $ \\pstate{ \\bluebit{1} \\redbit{1} } \\rightarrow 0.4 \\pstate{ \\bluebit{0} \\redbit{1} } + 0.6 \\pstate{ \\bluebit{1} \\redbit{1} } $.\n",
    "\n",
    "Таким образом, у нас также есть второй и четвертый столбцы как $ \\myvector{ 0 \\\\ 0.7 \\\\ 0 \\\\ 0.3 } $ и $ \\myvector{0 \\\\ 0.4 \\\\ 0 \\\\ 0.6} $.\n",
    "\n",
    "Таким образом, общая матрица -\n",
    "$ \\mymatrix{cccc}{ 1 & 0 & 0 & 0 \\\\ 0 & 0.7 & 0 & 0.4 \\\\ 0 & 0 & 1 & 0 \\\\ 0 & 0.3  & 0 & 0.6 }.  $"
   ]
  },
  {
   "cell_type": "markdown",
   "metadata": {},
   "source": [
    "### Управляемый оператор активируется в состоянии 0"
   ]
  },
  {
   "cell_type": "markdown",
   "metadata": {},
   "source": [
    "Для данного однобитового оператора $ M $, **как мы можем получить следующий оператор** с помощью оператора $ CM $?\n",
    "\n",
    "$$ C_0M = \\mymatrix{c|c}{ M & \\mathbf{0} \\\\ \\hline \\mathbf{0} & I } $$\n",
    "\n",
    "Управляемый оператор определяется как запускаемый, когда управляющий бит находится в состоянии 1. В этом примере мы ожидаем, что он будет запущен, когда управляющий бит находится в состоянии 0.\n",
    "\n",
    "Здесь мы можем использовать простой трюк. Сначала мы применяем оператор NOT к первому биту, а затем оператор CM, и снова оператор NOT. Таким образом, мы гарантируем, что $ M $ применяется ко второму биту, если первый бит находится в состоянии 0, и ничего не делаем, если первый бит находится в состоянии 1. Короче говоря:\n",
    "\n",
    "$$ C_0M = (X \\otimes I) \\cdot (CM) \\cdot ( X \\otimes I ). $$"
   ]
  },
  {
   "cell_type": "markdown",
   "metadata": {},
   "source": [
    "<h3> Задача 6 </h3>\n",
    "\n",
    "Убедитесь, что $ C_0M = (X \\otimes I) \\cdot (CM) \\cdot ( X \\otimes I ) = \\mymatrix{c|c}{ M & \\mathbf{0} \\\\ \\hline \\mathbf{0} & I }  $."
   ]
  },
  {
   "cell_type": "markdown",
   "metadata": {},
   "source": [
    "<h3>Решение</h3>\n",
    "\n",
    "Мы начинаем с $ X \\otimes I $, что равно $ \\X \\otimes \\I = \\mymatrix{cc|cc}{ 0 & 0 & 1 & 0 \\\\ 0 & 0 & 0 & 1 \\\\ \\hline 1 & 0 & 0 & 0 \\\\ 0 & 1 & 0 & 0 } = \\mymatrix{c|c}{ \\mathbf{0} & I \\\\ \\hline I & \\mathbf{0} } $.\n",
    "\n",
    "$$\n",
    "    C_0M = (X \\otimes I) \\cdot (CM) \\cdot ( X \\otimes I ) = \n",
    "    \\mymatrix{c|c}{ \\mathbf{0} & I \\\\ \\hline I & \\mathbf{0} }  \\mymatrix{c|c}{ I & \\mathbf{0}  \\\\ \\hline  \\mathbf{0} & M } \\mymatrix{c|c}{ \\mathbf{0} & I \\\\ \\hline I & \\mathbf{0} }\n",
    "$$\n",
    "\n",
    "Умножение первых двух матриц является\n",
    "$\n",
    "    \\mymatrix{c|c}{ \\mathbf{0} & I \\\\ \\hline I & \\mathbf{0} }  \\mymatrix{c|c}{ I & \\mathbf{0}  \\\\ \\hline  \\mathbf{0} & M } \n",
    "    = \\mymatrix{c|c}{ \\mathbf{0} & M \\\\ \\hline I & \\mathbf{0} }.\n",
    "$\n",
    "\n",
    "Тогда его умножение на третью матрицу равно $ \\mymatrix{c|c}{ \\mathbf{0} & M \\\\ \\hline I & \\mathbf{0} }  \\mymatrix{c|c}{ \\mathbf{0} & I \\\\ \\hline I & \\mathbf{0} }  =   \\mymatrix{c|c}{ M & \\mathbf{0} \\\\ \\hline \\mathbf{0} & I }  $.\n",
    "\n",
    "\n",
    "В качестве альтернативы мы определяем $ M $ как $ \\mymatrix{cc}{a & b \\\\ c & d}$, а затем проверяем результат, явно выполняя все умножения.\n",
    "\n",
    "$$ C_0M = (X \\otimes I) \\cdot (CM) \\cdot ( X \\otimes I ) = \\mymatrix{cc|cc}{ 0 & 0 & 1 & 0 \\\\ 0 & 0 & 0 & 1 \\\\ \\hline 1 & 0 & 0 & 0 \\\\ 0 & 1 & 0 & 0 } \\cdot \\mymatrix{cc|cc}{1 & 0 & 0 & 0 \\\\ 0 & 1 & 0 & 0 \\\\ \\hline 0 & 0 & a & b \\\\ 0 & 0 & c & d} \\cdot \\mymatrix{cc|cc}{ 0 & 0 & 1 & 0 \\\\ 0 & 0 & 0 & 1 \\\\ \\hline 1 & 0 & 0 & 0 \\\\ 0 & 1 & 0 & 0 } =\n",
    "$$\n",
    "\n",
    "$$\n",
    "    \\mymatrix{cc|cc}{ 0 & 0 & a & b \\\\ 0 & 0 & c & d \\\\ \\hline 1 & 0 & 0 & 0 \\\\ 0 & 1 & 0 & 0 } \\mymatrix{cc|cc}{ 0 & 0 & 1 & 0 \\\\ 0 & 0 & 0 & 1 \\\\ \\hline 1 & 0 & 0 & 0 \\\\ 0 & 1 & 0 & 0 } =\n",
    "    \\mymatrix{cc|cc}{ a & b & 0 & 0 \\\\ c & d & 0 & 0 \\\\ \\hline 0 & 0 & 1 & 0 \\\\ 0 & 0 & 0 & 1 } =\n",
    "    \\mymatrix{c|c}{ M & \\mathbf{0} \\\\ \\hline \\mathbf{0} & I }. \n",
    "$$"
   ]
  },
  {
   "cell_type": "markdown",
   "metadata": {},
   "source": [
    "<h3> Задача 7 </h3>\n",
    "\n",
    "Для данных двух однобитовых операторов $ M $ и $ N $ пусть $ CM $ и $ CN $ являются операторами controlled-$M$ и controlled-$N$. Используя операторы $ X $, $ CM $ и $ CN$, как мы можем получить оператор $ \\mymatrix{c|c}{ M & \\mathbf{0} \\\\ \\hline \\mathbf{0} & N} $?"
   ]
  },
  {
   "cell_type": "code",
   "execution_count": null,
   "metadata": {},
   "outputs": [],
   "source": []
  }
 ],
 "metadata": {
  "kernelspec": {
   "display_name": "Python 3",
   "language": "python",
   "name": "python3"
  },
  "language_info": {
   "codemirror_mode": {
    "name": "ipython",
    "version": 3
   },
   "file_extension": ".py",
   "mimetype": "text/x-python",
   "name": "python",
   "nbconvert_exporter": "python",
   "pygments_lexer": "ipython3",
   "version": "3.9.5"
  }
 },
 "nbformat": 4,
 "nbformat_minor": 2
}
