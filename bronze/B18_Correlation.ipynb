{
 "cells": [
  {
   "cell_type": "markdown",
   "metadata": {},
   "source": [
    "<table> <tr>\n",
    "        <td  style=\"background-color:#ffffff;\">\n",
    "            <a href=\"http://qworld.lu.lv\" target=\"_blank\"><img src=\"../images/qworld.jpg\" width=\"25%\" align=\"left\"> </a></td>\n",
    "        <td style=\"background-color:#ffffff;vertical-align:bottom;text-align:right;\">\n",
    "            prepared by <a href=\"http://abu.lu.lv\" target=\"_blank\">Abuzer Yakaryilmaz</a> (<a href=\"http://qworld.lu.lv/index.php/qlatvia/\" target=\"_blank\">QLatvia</a>)\n",
    "        </td>        \n",
    "</tr></table>"
   ]
  },
  {
   "cell_type": "markdown",
   "metadata": {},
   "source": [
    "<table width=\"100%\"><tr><td style=\"color:#bbbbbb;background-color:#ffffff;font-size:11px;font-style:italic;text-align:right;\">This cell contains some macros. If there is a problem with displaying mathematical formulas, please run this cell to load these macros. </td></tr></table>\n",
    "$ \\newcommand{\\bra}[1]{\\langle #1|} $\n",
    "$ \\newcommand{\\ket}[1]{|#1\\rangle} $\n",
    "$ \\newcommand{\\braket}[2]{\\langle #1|#2\\rangle} $\n",
    "$ \\newcommand{\\dot}[2]{ #1 \\cdot #2} $\n",
    "$ \\newcommand{\\biginner}[2]{\\left\\langle #1,#2\\right\\rangle} $\n",
    "$ \\newcommand{\\mymatrix}[2]{\\left( \\begin{array}{#1} #2\\end{array} \\right)} $\n",
    "$ \\newcommand{\\myvector}[1]{\\mymatrix{c}{#1}} $\n",
    "$ \\newcommand{\\myrvector}[1]{\\mymatrix{r}{#1}} $\n",
    "$ \\newcommand{\\mypar}[1]{\\left( #1 \\right)} $\n",
    "$ \\newcommand{\\mybigpar}[1]{ \\Big( #1 \\Big)} $\n",
    "$ \\newcommand{\\sqrttwo}{\\frac{1}{\\sqrt{2}}} $\n",
    "$ \\newcommand{\\dsqrttwo}{\\dfrac{1}{\\sqrt{2}}} $\n",
    "$ \\newcommand{\\onehalf}{\\frac{1}{2}} $\n",
    "$ \\newcommand{\\donehalf}{\\dfrac{1}{2}} $\n",
    "$ \\newcommand{\\hadamard}{ \\mymatrix{rr}{ \\sqrttwo & \\sqrttwo \\\\ \\sqrttwo & -\\sqrttwo }} $\n",
    "$ \\newcommand{\\vzero}{\\myvector{1\\\\0}} $\n",
    "$ \\newcommand{\\vone}{\\myvector{0\\\\1}} $\n",
    "$ \\newcommand{\\stateplus}{\\myvector{ \\sqrttwo \\\\  \\sqrttwo } } $\n",
    "$ \\newcommand{\\stateminus}{ \\myrvector{ \\sqrttwo \\\\ -\\sqrttwo } } $\n",
    "$ \\newcommand{\\myarray}[2]{ \\begin{array}{#1}#2\\end{array}} $\n",
    "$ \\newcommand{\\X}{ \\mymatrix{cc}{0 & 1 \\\\ 1 & 0}  } $\n",
    "$ \\newcommand{\\I}{ \\mymatrix{rr}{1 & 0 \\\\ 0 & 1}  } $\n",
    "$ \\newcommand{\\Z}{ \\mymatrix{rr}{1 & 0 \\\\ 0 & -1}  } $\n",
    "$ \\newcommand{\\Htwo}{ \\mymatrix{rrrr}{ \\frac{1}{2} & \\frac{1}{2} & \\frac{1}{2} & \\frac{1}{2} \\\\ \\frac{1}{2} & -\\frac{1}{2} & \\frac{1}{2} & -\\frac{1}{2} \\\\ \\frac{1}{2} & \\frac{1}{2} & -\\frac{1}{2} & -\\frac{1}{2} \\\\ \\frac{1}{2} & -\\frac{1}{2} & -\\frac{1}{2} & \\frac{1}{2} } } $\n",
    "$ \\newcommand{\\CNOT}{ \\mymatrix{cccc}{1 & 0 & 0 & 0 \\\\ 0 & 1 & 0 & 0 \\\\ 0 & 0 & 0 & 1 \\\\ 0 & 0 & 1 & 0} } $\n",
    "$ \\newcommand{\\norm}[1]{ \\left\\lVert #1 \\right\\rVert } $\n",
    "$ \\newcommand{\\pstate}[1]{ \\lceil \\mspace{-1mu} #1 \\mspace{-1.5mu} \\rfloor } $"
   ]
  },
  {
   "cell_type": "markdown",
   "metadata": {},
   "source": [
    "<h2> Корреляция </h2>\n",
    "\n",
    "[Смотреть лекцию](https://youtu.be/gI9pJaX7NMc)"
   ]
  },
  {
   "cell_type": "markdown",
   "metadata": {},
   "source": [
    "Мы начнем с объяснения (Даниэль Рейцнер).\n",
    "\n",
    "Наш отец готовит обеды для нас с сестрой. Он кладет в наши коробки либо макароны, либо салат из кускуса.\n",
    "\n",
    "Пока мы не откроем коробки, мы не узнаем наш обед. Но как только я открою свою коробку, я узнаю и обед своей сестры, и наоборот.\n",
    "\n",
    "Это и есть <i>корреляция</i>."
   ]
  },
  {
   "cell_type": "markdown",
   "metadata": {},
   "source": [
    "Теперь мы следуем более формальному объяснению.\n",
    "\n",
    "У Аси есть один евро, а у Бальвиса - один цент.\n",
    "\n",
    "Обе монеты справедливы, и мы не видим их монет.\n",
    "\n",
    "Они начинаются с \"орла\" (состояние 0): $ \\vzero $ и $ \\vone $ соответственно.\n",
    "<br>\n",
    "Ася один раз подбрасывает монету. Тогда вероятностными состояниями Алисы и Боба являются $ \\myvector{\\frac{1}{2} \\ \\ frac{1}{2}} $ и $ \\myvector{1 \\\\ 0} $ соответственно."
   ]
  },
  {
   "cell_type": "markdown",
   "metadata": {},
   "source": [
    "<h3> Задача 1</h3>\n",
    "\n",
    "Вычислите состояние составной системы."
   ]
  },
  {
   "cell_type": "markdown",
   "metadata": {},
   "source": [
    "<h3>Решение</h3>\n",
    "\n",
    "Вероятностными состояниями Алисы и Боба являются $ \\myvector{\\frac{1}{2} \\\\ \\frac{1}{2}} $ и $ \\myvector{1 \\\\ 0} $ соответственно.\n",
    "\n",
    "Состояние составной системы $ \\myvector{\\frac{1}{2} \\\\ \\frac{1}{2}} \\otimes \\myvector{1 \\\\ 0} = \\myvector{\\frac{1}{2} \\myvector{1 \\\\ 0} \\\\ \\frac{1}{2} \\myvector{1 \\\\ 0} } = \\myvector{\\frac{1}{2} \\\\ 0 \\\\ \\frac{1}{2} \\\\ 0 } = \\frac{1}{2} \\pstate{00} + \\frac{1}{2} \\pstate{10} $."
   ]
  },
  {
   "cell_type": "markdown",
   "metadata": {},
   "source": [
    "Они применяют оператор Controlled-NOT на своих монетах, который работает на двух битах:\n",
    "\n",
    "$$\n",
    "    CNOT = \\CNOT.\n",
    "$$\n",
    "\n",
    "<i> Эффект CNOT заключается в том, что если состояние первого бита равно 1, то значение второго бита переворачивается.\n",
    "\n",
    "Здесь первый - это управляемый бит, а второй - целевой бит. </i>\n",
    "\n",
    "Используя базовые состояния:\n",
    "<ul style=\"font-size:16px;\">\n",
    "    <li>$CNOT \\pstate{00} = \\pstate{00}$</li>\n",
    "    <li>$CNOT \\pstate{01} = \\pstate{01}$</li>\n",
    "    <li>$CNOT \\pstate{\\mathbf{\\color{red}{1}\\color{blue}{0}}} = \\pstate{\\mathbf{\\color{red}{1}\\color{blue}{1}}} $</li>\n",
    "    <li>$CNOT \\pstate{\\mathbf{\\color{red}{1}\\color{blue}{1}}} = \\pstate{\\mathbf{\\color{red}{1}\\color{blue}{0}}} $</li>\n",
    "</ul>\n",
    "    \n"
   ]
  },
  {
   "cell_type": "markdown",
   "metadata": {},
   "source": [
    "<h3> Задача 2 </h3>\n",
    "\n",
    "Убедитесь, что состояние составной системы равно $ \\frac{1}{2} \\pstate{00} + \\frac{1}{2} \\pstate{11} $ после оператора CNOT."
   ]
  },
  {
   "cell_type": "markdown",
   "metadata": {},
   "source": [
    "<h3>Решение</h3>\n",
    "\n",
    "$ CNOT \\big( \\frac{1}{2} \\pstate{00} + \\frac{1}{2} \\pstate{10} \\big) = CNOT \\frac{1}{2} \\pstate{00} + CNOT \\frac{1}{2} \\pstate{10} = \\frac{1}{2} \\pstate{00} + \\frac{1}{2} \\pstate{11} $.\n",
    "\n",
    "Альтернативно,\n",
    "\n",
    "$ \\CNOT \\myvector{\\frac{1}{2} \\\\ 0 \\\\ \\frac{1}{2} \\\\ 0 } = \\myvector{\\frac{1}{2} \\\\ 0 \\\\ 0 \\\\ \\frac{1}{2} } = \\frac{1}{2} \\pstate{00} + \\frac{1}{2} \\pstate{11} $."
   ]
  },
  {
   "cell_type": "markdown",
   "metadata": {},
   "source": [
    "<h3> Задача 3 </h3>\n",
    "\n",
    "<b>Обсуждение и анализ:</b>\n",
    "\n",
    "Предположим, что Алиса и Боб отделяются друг от друга, не меняя своих состояний. \n",
    "\n",
    "Если мы увидим монету Алисы, то сможем ли мы угадать состояние монеты Боба, и наоборот? \n",
    "\n",
    "Если это так, мы можем сказать, что оба бита коррелируют друг с другом."
   ]
  },
  {
   "cell_type": "markdown",
   "metadata": {},
   "source": [
    "<h3>Коррелированные системы</h3>\n",
    "\n",
    "Если состояние составной системы не может быть записано как тензорное произведение состояний ее подсистем, то мы можем сказать, что подсистемы коррелированы."
   ]
  },
  {
   "cell_type": "markdown",
   "metadata": {},
   "source": [
    "<h3>Задача 4</h3>\n",
    "\n",
    "Показать, что невозможно написать $ \\myvector{ \\frac{1}{2} \\\\ 0 \\\\ 0 \\\\ \\frac{1}{2}} $ как $ \\myvector{a\\\\b} \\otimes \\myvector{c\\\\d} $ для некоторых чисел $ a,b,c,$ и $d $.\n",
    "\n",
    "<i> Замечаю, что корреляция в целом может быть нелегко показана, как в этом базовом примере. </i>"
   ]
  },
  {
   "cell_type": "markdown",
   "metadata": {},
   "source": [
    "<h3>Решение</h3>\n",
    "\n",
    "$ \\myvector{a\\\\b} \\otimes \\myvector{c\\\\d} = \\myvector{ a \\myvector{c\\\\d} \\\\ b \\myvector{c\\\\d} } = \\myvector{ ac \\\\ ad \\\\ bc \\\\ bd } $.\n",
    "\n",
    "Поскольку $ ac = \\frac{1}{2} $, мы можем заключить, что $a$ и $c$ - ненулевые числа.\n",
    "\n",
    "Поскольку $ bd = \\frac{1}{2} $, мы можем заключить, что $b$ и $d$ являются ненулевыми числами.\n",
    "\n",
    "Следовательно, $ ad $ и $ bc $ также являются ненулевыми числами.\n",
    "\n",
    "Но это противоречие: $ \\myvector{ ac \\\\ ad \\\\ bc \\\\ bd } = \\myvector{\\frac{1}{2} \\\\ 0 \\\\ 0 \\\\ \\frac{1}{2}} $, и поэтому $ ad $ и $ bc $ должны быть нулями."
   ]
  },
  {
   "cell_type": "markdown",
   "metadata": {},
   "source": [
    "<h3> Корреляция с более чем двумя битами</h3>\n",
    "\n",
    "У Кюри есть 50 центов в штате 0.\n",
    "\n",
    "Тогда состояние составной системы, определяемое этими тремя монетами, будет\n",
    "\n",
    "$ \\mypar{ \\frac{1}{2} \\pstate{00} + \\frac{1}{2} \\pstate{11}  } \\otimes \\pstate{0} = \n",
    "\\frac{1}{2} \\pstate{000} + \\frac{1}{2} \\pstate{110} $.\n",
    "\n",
    "Что произойдет, если оператор CNOT будет применен к монете Алисы и монете Кюри, где монета Алисы является контрольной, а монета Кюри - целевой?\n",
    "\n",
    "CNOT - это оператор, определенный для двух битов. Таким образом, он может быть применен к любой паре битов.\n",
    "\n",
    "В таком случае значение любого другого бита в составленной системе не изменяется.\n",
    "\n",
    "Можно спросить, как выглядит его матричная форма, определенная на трех битах."
   ]
  },
  {
   "cell_type": "markdown",
   "metadata": {},
   "source": [
    "<h3> Задача 5 </h3>\n",
    "\n",
    "Убедитесь, что оператор CNOT, примененный к монетам Алисы и Кюри (придумать имя на С/В?), как описано выше, отображает базовые состояния следующим образом:\n",
    "<ul>\n",
    "    <li> $ \\pstate{000} \\rightarrow \\pstate{000} $ </li>\n",
    "    <li> $ \\pstate{001} \\rightarrow \\pstate{001} $ </li>\n",
    "    <li> $ \\pstate{010} \\rightarrow \\pstate{010} $ </li>\n",
    "    <li> $ \\pstate{011} \\rightarrow \\pstate{011} $ </li>\n",
    "    <li> $ \\pstate{ \\mathbf{\\color{red}{1}} 0  \\mathbf{\\color{blue}{0}} } \\rightarrow \\pstate{ \\mathbf{\\color{red}{1}} 0  \\mathbf{\\color{blue}{1}} }  $ </li>\n",
    "    <li> $ \\pstate{ \\mathbf{\\color{red}{1}} 0  \\mathbf{\\color{blue}{1}} } \\rightarrow \\pstate{ \\mathbf{\\color{red}{1}} 0  \\mathbf{\\color{blue}{0}} }  $ </li>\n",
    "    <li> $ \\pstate{ \\mathbf{\\color{red}{1}} 1  \\mathbf{\\color{blue}{0}} } \\rightarrow \\pstate{ \\mathbf{\\color{red}{1}} 1  \\mathbf{\\color{blue}{1}} }  $ </li>\n",
    "    <li> $ \\pstate{ \\mathbf{\\color{red}{1}} 1  \\mathbf{\\color{blue}{1}} } \\rightarrow \\pstate{ \\mathbf{\\color{red}{1}} 1  \\mathbf{\\color{blue}{0}} }  $ </li>\n",
    "</ul>"
   ]
  },
  {
   "cell_type": "markdown",
   "metadata": {},
   "source": [
    "<h3> Задача 6 </h3>\n",
    "\n",
    "Убедитесь, что описанный в задаче 5 оператор имеет следующую матричную форму:\n",
    "\n",
    "$$\n",
    "    \\mymatrix{cccc|cccc} {\n",
    "     \\mathbf{1} & 0 & 0 & 0 & 0 & 0 & 0 & 0 \\\\\n",
    "     0 & \\mathbf{1} & 0 & 0 & 0 & 0 & 0 & 0 \\\\\n",
    "     0 & 0 & \\mathbf{1} & 0 & 0 & 0 & 0 & 0 \\\\\n",
    "     0 & 0 & 0 & \\mathbf{1} & 0 & 0 & 0 & 0 \\\\      \n",
    "     \\hline\n",
    "     0 & 0 & 0 & 0 & 0 & \\mathbf{1} & 0 & 0 \\\\\n",
    "     0 & 0 & 0 & 0 & \\mathbf{1} & 0 & 0 & 0 \\\\\n",
    "     0 & 0 & 0 & 0 & 0 & 0 & 0 & \\mathbf{1} \\\\\n",
    "     0 & 0 & 0 & 0 & 0 & 0 & \\mathbf{1} & 0 \\\\\n",
    "    }\n",
    "$$"
   ]
  },
  {
   "cell_type": "markdown",
   "metadata": {},
   "source": [
    "<h3> Задача 7 </h3>\n",
    "\n",
    "Вычислите новое состояние составленной системы, определенное на трех битах после оператора CNOT, определенного в задаче 5 или задаче 6.\n",
    "\n",
    "$ \\frac{1}{2} \\pstate{000} + \\frac{1}{2} \\pstate{110} \\rightarrow ? $"
   ]
  },
  {
   "cell_type": "markdown",
   "metadata": {},
   "source": [
    "<h3>Решение</h3>\n",
    "\n",
    "\n",
    "$ \\frac{1}{2} \\pstate{000} + \\frac{1}{2} \\pstate{\\mathbf{\\color{red}{1}}1\\mathbf{\\color{blue}{0}}} \\rightarrow \\frac{1}{2} \\pstate{000} + \\frac{1}{2}\\pstate{\\mathbf{\\color{red}{1}}1\\mathbf{\\color{blue}{1}}} $."
   ]
  },
  {
   "cell_type": "markdown",
   "metadata": {},
   "source": [
    "<h3> Задача 8 </h3>\n",
    "\n",
    "Предположим, что у Дарьи было 10 центов в состоянии 1, и ее монета также сочетается с композитной системой.\n",
    "\n",
    "Каково состояние новой составной системы?\n",
    "\n",
    "Затем оператор CNOT применяется к монете Кюри и монете Дарьи, где монета Кюри является контрольным битом.\n",
    "\n",
    "Каково новое состояние составной системы после этого оператора CNOT?\n",
    "\n",
    "<i>Обратите внимание, что корреляция с новым битом может быть создана путем применения элемента CNOT между любым битом, уже находящимся в корреляции, и новым битом, где новый бит является целевым.</i>"
   ]
  },
  {
   "cell_type": "markdown",
   "metadata": {},
   "source": [
    "<h3>Решение</h3>\n",
    "\n",
    "Состояние новой составной системы является\n",
    "\n",
    "$ \\mypar{ \\frac{1}{2} \\pstate{000} + \\frac{1}{2} \\pstate{111} } \\otimes \\pstate{1} = \\frac{1}{2} \\pstate{0001} + \\frac{1}{2} \\pstate{1111}  $.\n",
    "\n",
    "После применения CNOT определяется на третьем бите (контроль) и четвертом бите (цель):\n",
    "\n",
    "$ \\frac{1}{2} \\pstate{0001} + \\frac{1}{2} \\pstate{11\\mathbf{\\color{red}{1}}\\mathbf{\\color{blue}{1}}} \\rightarrow \\frac{1}{2} \\pstate{0001} + \\frac{1}{2}\\pstate{11\\mathbf{\\color{red}{1}}\\mathbf{\\color{blue}{0}}} $.\n",
    "\n",
    "Теперь все четыре бита коррелированы. Видя состояние любого бита, мы можем узнать состояния других битов."
   ]
  },
  {
   "cell_type": "code",
   "execution_count": null,
   "metadata": {},
   "outputs": [],
   "source": []
  }
 ],
 "metadata": {
  "kernelspec": {
   "display_name": "Python 3",
   "language": "python",
   "name": "python3"
  },
  "language_info": {
   "codemirror_mode": {
    "name": "ipython",
    "version": 3
   },
   "file_extension": ".py",
   "mimetype": "text/x-python",
   "name": "python",
   "nbconvert_exporter": "python",
   "pygments_lexer": "ipython3",
   "version": "3.9.5"
  }
 },
 "nbformat": 4,
 "nbformat_minor": 2
}
