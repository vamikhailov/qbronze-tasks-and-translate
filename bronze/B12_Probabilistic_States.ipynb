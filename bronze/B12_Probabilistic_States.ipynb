{
 "cells": [
  {
   "cell_type": "markdown",
   "metadata": {},
   "source": [
    "<table> <tr>\n",
    "        <td  style=\"background-color:#ffffff;\">\n",
    "            <a href=\"http://qworld.lu.lv\" target=\"_blank\"><img src=\"../images/qworld.jpg\" width=\"25%\" align=\"left\"> </a></td>\n",
    "        <td style=\"background-color:#ffffff;vertical-align:bottom;text-align:right;\">\n",
    "            prepared by <a href=\"http://abu.lu.lv\" target=\"_blank\">Abuzer Yakaryilmaz</a> (<a href=\"http://qworld.lu.lv/index.php/qlatvia/\" target=\"_blank\">QLatvia</a>)\n",
    "        </td>        \n",
    "</tr></table>"
   ]
  },
  {
   "cell_type": "markdown",
   "metadata": {},
   "source": [
    "<table width=\"100%\"><tr><td style=\"color:#bbbbbb;background-color:#ffffff;font-size:11px;font-style:italic;text-align:right;\">This cell contains some macros. If there is a problem with displaying mathematical formulas, please run this cell to load these macros. </td></tr></table>\n",
    "$ \\newcommand{\\bra}[1]{\\langle #1|} $\n",
    "$ \\newcommand{\\ket}[1]{|#1\\rangle} $\n",
    "$ \\newcommand{\\braket}[2]{\\langle #1|#2\\rangle} $\n",
    "$ \\newcommand{\\dot}[2]{ #1 \\cdot #2} $\n",
    "$ \\newcommand{\\biginner}[2]{\\left\\langle #1,#2\\right\\rangle} $\n",
    "$ \\newcommand{\\mymatrix}[2]{\\left( \\begin{array}{#1} #2\\end{array} \\right)} $\n",
    "$ \\newcommand{\\myvector}[1]{\\mymatrix{c}{#1}} $\n",
    "$ \\newcommand{\\myrvector}[1]{\\mymatrix{r}{#1}} $\n",
    "$ \\newcommand{\\mypar}[1]{\\left( #1 \\right)} $\n",
    "$ \\newcommand{\\mybigpar}[1]{ \\Big( #1 \\Big)} $\n",
    "$ \\newcommand{\\sqrttwo}{\\frac{1}{\\sqrt{2}}} $\n",
    "$ \\newcommand{\\dsqrttwo}{\\dfrac{1}{\\sqrt{2}}} $\n",
    "$ \\newcommand{\\onehalf}{\\frac{1}{2}} $\n",
    "$ \\newcommand{\\donehalf}{\\dfrac{1}{2}} $\n",
    "$ \\newcommand{\\hadamard}{ \\mymatrix{rr}{ \\sqrttwo & \\sqrttwo \\\\ \\sqrttwo & -\\sqrttwo }} $\n",
    "$ \\newcommand{\\vzero}{\\myvector{1\\\\0}} $\n",
    "$ \\newcommand{\\vone}{\\myvector{0\\\\1}} $\n",
    "$ \\newcommand{\\stateplus}{\\myvector{ \\sqrttwo \\\\  \\sqrttwo } } $\n",
    "$ \\newcommand{\\stateminus}{ \\myrvector{ \\sqrttwo \\\\ -\\sqrttwo } } $\n",
    "$ \\newcommand{\\myarray}[2]{ \\begin{array}{#1}#2\\end{array}} $\n",
    "$ \\newcommand{\\X}{ \\mymatrix{cc}{0 & 1 \\\\ 1 & 0}  } $\n",
    "$ \\newcommand{\\I}{ \\mymatrix{rr}{1 & 0 \\\\ 0 & 1}  } $\n",
    "$ \\newcommand{\\Z}{ \\mymatrix{rr}{1 & 0 \\\\ 0 & -1}  } $\n",
    "$ \\newcommand{\\Htwo}{ \\mymatrix{rrrr}{ \\frac{1}{2} & \\frac{1}{2} & \\frac{1}{2} & \\frac{1}{2} \\\\ \\frac{1}{2} & -\\frac{1}{2} & \\frac{1}{2} & -\\frac{1}{2} \\\\ \\frac{1}{2} & \\frac{1}{2} & -\\frac{1}{2} & -\\frac{1}{2} \\\\ \\frac{1}{2} & -\\frac{1}{2} & -\\frac{1}{2} & \\frac{1}{2} } } $\n",
    "$ \\newcommand{\\CNOT}{ \\mymatrix{cccc}{1 & 0 & 0 & 0 \\\\ 0 & 1 & 0 & 0 \\\\ 0 & 0 & 0 & 1 \\\\ 0 & 0 & 1 & 0} } $\n",
    "$ \\newcommand{\\norm}[1]{ \\left\\lVert #1 \\right\\rVert } $\n",
    "$ \\newcommand{\\pstate}[1]{ \\lceil \\mspace{-1mu} #1 \\mspace{-1.5mu} \\rfloor } $"
   ]
  },
  {
   "cell_type": "markdown",
   "metadata": {},
   "source": [
    "<h2> Вероятностные состояния </h2>\n",
    "\n",
    "[Смотреть лекцию](https://youtu.be/tJjrF7WgT1g)"
   ]
  },
  {
   "cell_type": "markdown",
   "metadata": {},
   "source": [
    "Предположим, что Ася тайком бросает честную монету.\n",
    "\n",
    "Поскольку мы не видим результата, наша информация о результате будет вероятностной:\n",
    "\n",
    "$\\rightarrow$ Результат будет орел с вероятностью $ 0.5 $, а результатом будет решка с вероятностью $ 0.5 $.\n",
    "\n",
    "Если монета имеет смещение $ \\dfrac{Pr(Орел)}{Pr(Решка)} = \\dfrac{3}{1}$, то наша информация о результате будет следующей:\n",
    "\n",
    "$\\rightarrow$ Результатом будет орел с вероятностью $ 0.75 $, а результатом будет решка с вероятностью $ 0.25 $."
   ]
  },
  {
   "cell_type": "markdown",
   "metadata": {},
   "source": [
    "<i><u>Explanation</u>: The probability of getting heads is three times of the probability of getting tails.\n",
    "    <ul>\n",
    "        <li>The total probability is 1. </li>\n",
    "        <li> We divide 1 into four parts (three parts are for heads and one part is for tail),\n",
    "        <li> one part is $ \\dfrac{1}{4} = 0.25$,</li>\n",
    "        <li> and then give three parts for heads ($0.75$) and one part for tails ($0.25$).</li>\n",
    "    </ul></i>"
   ]
  },
  {
   "cell_type": "markdown",
   "metadata": {},
   "source": [
    "<h3> Перечисление вероятностей в виде столбца </h3>\n",
    "\n",
    "У нас есть два разных результата: орел (0) и решка (1).\n",
    "\n",
    "Затем мы можем использовать столбец размера 2, чтобы показать вероятности получения орла и получения решки.\n",
    "\n",
    "Для честной монеты наша информация после подбрасывания монеты будет $ \\myvector{0.5 \\\\ 0.5} $. \n",
    "\n",
    "Для предвзятой монеты это будет $ \\myvector{0.75 \\\\ 0.25} $.\n",
    "\n",
    "Первая запись показывает вероятность получения орла, а вторая запись показывает вероятность получения решки.\n",
    "\n",
    " $ \\myvector{0.5 \\\\ 0.5} $ и $ \\myvector{0.75 \\\\ 0.25} $ приведем два примера 2-мерных (столбчатых) векторов."
   ]
  },
  {
   "cell_type": "markdown",
   "metadata": {},
   "source": [
    "<h3> Задача 1 </h3>\n",
    "\n",
    "Предположим, что Бальвис тайно подбрасывает монету с уклоном $ \\dfrac{Pr(Орел)}{Pr(Решка)} = \\dfrac{1}{4}$.\n",
    "\n",
    "Представьте информацию о результате в виде вектора столбцов."
   ]
  },
  {
   "cell_type": "markdown",
   "metadata": {},
   "source": [
    "<h3> Задача 2 </h3>\n",
    "\n",
    "Предположим, что Федор тайно бросает заряженные (хитрые) кости с уклоном \n",
    "\n",
    "$$ Pr(1):Pr(2):Pr(3):Pr(4):Pr(5):Pr(6) = 7:5:4:2:6:1 . $$\n",
    "\n",
    "Представьте информацию о результате в виде вектора столбцов. Обратите внимание, что размер вашей колонки должен быть 6.\n",
    "\n",
    "Вы можете использовать python для своих вычислений."
   ]
  },
  {
   "cell_type": "code",
   "execution_count": 1,
   "metadata": {},
   "outputs": [
    {
     "name": "stdout",
     "output_type": "stream",
     "text": [
      "total is 25\n",
      "the weight of one portion is 0.04\n",
      "\n",
      "the probability of getting 1 is 0.28\n",
      "the probability of getting 2 is 0.2\n",
      "the probability of getting 3 is 0.16\n",
      "the probability of getting 4 is 0.08\n",
      "the probability of getting 5 is 0.24\n",
      "the probability of getting 6 is 0.04\n"
     ]
    }
   ],
   "source": [
    "# Все части хранятся в списке\n",
    "all_portions = [7,5,4,2,6,1];\n",
    "\n",
    "# Рассчёт общего количества порций\n",
    "total_portion = 0\n",
    "for i in range(6):\n",
    "    total_portion = total_portion + all_portions[i]\n",
    "\n",
    "print(\"total is\",total_portion)\n",
    "\n",
    "# Найдите вес одной порции\n",
    "one_portion = 1/total_portion\n",
    "print(\"the weight of one portion is\",one_portion)\n",
    "print()\n",
    "\n",
    "# Теперь мы можем рассчитать вероятности получения 1,2,3,4,5 или 6\n",
    "for i in range(6):\n",
    "    print(\"the probability of getting\",(i+1),\"is\",(one_portion*all_portions[i]))"
   ]
  },
  {
   "cell_type": "markdown",
   "metadata": {},
   "source": [
    "<h3> Векторное представление </h3>\n",
    "\n",
    "Предположим, что у нас есть система с 4 разделяемыми состояниями: $ s_1 $, $s_2 $, $s_3$, и $s_4$.  \n",
    "\n",
    "Мы ожидаем, что система в любой момент окажется в одном из них.\n",
    "\n",
    "Говоря с вероятностями, мы говорим, что система находится в одном из состояний с вероятностью 1 и в любом другом состоянии с вероятностью 0.\n",
    "\n",
    "Затем, используя наше представление столбцов, мы можем показать каждое состояние в виде вектора столбцов (используя векторы в стандартном базисе $ \\mathbb{R}^4 $):\n",
    "\n",
    "$$\n",
    "    e_1 = \\myvector{1\\\\ 0 \\\\ 0 \\\\ 0}, e_2 = \\myvector{0 \\\\ 1 \\\\ 0 \\\\ 0}, e_3 = \\myvector{0 \\\\ 0 \\\\ 1 \\\\ 0}, \n",
    "    \\mbox{ и } e_4 = \\myvector{0 \\\\ 0 \\\\ 0 \\\\ 1}.\n",
    "$$"
   ]
  },
  {
   "cell_type": "markdown",
   "metadata": {},
   "source": [
    "Это представление помогает нам представлять наши знания о системе, когда она находится в более чем одном состоянии с определенными вероятностями.\n",
    "\n",
    "Вспомните случай, когда монеты подбрасывались тайно.\n",
    "\n",
    "Например, предположим, что система находится в состояниях $ s_1 $, $ s_2 $, $ s_3 $, и $ s_4 $ с вероятностями $ 0.20 $, $ 0.25 $, $ 0.40 $, и $ 0.15 $, соответственно. \n",
    "\n",
    "(<i>Общая вероятность должна быть 1, т.е., $ 0.20+0.25+0.40+0.15 = 1.00 $</i>)\n",
    "\n",
    "Тогда мы можем сказать, что система находится в следующем вероятностном состоянии:\n",
    "\n",
    "$$ 0.20 \\cdot e_1 + 0.25 \\cdot e2 + 0.40 \\cdot e_3 + 0.15 \\cdot e4 $$\n",
    "\n",
    "$$ =  0.20 \\cdot \\myvector{1\\\\ 0 \\\\ 0 \\\\ 0} + 0.25 \\cdot \\myvector{0\\\\ 1 \\\\ 0 \\\\ 0} + 0.40 \\cdot \\myvector{0\\\\ 0 \\\\ 1 \\\\ 0} + 0.15 \\cdot  \\myvector{0\\\\ 0 \\\\ 0 \\\\ 1}  \n",
    "$$\n",
    "\n",
    "$$ = \\myvector{0.20\\\\ 0 \\\\ 0 \\\\ 0} +   \\myvector{0\\\\ 0.25 \\\\ 0 \\\\ 0} +  \\myvector{0\\\\ 0 \\\\0.40 \\\\ 0} +  \\myvector{0\\\\ 0 \\\\ 0 \\\\ 0.15 } = \\myvector{ 0.20 \\\\ 0.25 \\\\ 0.40 \\\\ 0.15 }, $$\n",
    "\n",
    "где суммирование записей должно быть равно 1."
   ]
  },
  {
   "cell_type": "markdown",
   "metadata": {},
   "source": [
    "<h3> Вероятностное состояние </h3>\n",
    "\n",
    "Вероятностное состояние - это линейная комбинация векторов в стандартном базисе. \n",
    "    \n",
    "Здесь коэффициенты (скаляры) должны удовлетворять определенным свойствам:\n",
    "<ol>\n",
    "    <li> Каждый коэффициент неотрицателен </li>\n",
    "    <li> Суммирование коэффициентов равно 1 </li>\n",
    "</ol>\n",
    "\n",
    "\n",
    "В качестве альтернативы мы можем сказать, что вероятностное состояние-это распределение вероятностей по детерминированным состояниям.\n",
    "\n",
    "Мы можем показать всю информацию как единый математический объект, который называется стохастическим вектором.\n",
    "\n",
    "<i> Заметим, что состояние любой линейной системы представляет собой линейную комбинацию векторов в базисе. </i> "
   ]
  },
  {
   "cell_type": "markdown",
   "metadata": {},
   "source": [
    "<h3> Задача 3 </h3>\n",
    "\n",
    "Для системы с 4 состояниями случайным образом создайте вероятностное состояние и распечатайте его записи, например, $ 0.16~~0.17~~0.02~~0.65 $.\n",
    "\n",
    "<i>Подсказка: Вы можете выбрать случайные числа от 0 до 100 (или 1000), а затем нормализовать каждое значение, разделив суммирование всех чисел.</i>"
   ]
  },
  {
   "cell_type": "code",
   "execution_count": 2,
   "metadata": {},
   "outputs": [
    {
     "name": "stdout",
     "output_type": "stream",
     "text": [
      "Случайные значения до нормализации [13, 31, 91, 38]\n",
      "Случайные значения после нормализации [0.07514450867052024, 0.1791907514450867, 0.5260115606936416, 0.21965317919075145]\n",
      "Суммирование - 1.0\n"
     ]
    }
   ],
   "source": [
    "# Мы случайным образом создаем вероятностное состояние\n",
    "#\n",
    "# Мы должны быть осторожны в двух вещах:\n",
    "# 1. значение вероятности должно быть от 0 до 1\n",
    "# 2. общая вероятность должна быть равна 1\n",
    "#\n",
    "\n",
    "\n",
    "# Мы используем список размера 4\n",
    "# Начальные значения - это нули\n",
    "my_state = [0,0,0,0]\n",
    "normalization_factor = 0 # Это будет суммирование четырех значений\n",
    "\n",
    "# Мы выбираем случайные значения от 0 до 100.\n",
    "from random import randrange\n",
    "while normalization_factor==0: # Мы выбираем случайные значения от 0 до 100.\n",
    "    for i in range(4):\n",
    "        my_state[i] = randrange(101) # Выберите случайное значение от 0 до (101-1).\n",
    "        normalization_factor += my_state[i]\n",
    "        \n",
    "print(\"Случайные значения до нормализации\",my_state)\n",
    "\n",
    "# Нормализация каждого значения\n",
    "for i in range(4): my_state[i] = my_state[i]/normalization_factor\n",
    "    \n",
    "print(\"Случайные значения после нормализации\",my_state)  \n",
    "\n",
    "# Поиск их суммирования\n",
    "sum = 0\n",
    "for i in range(4): sum += my_state[i]\n",
    "\n",
    "print(\"Суммирование -\",sum)"
   ]
  },
  {
   "cell_type": "markdown",
   "metadata": {},
   "source": [
    "<h3> Задача 4 [дополнительно] </h3>\n",
    "\n",
    "Как указано в подсказке для задания 3, вы можете выбрать случайные числа от 0 до $ 10^k $. Для большей точности вы можете взять большие значения $ k $.\n",
    "\n",
    "Напишите функцию, которая случайным образом создает вероятностное состояние размером $ n $ с точностью до $ k $ цифр. \n",
    "\n",
    "Проверьте свою функцию."
   ]
  },
  {
   "cell_type": "code",
   "execution_count": null,
   "metadata": {},
   "outputs": [],
   "source": [
    "#\n",
    "# your solution is here\n",
    "#\n"
   ]
  }
 ],
 "metadata": {
  "kernelspec": {
   "display_name": "Python 3",
   "language": "python",
   "name": "python3"
  },
  "language_info": {
   "codemirror_mode": {
    "name": "ipython",
    "version": 3
   },
   "file_extension": ".py",
   "mimetype": "text/x-python",
   "name": "python",
   "nbconvert_exporter": "python",
   "pygments_lexer": "ipython3",
   "version": "3.9.5"
  }
 },
 "nbformat": 4,
 "nbformat_minor": 2
}
