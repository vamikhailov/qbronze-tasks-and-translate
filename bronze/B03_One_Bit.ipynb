{
 "cells": [
  {
   "cell_type": "markdown",
   "metadata": {},
   "source": [
    "<table width=\"100%\"> <tr>\n",
    "        <td  style=\"background-color:#ffffff;\">\n",
    "            <a href=\"http://qworld.lu.lv\" target=\"_blank\"><img src=\"../images/qworld.jpg\" width=\"35%\" align=\"left\"> </a></td>\n",
    "        <td style=\"background-color:#ffffff;vertical-align:bottom;text-align:right;\">\n",
    "            prepared by Abuzer Yakaryilmaz (<a href=\"http://qworld.lu.lv/index.php/qlatvia/\" target=\"_blank\">QLatvia</a>)\n",
    "        </td>        \n",
    "</tr></table>"
   ]
  },
  {
   "cell_type": "markdown",
   "metadata": {},
   "source": [
    "<table width=\"100%\"><tr><td style=\"color:#bbbbbb;background-color:#ffffff;font-size:11px;font-style:italic;text-align:right;\">This cell contains some macros. If there is a problem with displaying mathematical formulas, please run this cell to load these macros. </td></tr></table>\n",
    "$ \\newcommand{\\bra}[1]{\\langle #1|} $\n",
    "$ \\newcommand{\\ket}[1]{|#1\\rangle} $\n",
    "$ \\newcommand{\\braket}[2]{\\langle #1|#2\\rangle} $\n",
    "$ \\newcommand{\\dot}[2]{ #1 \\cdot #2} $\n",
    "$ \\newcommand{\\biginner}[2]{\\left\\langle #1,#2\\right\\rangle} $\n",
    "$ \\newcommand{\\mymatrix}[2]{\\left( \\begin{array}{#1} #2\\end{array} \\right)} $\n",
    "$ \\newcommand{\\myvector}[1]{\\mymatrix{c}{#1}} $\n",
    "$ \\newcommand{\\myrvector}[1]{\\mymatrix{r}{#1}} $\n",
    "$ \\newcommand{\\mypar}[1]{\\left( #1 \\right)} $\n",
    "$ \\newcommand{\\mybigpar}[1]{ \\Big( #1 \\Big)} $\n",
    "$ \\newcommand{\\sqrttwo}{\\frac{1}{\\sqrt{2}}} $\n",
    "$ \\newcommand{\\dsqrttwo}{\\dfrac{1}{\\sqrt{2}}} $\n",
    "$ \\newcommand{\\onehalf}{\\frac{1}{2}} $\n",
    "$ \\newcommand{\\donehalf}{\\dfrac{1}{2}} $\n",
    "$ \\newcommand{\\hadamard}{ \\mymatrix{rr}{ \\sqrttwo & \\sqrttwo \\\\ \\sqrttwo & -\\sqrttwo }} $\n",
    "$ \\newcommand{\\vzero}{\\myvector{1\\\\0}} $\n",
    "$ \\newcommand{\\vone}{\\myvector{0\\\\1}} $\n",
    "$ \\newcommand{\\vhadamardzero}{\\myvector{ \\sqrttwo \\\\  \\sqrttwo } } $\n",
    "$ \\newcommand{\\vhadamardone}{ \\myrvector{ \\sqrttwo \\\\ -\\sqrttwo } } $\n",
    "$ \\newcommand{\\myarray}[2]{ \\begin{array}{#1}#2\\end{array}} $\n",
    "$ \\newcommand{\\X}{ \\mymatrix{cc}{0 & 1 \\\\ 1 & 0}  } $\n",
    "$ \\newcommand{\\Z}{ \\mymatrix{rr}{1 & 0 \\\\ 0 & -1}  } $\n",
    "$ \\newcommand{\\Htwo}{ \\mymatrix{rrrr}{ \\frac{1}{2} & \\frac{1}{2} & \\frac{1}{2} & \\frac{1}{2} \\\\ \\frac{1}{2} & -\\frac{1}{2} & \\frac{1}{2} & -\\frac{1}{2} \\\\ \\frac{1}{2} & \\frac{1}{2} & -\\frac{1}{2} & -\\frac{1}{2} \\\\ \\frac{1}{2} & -\\frac{1}{2} & -\\frac{1}{2} & \\frac{1}{2} } } $\n",
    "$ \\newcommand{\\CNOT}{ \\mymatrix{cccc}{1 & 0 & 0 & 0 \\\\ 0 & 1 & 0 & 0 \\\\ 0 & 0 & 0 & 1 \\\\ 0 & 0 & 1 & 0} } $\n",
    "$ \\newcommand{\\norm}[1]{ \\left\\lVert #1 \\right\\rVert } $"
   ]
  },
  {
   "cell_type": "markdown",
   "metadata": {},
   "source": [
    "<h2> Один бит </h2>\n",
    "\n",
    "[Смотреть лекцию](https://youtu.be/kn53Qvl-h28)\n",
    "\n",
    "В повседневной жизни мы используем десятичную систему счисления. Это также называется системой base-10, потому что у нас есть 10 цифр:\n",
    "\n",
    "$ 0,~1,~2,~3,~4,~5,~6,~7,~8 \\mbox{ и } 9  $.\n",
    "\n",
    "С другой стороны, в информатике широко используется двоичная система, которая имеет только две цифры:\n",
    "\n",
    "$ 0 $ и $ 1 $.\n",
    "\n",
    "Бит (или двоичная цифра) - это основная единица информации, используемая в информатике и теории информации. \n",
    "\n",
    "Его также можно рассматривать как самый маленький \"полезный\" блок памяти, который имеет два состояния с именами 0 и 1. \n",
    "\n",
    "В любой момент бит может находиться либо в состоянии 0, либо в состоянии 1."
   ]
  },
  {
   "cell_type": "markdown",
   "metadata": {},
   "source": [
    "<h3> Четыре оператора </h3>\n",
    "\n",
    "Сколько различных операторов можно определить на одном бите?\n",
    "\n",
    "<i>Оператор, в зависимости от текущего состояния бита, обновляет состояние бита (результат может быть тем же самым состоянием).</i> \n",
    "\n",
    "Мы можем применить четыре различных оператора к одному биту:\n",
    "<ol>\n",
    "    <li> IDENTITY: $ I(0) = 0 $ и $ I(1) = 1 $ </li>\n",
    "    <li> NOT: $ NOT(0) = 1 $ и $ NOT(1) = 0 $ </li>\n",
    "    <li> CONST(0): $ ZERO(0) = 0 $ и $ ZERO(1) = 0 $ </li>\n",
    "    <li> CONST(1): $ ONE(0) = 1 $ и $ ONE(1) = 1 $ </li>\n",
    "</ol>\n",
    "Первый оператор называется Identity, поскольку он не изменяет содержимое/значение бита.\n",
    "\n",
    "Второй оператор называется NOT, потому что он отрицает (переворачивает) значение бита. \n",
    "\n",
    "<i>Обратите внимание, что 0 и 1 также относятся к логическим значениям False и True соответственно, и, False - это отрицание True, а True - отрицание False.</i>\n",
    "\n",
    "Третий (соответственно, четвертый) оператор возвращает постоянное значение 0 (соответственно, 1), независимо от входных данных."
   ]
  },
  {
   "cell_type": "markdown",
   "metadata": {},
   "source": [
    "<h3> Табличное представление </h3>\n",
    "\n",
    "Мы можем представить переходы каждого оператора в виде таблицы:\n",
    "\n",
    "$\n",
    "I = \\begin{array}{lc|cc} \n",
    "    & & начальные & состояния \\\\ \n",
    "    & & \\mathbf{0} & \\mathbf{1} \\\\ \\hline \n",
    "    конченые & \\mathbf{0} & \\mbox{goes-to} & \\emptyset \\\\  \n",
    "    состояния & \\mathbf{1} & \\emptyset & \\mbox{goes-to}  \\end{array} ,\n",
    "$\n",
    "где \n",
    "- заголовок (первая строка) представляет начальные значения,\n",
    "- первый столбец представляет окончательные значения.\n",
    "\n",
    "Мы также можем определить переходы численно:\n",
    "- мы используем 1, если есть переход между двумя значениями, \n",
    "- мы используем 0, если нет перехода между двумя значениями.\n",
    "\n",
    "$\n",
    "I = \\begin{array}{lc|cc} \n",
    "    & & начальные & состояния \\\\ \n",
    "    & & \\mathbf{0} & \\mathbf{1} \\\\ \\hline \n",
    "    конченые & \\mathbf{0} & 1 & 0 \\\\  \n",
    "    состояния & \\mathbf{1} & 0 & 1  \\end{array}\n",
    "$"
   ]
  },
  {
   "cell_type": "markdown",
   "metadata": {},
   "source": [
    "Значения, выделенные полужирным шрифтом, являются начальным и конечным значениями битов. Значения, не выделенные полужирным шрифтом, представляют переходы.\n",
    "<ul>\n",
    "    <li> Верхняя левая неполужирная 1 представляет собой транзакцию $ 0 \\rightarrow 0 $. </li>\n",
    "    <li> Нижняя правая неполужирная 1 представляет собой транзакцию $ 1 \\rightarrow 1 $. </li> \n",
    "    <li> Верхний правый неполужирный 0 означает, что нет перехода от $ 1 \\mbox{ к } 0 $. </li>\n",
    "    <li> Нижний левый неполужирный 0 означает, что нет перехода от $ 0 \\mbox{ к } 1 $. </li>\n",
    "</ul>\n",
    "Читатель может подумать, что значения 0 и 1 представляют переходы как False (Выкл.) и True (Вкл.) соответственно. \n",
    "\n",
    "Аналогично, мы можем представить другие операторы, как показано ниже:\n",
    "\n",
    "$\n",
    "NOT = \\begin{array}{lc|cc} & & начальные & состояния \\\\ & & \\mathbf{0} & \\mathbf{1} \\\\ \\hline конченые & \\mathbf{0} & 0 & 1 \\\\ состояния & \\mathbf{1} & 1 & 0  \\end{array}\n",
    "$\n",
    "\n",
    "$\n",
    "ZERO = \\begin{array}{lc|cc} & & начальные & состояния \\\\ & & \\mathbf{0} & \\mathbf{1} \\\\ \\hline конченые & \\mathbf{0} & 1 & 1 \\\\ состояния & \\mathbf{1} & 0 & 0  \\end{array}\n",
    "$\n",
    "\n",
    "$\n",
    "ONE = \\begin{array}{lc|cc} & & начальные & состояния \\\\ & & \\mathbf{0} & \\mathbf{1} \\\\ \\hline конченые & \\mathbf{0} & 0 & 0 \\\\ состояния & \\mathbf{1} & 1 & 1  \\end{array}.\n",
    "$"
   ]
  },
  {
   "cell_type": "markdown",
   "metadata": {},
   "source": [
    "<h3> Задача 1 </h3>\n",
    "\n",
    "Убедитесь в правильности каждой таблицы."
   ]
  },
  {
   "cell_type": "markdown",
   "metadata": {},
   "source": [
    "<h3> Обратимость и необратимость </h3>\n",
    "\n",
    "После применения Identity или NOT-оператора мы можем легко определить начальное значение, проверив конечное значение.\n",
    "<ul>\n",
    "<li> В случае оператора идентификации мы просто говорим одно и то же значение. </li>\n",
    "<li> В случае оператора NOT мы просто говорим другое значение, т.е. если конечное значение равно 0 (соотв., 1), то мы говорим 1 (соотв., 0). </li>\n",
    "</ul>\n",
    "\n",
    "Однако мы не можем узнать начальное значение, проверив конечное значение после применения константного оператора.\n",
    "\n",
    "Основываясь на этом наблюдении, мы можем классифицировать операторы на два типа: <i>Обратимые</i> и <i>Необратимые</i>.\n",
    "<ul>\n",
    "<li> Если мы можем восстановить начальное значение(ы) из конечного значения(ов), то оператор называется обратимым, как операторы Identity и NOT. </li>\n",
    "<li> Если мы не можем отличить начальное значение(ы) от конечного значения(ов), то оператор называется необратимым, как константные операторы. </li>\n",
    "</ul>\n",
    "\n",
    "<b> Эта классификация важна, поскольку операторы квантовой эволюции обратимы </b> (до тех пор, пока система замкнута).\n",
    "\n",
    "Операторы Identity и NOT являются двумя фундаментальными квантовыми операторами."
   ]
  },
  {
   "cell_type": "code",
   "execution_count": null,
   "metadata": {},
   "outputs": [],
   "source": []
  }
 ],
 "metadata": {
  "kernelspec": {
   "display_name": "Python 3",
   "language": "python",
   "name": "python3"
  },
  "language_info": {
   "codemirror_mode": {
    "name": "ipython",
    "version": 3
   },
   "file_extension": ".py",
   "mimetype": "text/x-python",
   "name": "python",
   "nbconvert_exporter": "python",
   "pygments_lexer": "ipython3",
   "version": "3.9.5"
  }
 },
 "nbformat": 4,
 "nbformat_minor": 2
}
